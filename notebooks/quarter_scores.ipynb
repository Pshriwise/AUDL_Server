{
 "metadata": {
  "name": "",
  "signature": "sha256:e5084018b805d0457483642068121a66d3bb6f6c33c2c6826da5a93a7d9e320a"
 },
 "nbformat": 3,
 "nbformat_minor": 0,
 "worksheets": [
  {
   "cells": [
    {
     "cell_type": "code",
     "collapsed": false,
     "input": [
      "import os\n",
      "os.chdir(\"../\")"
     ],
     "language": "python",
     "metadata": {},
     "outputs": [],
     "prompt_number": 1
    },
    {
     "cell_type": "code",
     "collapsed": false,
     "input": [
      "import AUDLclasses\n",
      "import game_info"
     ],
     "language": "python",
     "metadata": {},
     "outputs": [],
     "prompt_number": 2
    },
    {
     "cell_type": "code",
     "collapsed": false,
     "input": [
      "league = AUDLclasses.League()"
     ],
     "language": "python",
     "metadata": {},
     "outputs": [],
     "prompt_number": 3
    },
    {
     "cell_type": "code",
     "collapsed": false,
     "input": [
      "league.add_teams()"
     ],
     "language": "python",
     "metadata": {},
     "outputs": [],
     "prompt_number": 4
    },
    {
     "cell_type": "code",
     "collapsed": false,
     "input": [
      "for ID,team in league.Teams.items():\n",
      "    print ID, team.full_name()\n",
      "    "
     ],
     "language": "python",
     "metadata": {},
     "outputs": [
      {
       "output_type": "stream",
       "stream": "stdout",
       "text": [
        "5182111044599808 Madison Radicals\n",
        "5638404075159552 Minnesota Wind Chill\n",
        "5684961520648192 Detroit Mechanix\n",
        "5724681378201600 Rochester Dragons\n",
        "5732910535540736 Cincinnati Revolution\n",
        "5663684521099264 Philadelphia Phoenix\n",
        "6226234774126592 Vancouver Riptide\n",
        "4868028676177920 DC Breeze\n",
        "5075454121738240 Indianapolis AlleyCats\n",
        "5753341694967808 Montreal Royal\n",
        "5648334039547904 Seattle Raptors\n",
        "5131065358286848 Toronto Rush\n",
        "5716606839685120 Salt Lake Lions\n",
        "6597766625099776 San Jose Spiders\n",
        "5094953273262080 San Francisco FlameThrowers\n",
        "6220853180104704 New York Empire\n",
        "5471866718257152 Chicago Wildfire\n"
       ]
      }
     ],
     "prompt_number": 5
    },
    {
     "cell_type": "code",
     "collapsed": false,
     "input": [
      "home_id = league.Teams[5182111044599808].Games['4/19/14'].home_id"
     ],
     "language": "python",
     "metadata": {},
     "outputs": [],
     "prompt_number": 6
    },
    {
     "cell_type": "code",
     "collapsed": false,
     "input": [
      "\n",
      "data = league.Teams[5182111044599808].Games['4/19/14'].get_game_data(home_id)\n",
      " "
     ],
     "language": "python",
     "metadata": {},
     "outputs": [],
     "prompt_number": 7
    },
    {
     "cell_type": "code",
     "collapsed": false,
     "input": [
      "game_info.get_quarter_scores(data)"
     ],
     "language": "python",
     "metadata": {},
     "outputs": [
      {
       "metadata": {},
       "output_type": "pyout",
       "prompt_number": 8,
       "text": [
        "[{u'ours': 7, u'theirs': 2},\n",
        " {u'ours': 18, u'theirs': 4},\n",
        " {u'ours': 27, u'theirs': 5},\n",
        " {u'ours': 34, u'theirs': 9}]"
       ]
      }
     ],
     "prompt_number": 8
    },
    {
     "cell_type": "code",
     "collapsed": false,
     "input": [
      "print home_id"
     ],
     "language": "python",
     "metadata": {},
     "outputs": [
      {
       "output_type": "stream",
       "stream": "stdout",
       "text": [
        "5182111044599808/game/game-52CF3E21-319B-448F-9D6E-768C127E3F75\n"
       ]
      }
     ],
     "prompt_number": 9
    },
    {
     "cell_type": "code",
     "collapsed": false,
     "input": [
      "league.Teams[5182111044599808].Games['4/19/14'].QS"
     ],
     "language": "python",
     "metadata": {},
     "outputs": [
      {
       "metadata": {},
       "output_type": "pyout",
       "prompt_number": 10,
       "text": [
        "[{'away': 2, 'home': 7},\n",
        " {'away': 4, 'home': 18},\n",
        " {'away': 5, 'home': 27},\n",
        " {'away': 9, 'home': 34}]"
       ]
      }
     ],
     "prompt_number": 10
    }
   ],
   "metadata": {}
  }
 ]
}