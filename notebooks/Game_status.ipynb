{
 "metadata": {
  "name": "Game_status"
 },
 "nbformat": 3,
 "nbformat_minor": 0,
 "worksheets": [
  {
   "cells": [
    {
     "cell_type": "code",
     "collapsed": false,
     "input": [
      "import os \n",
      "os.chdir('../')"
     ],
     "language": "python",
     "metadata": {},
     "outputs": [],
     "prompt_number": 1
    },
    {
     "cell_type": "code",
     "collapsed": false,
     "input": [
      "import AUDLclasses"
     ],
     "language": "python",
     "metadata": {},
     "outputs": [],
     "prompt_number": 2
    },
    {
     "cell_type": "code",
     "collapsed": false,
     "input": [
      "league = AUDLclasses.League()"
     ],
     "language": "python",
     "metadata": {},
     "outputs": [],
     "prompt_number": 3
    },
    {
     "cell_type": "code",
     "collapsed": false,
     "input": [
      "league.add_teams()"
     ],
     "language": "python",
     "metadata": {},
     "outputs": [
      {
       "output_type": "stream",
       "stream": "stdout",
       "text": [
        "2014-04-13\n",
        "15:42:00\n",
        "2014-04-19\n",
        "18:08:00\n",
        "2014-04-12\n",
        "19:26:00\n",
        "2014-04-13"
       ]
      },
      {
       "output_type": "stream",
       "stream": "stdout",
       "text": [
        "\n",
        "14:11:00\n",
        "2014-04-12\n",
        "18:36:00\n",
        "2014-04-19"
       ]
      },
      {
       "output_type": "stream",
       "stream": "stdout",
       "text": [
        "\n",
        "18:08:00\n",
        "2014-04-12\n",
        "18:36:00\n",
        "2014-04-12"
       ]
      },
      {
       "output_type": "stream",
       "stream": "stdout",
       "text": [
        "\n",
        "19:26:00\n",
        "2014-04-13"
       ]
      },
      {
       "output_type": "stream",
       "stream": "stdout",
       "text": [
        "\n",
        "12:00:00\n",
        "2014-04-12\n",
        "19:00:00\n",
        "2014-04-13"
       ]
      },
      {
       "output_type": "stream",
       "stream": "stdout",
       "text": [
        "\n",
        "11:00:00\n",
        "2014-04-19\n",
        "18:04:00\n",
        "2014-04-12\n",
        "18:00:00\n",
        "2014-04-12"
       ]
      },
      {
       "output_type": "stream",
       "stream": "stdout",
       "text": [
        "\n",
        "15:00:00\n",
        "2014-04-13"
       ]
      },
      {
       "output_type": "stream",
       "stream": "stdout",
       "text": [
        "\n",
        "15:42:00\n",
        "2014-04-19\n",
        "19:36:00\n",
        "2014-04-19"
       ]
      },
      {
       "output_type": "stream",
       "stream": "stdout",
       "text": [
        "\n",
        "14:30:00\n",
        "2014-04-19"
       ]
      },
      {
       "output_type": "stream",
       "stream": "stdout",
       "text": [
        "\n",
        "18:04:00\n",
        "2014-04-13"
       ]
      },
      {
       "output_type": "stream",
       "stream": "stdout",
       "text": [
        "\n",
        "12:20:00\n",
        "2014-04-19\n",
        "14:30:00\n",
        "2014-04-12\n",
        "15:00:00\n",
        "2014-04-12"
       ]
      },
      {
       "output_type": "stream",
       "stream": "stdout",
       "text": [
        "\n",
        "18:57:00\n",
        "2014-04-20\n",
        "13:05:00\n",
        "2014-04-19"
       ]
      },
      {
       "output_type": "stream",
       "stream": "stdout",
       "text": [
        "\n",
        "12:49:00\n",
        "2014-04-12\n",
        "18:57:00\n",
        "2014-04-13"
       ]
      },
      {
       "output_type": "stream",
       "stream": "stdout",
       "text": [
        "\n",
        "12:20:00\n",
        "2014-04-13"
       ]
      },
      {
       "output_type": "stream",
       "stream": "stdout",
       "text": [
        "\n",
        "14:11:00\n",
        "2014-04-19\n",
        "19:36:00\n"
       ]
      }
     ],
     "prompt_number": 4
    },
    {
     "cell_type": "code",
     "collapsed": false,
     "input": [
      "league.Teams\n"
     ],
     "language": "python",
     "metadata": {},
     "outputs": [
      {
       "output_type": "pyout",
       "prompt_number": 5,
       "text": [
        "{4868028676177920: <AUDLclasses.Team instance at 0x355a7e8>,\n",
        " 5075454121738240: <AUDLclasses.Team instance at 0x407c098>,\n",
        " 5094953273262080: <AUDLclasses.Team instance at 0x407c440>,\n",
        " 5131065358286848: <AUDLclasses.Team instance at 0x407c200>,\n",
        " 5153656886263808: <AUDLclasses.Team instance at 0x407c170>,\n",
        " 5182111044599808: <AUDLclasses.Team instance at 0x3fd8b00>,\n",
        " 5471866718257152: <AUDLclasses.Team instance at 0x355aab8>,\n",
        " 5638404075159552: <AUDLclasses.Team instance at 0x3553518>,\n",
        " 5648334039547904: <AUDLclasses.Team instance at 0x407c290>,\n",
        " 5684961520648192: <AUDLclasses.Team instance at 0x407c050>,\n",
        " 5716606839685120: <AUDLclasses.Team instance at 0x407c488>,\n",
        " 5724681378201600: <AUDLclasses.Team instance at 0x407c248>,\n",
        " 5732910535540736: <AUDLclasses.Team instance at 0x355ac68>,\n",
        " 5753341694967808: <AUDLclasses.Team instance at 0x407c128>,\n",
        " 6220853180104704: <AUDLclasses.Team instance at 0x3553f80>,\n",
        " 6226234774126592: <AUDLclasses.Team instance at 0x407c2d8>,\n",
        " 6597766625099776: <AUDLclasses.Team instance at 0x407c1b8>}"
       ]
      }
     ],
     "prompt_number": 5
    },
    {
     "cell_type": "code",
     "collapsed": false,
     "input": [],
     "language": "python",
     "metadata": {},
     "outputs": []
    }
   ],
   "metadata": {}
  }
 ]
}