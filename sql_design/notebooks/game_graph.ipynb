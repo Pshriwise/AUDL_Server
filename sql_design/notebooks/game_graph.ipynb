{
 "metadata": {
  "name": "game_graph"
 },
 "nbformat": 3,
 "nbformat_minor": 0,
 "worksheets": [
  {
   "cells": [
    {
     "cell_type": "code",
     "collapsed": false,
     "input": [
      "import urllib2, json\n",
      "from matplotlib.collections import LineCollection\n",
      "from matplotlib import pyplot\n"
     ],
     "language": "python",
     "metadata": {},
     "outputs": [],
     "prompt_number": 1
    },
    {
     "cell_type": "code",
     "collapsed": false,
     "input": [
      "#req = urllib2.Request('http://www.ultimate-numbers.com/rest/view/team/206001/game/game-B2DC21A6-916E-449C-9D16-B03132F7537D')\n",
      "req = urllib2.Request('http://www.ultimate-numbers.com/rest/view/team/224002/game/game-121B68F4-7837-4735-B323-5AEAB486054D')\n",
      "#req = urllib2.Request('http://www.ultimate-numbers.com/rest/view/team/207003/game/game-F78A44D0-A5F7-47BA-9654-827E615744F3')\n",
      "response = urllib2.urlopen(req)\n",
      "data = json.loads(response.read())"
     ],
     "language": "python",
     "metadata": {},
     "outputs": [],
     "prompt_number": 2
    },
    {
     "cell_type": "code",
     "collapsed": false,
     "input": [
      "points = json.loads(data['pointsJson'])\n",
      "\n"
     ],
     "language": "python",
     "metadata": {},
     "outputs": [],
     "prompt_number": 3
    },
    {
     "cell_type": "code",
     "collapsed": false,
     "input": [
      "points[0]['events']"
     ],
     "language": "python",
     "metadata": {},
     "outputs": [
      {
       "output_type": "pyout",
       "prompt_number": 4,
       "text": [
        "[{u'action': u'Pull',\n",
        "  u'defender': u'Animal',\n",
        "  u'details': {u'hangtime': 6435},\n",
        "  u'timestamp': 390081704.0,\n",
        "  u'type': u'Defense'},\n",
        " {u'action': u'Throwaway',\n",
        "  u'defender': u'Anonymous',\n",
        "  u'timestamp': 390081709.0,\n",
        "  u'type': u'Defense'},\n",
        " {u'action': u'Catch',\n",
        "  u'passer': u'Animal',\n",
        "  u'receiver': u'Kevin B',\n",
        "  u'timestamp': 390081718.0,\n",
        "  u'type': u'Offense'},\n",
        " {u'action': u'Goal',\n",
        "  u'passer': u'Kevin B',\n",
        "  u'receiver': u'Benjy K',\n",
        "  u'timestamp': 390081721.0,\n",
        "  u'type': u'Offense'}]"
       ]
      }
     ],
     "prompt_number": 4
    },
    {
     "cell_type": "code",
     "collapsed": false,
     "input": [
      "start_time = points[0]['events'][0]['timestamp']\n",
      "print start_time"
     ],
     "language": "python",
     "metadata": {},
     "outputs": [
      {
       "output_type": "stream",
       "stream": "stdout",
       "text": [
        "390081704.0\n"
       ]
      }
     ],
     "prompt_number": 5
    },
    {
     "cell_type": "code",
     "collapsed": false,
     "input": [
      "xvals=[0]\n",
      "ourscores=[0]\n",
      "theirscores=[0]"
     ],
     "language": "python",
     "metadata": {},
     "outputs": [],
     "prompt_number": 6
    },
    {
     "cell_type": "code",
     "collapsed": false,
     "input": [],
     "language": "python",
     "metadata": {},
     "outputs": [],
     "prompt_number": 6
    },
    {
     "cell_type": "code",
     "collapsed": false,
     "input": [
      "for point in points:\n",
      "    events = point['events']\n",
      "    for event in events:\n",
      "        if event['action'] == \"Goal\":\n",
      "            xvals.append(event['timestamp']-start_time)\n",
      "            ourscores.append(point['summary']['score']['ours'])\n",
      "            theirscores.append(point['summary']['score']['theirs'])\n",
      "    \n",
      "            "
     ],
     "language": "python",
     "metadata": {},
     "outputs": [],
     "prompt_number": 7
    },
    {
     "cell_type": "code",
     "collapsed": false,
     "input": [
      "xvals = [float(x)/float(xvals[-1]) for x in xvals]\n",
      "print len(xvals)\n",
      "print len(ourscores)\n",
      "print len(theirscores)\n",
      "#xvals=range(len(ourscores))"
     ],
     "language": "python",
     "metadata": {},
     "outputs": [
      {
       "output_type": "stream",
       "stream": "stdout",
       "text": [
        "32\n",
        "32\n",
        "32\n"
       ]
      }
     ],
     "prompt_number": 8
    },
    {
     "cell_type": "code",
     "collapsed": false,
     "input": [
      "ourxpoints=[0]\n",
      "theirxpoints=[0]\n",
      "ourpoints=[0]\n",
      "theirpoints=[0]\n",
      "for i in range(1,len(xvals)-1):\n",
      "    if ourscores[i] > ourscores[i-1]:\n",
      "        ourpoints.append(ourscores[i])\n",
      "        ourxpoints.append(xvals[i])\n",
      "    if theirscores[i] > theirscores[i-1]:\n",
      "        theirpoints.append(theirscores[i])\n",
      "        theirxpoints.append(xvals[i])\n",
      "        "
     ],
     "language": "python",
     "metadata": {},
     "outputs": [],
     "prompt_number": 9
    },
    {
     "cell_type": "code",
     "collapsed": false,
     "input": [
      "def team_id_to_name(team_id):\n",
      "    base_url='http://www.ultimate-numbers.com/rest/view'\n",
      "    req = urllib2.Request(base_url+\"/team/\"+str(team_id))\n",
      "    response = urllib2.urlopen(req)\n",
      "    data = json.loads(response.read())\n",
      "    return data['name']"
     ],
     "language": "python",
     "metadata": {},
     "outputs": [],
     "prompt_number": 10
    },
    {
     "cell_type": "code",
     "collapsed": false,
     "input": [
      "pyplot.plot(xvals,ourscores,'b--',xvals,theirscores,'r--', zorder=2)\n",
      "pyplot.plot(ourxpoints,ourpoints,'bo',theirxpoints,theirpoints,'ro', zorder=2, ms=4)\n",
      "away_team = data['opponentName']\n",
      "home_team = team_id_to_name(data['teamId'])\n",
      "legend = pyplot.legend((home_team,away_team),loc=2, frameon = 1)\n",
      "pyplot.ylabel('Points')\n",
      "pyplot.xlabel('Game Time')\n",
      "img = pyplot.imread('gradient1_003_thumb.png')\n",
      "fig = pyplot.imshow(img,origin='lower', zorder=0, extent=pyplot.axis())\n",
      "#fig.axes.get_xaxis().set_visible(False)\n",
      "fig.axes.get_xaxis().set_ticks([])\n",
      "pyplot.axis('normal')\n",
      "#legend = pyplot.legend(frameon = 0)\n",
      "frame = legend.get_frame()\n",
      "frame.set_alpha(0.2)\n",
      "pyplot.grid(b=True, which='major', axis='y', color='0.65',linestyle='-', zorder=1)\n",
      "\n"
     ],
     "language": "python",
     "metadata": {},
     "outputs": [],
     "prompt_number": 11
    },
    {
     "cell_type": "code",
     "collapsed": false,
     "input": [
      "pyplot.show()"
     ],
     "language": "python",
     "metadata": {},
     "outputs": [],
     "prompt_number": 12
    },
    {
     "cell_type": "code",
     "collapsed": false,
     "input": [],
     "language": "python",
     "metadata": {},
     "outputs": [],
     "prompt_number": 12
    },
    {
     "cell_type": "code",
     "collapsed": false,
     "input": [],
     "language": "python",
     "metadata": {},
     "outputs": [],
     "prompt_number": 12
    }
   ],
   "metadata": {}
  }
 ]
}