{
 "metadata": {
  "name": "2014_Teams"
 },
 "nbformat": 3,
 "nbformat_minor": 0,
 "worksheets": [
  {
   "cells": [
    {
     "cell_type": "code",
     "collapsed": false,
     "input": [
      "import os\n",
      "os.chdir('../')"
     ],
     "language": "python",
     "metadata": {},
     "outputs": [],
     "prompt_number": 1
    },
    {
     "cell_type": "code",
     "collapsed": false,
     "input": [
      "import AUDLclasses"
     ],
     "language": "python",
     "metadata": {},
     "outputs": [],
     "prompt_number": 2
    },
    {
     "cell_type": "code",
     "collapsed": false,
     "input": [
      "AUDL=AUDLclasses.League()"
     ],
     "language": "python",
     "metadata": {},
     "outputs": [],
     "prompt_number": 3
    },
    {
     "cell_type": "code",
     "collapsed": false,
     "input": [
      "AUDL.add_teams(stats=False)"
     ],
     "language": "python",
     "metadata": {},
     "outputs": [
      {
       "output_type": "stream",
       "stream": "stdout",
       "text": [
        "San Jose Spiders Salt Lake Lions  4/20/14\n",
        "San Jose Spiders Salt Lake Lions  6/28/14\n",
        "San Jose Spiders Vancouver Riptide  5/31/14\n",
        "San Jose Spiders Seattle Raptors  5/3/14\n",
        "San Jose Spiders Seattle Raptors  6/15/14\n",
        "San Francisco FlameThrowers  San Jose Spiders 4/12/14\n",
        "Salt Lake Lions  San Jose Spiders 4/20/14\n",
        "Seattle Raptors  San Jose Spiders 5/3/14\n",
        "Vancouver Riptide  San Jose Spiders 5/31/14\n",
        "San Francisco FlameThrowers  San Jose Spiders 6/7/14\n",
        "Seattle Raptors  San Jose Spiders 6/15/14\n",
        "Salt Lake Lions  San Jose Spiders 6/28/14\n",
        "San Jose Spiders San Francisco FlameThrowers  4/12/14\n",
        "San Jose Spiders San Francisco FlameThrowers  6/7/14\n"
       ]
      }
     ],
     "prompt_number": 4
    },
    {
     "cell_type": "code",
     "collapsed": false,
     "input": [
      "print len(AUDL.Teams)"
     ],
     "language": "python",
     "metadata": {},
     "outputs": [
      {
       "output_type": "stream",
       "stream": "stdout",
       "text": [
        "17\n"
       ]
      }
     ],
     "prompt_number": 5
    },
    {
     "cell_type": "code",
     "collapsed": false,
     "input": [
      "n = 1\n",
      "for team in AUDL.Teams:\n",
      "    print n, AUDL.Teams[team].full_name(), len(AUDL.Teams[team].Games), len(AUDL.Teams[team].Players)\n",
      "    n+=1"
     ],
     "language": "python",
     "metadata": {},
     "outputs": [
      {
       "output_type": "stream",
       "stream": "stdout",
       "text": [
        "1 Madison Radicals 14 28\n",
        "2 Minnesota Wind Chill 14 36\n",
        "3 Detroit Mechanix 14 20\n",
        "4 Rochester Dragons 14 27\n",
        "5 Cincinnati Revolution 14 33\n",
        "6 Salt Lake Lions 14 28\n",
        "7 Vancouver Riptide 14 25\n",
        "8 DC Breeze 14 28\n",
        "9 Indianapolis AlleyCats 14 28\n",
        "10 Montreal Royal 14 28\n",
        "11 Seattle Raptors 14 25\n",
        "12 Toronto Rush 14 27\n",
        "13 Philadelphia Phoenix 14 28\n",
        "14 San Jose Spiders 7 27\n",
        "15 San Francisco FlameThrowers 15 25\n",
        "16 New York Empire 14 16\n",
        "17 Chicago Wildfire 14 27\n"
       ]
      }
     ],
     "prompt_number": 6
    },
    {
     "cell_type": "code",
     "collapsed": false,
     "input": [
      "AUDL.Teams"
     ],
     "language": "python",
     "metadata": {},
     "outputs": [
      {
       "output_type": "pyout",
       "prompt_number": 7,
       "text": [
        "{4868028676177920: <AUDLclasses.Team instance at 0x233ecb0>,\n",
        " 5075454121738240: <AUDLclasses.Team instance at 0x233ee60>,\n",
        " 5094953273262080: <AUDLclasses.Team instance at 0x233eb00>,\n",
        " 5131065358286848: <AUDLclasses.Team instance at 0x233eab8>,\n",
        " 5153656886263808: <AUDLclasses.Team instance at 0x233ec20>,\n",
        " 5182111044599808: <AUDLclasses.Team instance at 0x233eb48>,\n",
        " 5471866718257152: <AUDLclasses.Team instance at 0x233ebd8>,\n",
        " 5638404075159552: <AUDLclasses.Team instance at 0x233e050>,\n",
        " 5648334039547904: <AUDLclasses.Team instance at 0x233e950>,\n",
        " 5684961520648192: <AUDLclasses.Team instance at 0x233ee18>,\n",
        " 5716606839685120: <AUDLclasses.Team instance at 0x233e6c8>,\n",
        " 5724681378201600: <AUDLclasses.Team instance at 0x233e7e8>,\n",
        " 5732910535540736: <AUDLclasses.Team instance at 0x233eb90>,\n",
        " 5753341694967808: <AUDLclasses.Team instance at 0x233e5a8>,\n",
        " 6220853180104704: <AUDLclasses.Team instance at 0x233ed88>,\n",
        " 6226234774126592: <AUDLclasses.Team instance at 0x233e7a0>,\n",
        " 6597766625099776: <AUDLclasses.Team instance at 0x233ef38>}"
       ]
      }
     ],
     "prompt_number": 7
    },
    {
     "cell_type": "code",
     "collapsed": false,
     "input": [
      "A=\"\"\n",
      "AUDL.Teams[5094953273262080].add_player_info(A)"
     ],
     "language": "python",
     "metadata": {},
     "outputs": [
      {
       "output_type": "stream",
       "stream": "stdout",
       "text": [
        "http://www.ultimate-numbers.com/rest/view/team/5094953273262080/players/\n"
       ]
      }
     ],
     "prompt_number": 8
    },
    {
     "cell_type": "code",
     "collapsed": false,
     "input": [
      "AUDL.Teams[5075454121738240].add_player_info(A)"
     ],
     "language": "python",
     "metadata": {},
     "outputs": [
      {
       "output_type": "stream",
       "stream": "stdout",
       "text": [
        "http://www.ultimate-numbers.com/rest/view/team/5075454121738240/players/\n"
       ]
      }
     ],
     "prompt_number": 9
    },
    {
     "cell_type": "code",
     "collapsed": false,
     "input": [
      "AUDL.Teams[5075454121738240].Players['Ben Gerroll'].Number\n"
     ],
     "language": "python",
     "metadata": {},
     "outputs": [
      {
       "output_type": "pyout",
       "prompt_number": 10,
       "text": [
        "11"
       ]
      }
     ],
     "prompt_number": 10
    },
    {
     "cell_type": "code",
     "collapsed": false,
     "input": [
      "dir(AUDL.Teams[5075454121738240].Players['Ben Gerroll'])"
     ],
     "language": "python",
     "metadata": {},
     "outputs": [
      {
       "output_type": "pyout",
       "prompt_number": 11,
       "text": [
        "['Age',\n",
        " 'First_name',\n",
        " 'Height',\n",
        " 'Last_name',\n",
        " 'Number',\n",
        " 'Stats',\n",
        " 'Weight',\n",
        " '__doc__',\n",
        " '__init__',\n",
        " '__module__',\n",
        " 'stat_name']"
       ]
      }
     ],
     "prompt_number": 11
    },
    {
     "cell_type": "code",
     "collapsed": false,
     "input": [
      "AUDL.Teams[5075454121738240].Players['Ben Gerroll'].stat_name"
     ],
     "language": "python",
     "metadata": {},
     "outputs": [
      {
       "output_type": "pyout",
       "prompt_number": 13,
       "text": [
        "u'Ben'"
       ]
      }
     ],
     "prompt_number": 13
    },
    {
     "cell_type": "code",
     "collapsed": false,
     "input": [
      "AUDL.return_schedules()\n"
     ],
     "language": "python",
     "metadata": {},
     "outputs": [
      {
       "output_type": "pyout",
       "prompt_number": 17,
       "text": [
        "[['Western',\n",
        "  [(u'San Francisco FlameThrowers',\n",
        "    5094953273262080,\n",
        "    u'San Jose Spiders',\n",
        "    6597766625099776,\n",
        "    u'4/12/14',\n",
        "    u'7:00 PM PST'),\n",
        "   (u'Vancouver Riptide',\n",
        "    6226234774126592,\n",
        "    u'Salt Lake Lions',\n",
        "    5716606839685120,\n",
        "    u'4/12/14',\n",
        "    u'7:00 PM MST'),\n",
        "   (u'Vancouver Riptide',\n",
        "    6226234774126592,\n",
        "    u'Salt Lake Lions',\n",
        "    5716606839685120,\n",
        "    u'4/13/14',\n",
        "    u'12:00 PM MST'),\n",
        "   (u'Seattle Raptors',\n",
        "    5648334039547904,\n",
        "    u'Vancouver Riptide',\n",
        "    6226234774126592,\n",
        "    u'4/19/14',\n",
        "    u'7:00 PM PST'),\n",
        "   (u'Salt Lake Lions',\n",
        "    5716606839685120,\n",
        "    u'San Francisco FlameThrowers',\n",
        "    5094953273262080,\n",
        "    u'4/19/14',\n",
        "    u'1:00 PM PST'),\n",
        "   (u'Salt Lake Lions',\n",
        "    5716606839685120,\n",
        "    u'San Jose Spiders',\n",
        "    6597766625099776,\n",
        "    u'4/20/14',\n",
        "    u'1:00 PM PST'),\n",
        "   (u'San Francisco FlameThrowers',\n",
        "    5094953273262080,\n",
        "    u'Seattle Raptors',\n",
        "    5648334039547904,\n",
        "    u'4/26/14',\n",
        "    u'5:00 PM PST'),\n",
        "   (u'San Francisco FlameThrowers',\n",
        "    5094953273262080,\n",
        "    u'Salt Lake Lions',\n",
        "    5716606839685120,\n",
        "    u'4/26/14',\n",
        "    u'6:00 PM MST'),\n",
        "   (u'San Francisco FlameThrowers',\n",
        "    5094953273262080,\n",
        "    u'Vancouver Riptide',\n",
        "    6226234774126592,\n",
        "    u'4/27/14',\n",
        "    u'1:00 PM PST')]],\n",
        " ['Midwestern',\n",
        "  [(u'Madison Radicals',\n",
        "    5182111044599808,\n",
        "    u'Cincinnati Revolution',\n",
        "    5732910535540736,\n",
        "    u'4/12/14',\n",
        "    u'7:30 PM EST'),\n",
        "   (u'Minnesota Wind Chill',\n",
        "    5638404075159552,\n",
        "    u'Detroit Mechanix',\n",
        "    5684961520648192,\n",
        "    u'4/12/14',\n",
        "    u'7:30 PM EST'),\n",
        "   (u'Madison Radicals',\n",
        "    5182111044599808,\n",
        "    u'Indianapolis AlleyCats',\n",
        "    5075454121738240,\n",
        "    u'4/13/14',\n",
        "    u'3:30 PM EST'),\n",
        "   (u'Minnesota Wind Chill',\n",
        "    5638404075159552,\n",
        "    u'Chicago Wildfire',\n",
        "    5471866718257152,\n",
        "    u'4/13/14',\n",
        "    u'2:00 PM CST'),\n",
        "   (u'Chicago Wildfire',\n",
        "    5471866718257152,\n",
        "    u'Cincinnati Revolution',\n",
        "    5732910535540736,\n",
        "    u'4/18/14',\n",
        "    u'8:30 PM EST'),\n",
        "   (u'Madison Radicals',\n",
        "    5182111044599808,\n",
        "    u'Detroit Mechanix',\n",
        "    5684961520648192,\n",
        "    u'4/19/14',\n",
        "    u'12:00 AM EST'),\n",
        "   (u'Chicago Wildfire',\n",
        "    5471866718257152,\n",
        "    u'Indianapolis AlleyCats',\n",
        "    5075454121738240,\n",
        "    u'4/19/14',\n",
        "    u'7:30 PM EST'),\n",
        "   (u'Madison Radicals',\n",
        "    5182111044599808,\n",
        "    u'Minnesota Wind Chill',\n",
        "    5638404075159552,\n",
        "    u'4/25/14',\n",
        "    u'7:00 PM CST'),\n",
        "   (u'Cincinnati Revolution',\n",
        "    5732910535540736,\n",
        "    u'Chicago Wildfire',\n",
        "    5471866718257152,\n",
        "    u'4/26/14',\n",
        "    u'7:00 PM CST'),\n",
        "   (u'Indianapolis AlleyCats',\n",
        "    5075454121738240,\n",
        "    u'Detroit Mechanix',\n",
        "    5684961520648192,\n",
        "    u'4/26/14',\n",
        "    u'12:00 AM EST')]],\n",
        " ['Eastern',\n",
        "  [(u'Toronto Rush',\n",
        "    5131065358286848,\n",
        "    u'DC Breeze',\n",
        "    4868028676177920,\n",
        "    u'4/12/14',\n",
        "    u'3:00 PM EST'),\n",
        "   (u'Rochester Dragons',\n",
        "    5724681378201600,\n",
        "    u'Philadelphia Phoenix',\n",
        "    5153656886263808,\n",
        "    u'4/12/14',\n",
        "    u'TBD EST'),\n",
        "   (u'Toronto Rush',\n",
        "    5131065358286848,\n",
        "    u'New York Empire',\n",
        "    6220853180104704,\n",
        "    u'4/13/14',\n",
        "    u'12:00 PM EST'),\n",
        "   (u'Toronto Rush',\n",
        "    5131065358286848,\n",
        "    u'Montreal Royal',\n",
        "    1234,\n",
        "    u'4/19/14',\n",
        "    u'2:30 PM EST'),\n",
        "   (u'Rochester Dragons',\n",
        "    5724681378201600,\n",
        "    u'New York Empire',\n",
        "    6220853180104704,\n",
        "    u'4/26/14',\n",
        "    u'1:00 PM EST'),\n",
        "   (u'Rochester Dragons',\n",
        "    5724681378201600,\n",
        "    u'DC Breeze',\n",
        "    4868028676177920,\n",
        "    u'4/27/14',\n",
        "    u'6:00 PM EST')]]]"
       ]
      }
     ],
     "prompt_number": 17
    },
    {
     "cell_type": "code",
     "collapsed": false,
     "input": [
      "dir(AUDL)"
     ],
     "language": "python",
     "metadata": {},
     "outputs": [
      {
       "output_type": "pyout",
       "prompt_number": 15,
       "text": [
        "['Android_users',\n",
        " 'Apple_users',\n",
        " 'Divisions',\n",
        " 'RSS_feeds',\n",
        " 'Teams',\n",
        " 'This_week',\n",
        " 'Top_fives',\n",
        " 'Video_feeds',\n",
        " 'Videos',\n",
        " '__doc__',\n",
        " '__init__',\n",
        " '__module__',\n",
        " 'add_teams',\n",
        " 'get_news',\n",
        " 'get_stats_league',\n",
        " 'get_top_fives',\n",
        " 'get_videos',\n",
        " 'league_game_exist',\n",
        " 'name_to_id',\n",
        " 'news_page_info',\n",
        " 'return_schedules',\n",
        " 'return_scores_page',\n",
        " 'return_upcoming_games',\n",
        " 'team_list',\n",
        " 'top_five_league']"
       ]
      }
     ],
     "prompt_number": 15
    },
    {
     "cell_type": "code",
     "collapsed": false,
     "input": [],
     "language": "python",
     "metadata": {},
     "outputs": []
    }
   ],
   "metadata": {}
  }
 ]
}