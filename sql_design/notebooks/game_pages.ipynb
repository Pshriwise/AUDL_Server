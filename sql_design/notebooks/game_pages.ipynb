{
 "metadata": {
  "name": "game_pages"
 },
 "nbformat": 3,
 "nbformat_minor": 0,
 "worksheets": [
  {
   "cells": [
    {
     "cell_type": "code",
     "collapsed": false,
     "input": [
      "import os\n",
      "os.chdir(\"../\")"
     ],
     "language": "python",
     "metadata": {},
     "outputs": [],
     "prompt_number": 1
    },
    {
     "cell_type": "code",
     "collapsed": false,
     "input": [
      "import AUDLclasses"
     ],
     "language": "python",
     "metadata": {},
     "outputs": [],
     "prompt_number": 2
    },
    {
     "cell_type": "code",
     "collapsed": false,
     "input": [
      "league = AUDLclasses.League()"
     ],
     "language": "python",
     "metadata": {},
     "outputs": [],
     "prompt_number": 3
    },
    {
     "cell_type": "code",
     "collapsed": false,
     "input": [
      "league.add_teams()"
     ],
     "language": "python",
     "metadata": {},
     "outputs": [],
     "prompt_number": 4
    },
    {
     "cell_type": "code",
     "collapsed": false,
     "input": [
      "for ID,team in league.Teams.items():\n",
      "    print ID, team.full_name()\n",
      "    "
     ],
     "language": "python",
     "metadata": {},
     "outputs": [
      {
       "output_type": "stream",
       "stream": "stdout",
       "text": [
        "5182111044599808 Madison Radicals\n",
        "5638404075159552 Minnesota Wind Chill\n",
        "5684961520648192 Detroit Mechanix\n",
        "5724681378201600 Rochester Dragons\n",
        "5732910535540736 Cincinnati Revolution\n",
        "5716606839685120 Salt Lake Lions\n",
        "6226234774126592 Vancouver Riptide\n",
        "4868028676177920 DC Breeze\n",
        "5075454121738240 Indianapolis AlleyCats\n",
        "5753341694967808 Montreal Royal\n",
        "5648334039547904 Seattle Raptors\n",
        "5131065358286848 Toronto Rush\n",
        "5153656886263808 Philadelphia Phoenix\n",
        "6597766625099776 San Jose Spiders\n",
        "5094953273262080 San Francisco FlameThrowers\n",
        "6220853180104704 New York Empire\n",
        "5471866718257152 Chicago Wildfire\n"
       ]
      }
     ],
     "prompt_number": 5
    },
    {
     "cell_type": "code",
     "collapsed": false,
     "input": [
      "league.Teams[5182111044599808].Games['4/19/14'].home_id"
     ],
     "language": "python",
     "metadata": {},
     "outputs": [
      {
       "output_type": "pyout",
       "prompt_number": 6,
       "text": [
        "u'5182111044599808/game/game-8ECA8C1D-6968-4FD0-A361-DE4EFF20203D'"
       ]
      }
     ],
     "prompt_number": 6
    },
    {
     "cell_type": "code",
     "collapsed": false,
     "input": [
      "league.Teams[5182111044599808].Games['4/19/14'].stat_info()"
     ],
     "language": "python",
     "metadata": {},
     "outputs": [
      {
       "output_type": "pyout",
       "prompt_number": 7,
       "text": [
        "[[('Goals', u'David S', 4),\n",
        "  ('Assists', u'Tom A', 4),\n",
        "  ('Drops', u'Dave W', 1),\n",
        "  ('Throwaways', u'Dave W', 4),\n",
        "  ('Ds', u'Andrew M', 5)],\n",
        " [('Goals', 'N/A', 0),\n",
        "  ('Assists', 'N/A', 0),\n",
        "  ('Drops', 'N/A', 0),\n",
        "  ('Throwaways', 'N/A', 0),\n",
        "  ('Ds', 'N/A', 0)]]"
       ]
      }
     ],
     "prompt_number": 7
    },
    {
     "cell_type": "code",
     "collapsed": false,
     "input": [
      "for ID,team in league.Teams.items():\n",
      "    for date,game in team.Games.items():\n",
      "        if hasattr(game,'away_id') and hasattr(game,'home_id'):\n",
      "            print ID, team, date, game"
     ],
     "language": "python",
     "metadata": {},
     "outputs": [
      {
       "output_type": "stream",
       "stream": "stdout",
       "text": [
        "5716606839685120 <AUDLclasses.Team instance at 0x344c560> 4/13/14 <AUDLclasses.Game instance at 0x3432560>\n",
        "5716606839685120 <AUDLclasses.Team instance at 0x344c560> 4/12/14 <AUDLclasses.Game instance at 0x3432518>\n",
        "6226234774126592 <AUDLclasses.Team instance at 0x344c3b0> 4/13/14 <AUDLclasses.Game instance at 0x3432560>\n",
        "6226234774126592 <AUDLclasses.Team instance at 0x344c3b0> 4/12/14 <AUDLclasses.Game instance at 0x3432518>\n"
       ]
      }
     ],
     "prompt_number": 8
    },
    {
     "cell_type": "code",
     "collapsed": false,
     "input": [
      "print league.Teams[5716606839685120].Games['4/13/14'].home_id\n",
      "print league.Teams[5716606839685120].Games['4/13/14'].away_id\n"
     ],
     "language": "python",
     "metadata": {},
     "outputs": [
      {
       "output_type": "stream",
       "stream": "stdout",
       "text": [
        "6226234774126592/game/game-4B0755B1-E6BE-49B5-9630-86AD757EAC74\n",
        "5716606839685120/game/game-FDD6BBD8-9486-4187-8D73-2080DF2B0E29\n"
       ]
      }
     ],
     "prompt_number": 9
    },
    {
     "cell_type": "code",
     "collapsed": false,
     "input": [
      "league.Teams[5716606839685120].Games['4/13/14'].stat_info()"
     ],
     "language": "python",
     "metadata": {},
     "outputs": [
      {
       "output_type": "stream",
       "stream": "stdout",
       "text": [
        "['No information available']\n"
       ]
      },
      {
       "output_type": "pyout",
       "prompt_number": 10,
       "text": [
        "[[('Goals', u'Derek F', 6),\n",
        "  ('Assists', u'Derek F', 5),\n",
        "  ('Drops', 'N/A', 0),\n",
        "  ('Throwaways', u'Will V', 7),\n",
        "  ('Ds', u'Mads G', 3)],\n",
        " [('Goals', 'N/A', 0),\n",
        "  ('Assists', 'N/A', 0),\n",
        "  ('Drops', 'N/A', 0),\n",
        "  ('Throwaways', 'N/A', 0),\n",
        "  ('Ds', 'N/A', 0)]]"
       ]
      }
     ],
     "prompt_number": 10
    },
    {
     "cell_type": "code",
     "collapsed": false,
     "input": [
      " "
     ],
     "language": "python",
     "metadata": {},
     "outputs": [],
     "prompt_number": 10
    }
   ],
   "metadata": {}
  }
 ]
}