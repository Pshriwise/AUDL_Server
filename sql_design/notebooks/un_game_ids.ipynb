{
 "metadata": {
  "name": "un_game_ids"
 },
 "nbformat": 3,
 "nbformat_minor": 0,
 "worksheets": [
  {
   "cells": [
    {
     "cell_type": "code",
     "collapsed": false,
     "input": [
      "import os\n",
      "os.chdir(\"../\")\n",
      "import AUDLclasses"
     ],
     "language": "python",
     "metadata": {},
     "outputs": [],
     "prompt_number": 1
    },
    {
     "cell_type": "code",
     "collapsed": false,
     "input": [
      "AUDL = AUDLclasses.League()\n"
     ],
     "language": "python",
     "metadata": {},
     "outputs": [],
     "prompt_number": 2
    },
    {
     "cell_type": "code",
     "collapsed": false,
     "input": [
      "AUDL.add_teams()\n"
     ],
     "language": "python",
     "metadata": {},
     "outputs": [
      {
       "output_type": "stream",
       "stream": "stdout",
       "text": [
        "http://www.ultimate-numbers.com/rest/view/team/5182111044599808/games\n",
        "[]"
       ]
      },
      {
       "output_type": "stream",
       "stream": "stdout",
       "text": [
        "\n",
        "[]\n",
        "[]\n",
        "[]\n",
        "[]\n",
        "[]\n",
        "[]\n",
        "[]\n",
        "[]\n",
        "[]\n",
        "[]\n",
        "[]\n",
        "[]\n",
        "[]\n",
        "http://www.ultimate-numbers.com/rest/view/team/5638404075159552/games"
       ]
      },
      {
       "output_type": "stream",
       "stream": "stdout",
       "text": [
        "\n",
        "[]"
       ]
      },
      {
       "output_type": "stream",
       "stream": "stdout",
       "text": [
        "\n",
        "[]\n",
        "[]\n",
        "[]\n",
        "[]\n",
        "[]\n",
        "[]\n",
        "[]\n",
        "[]\n",
        "[]\n",
        "[]\n",
        "[]\n",
        "[]\n",
        "[]\n",
        "http://www.ultimate-numbers.com/rest/view/team/5684961520648192/games"
       ]
      },
      {
       "output_type": "stream",
       "stream": "stdout",
       "text": [
        "\n",
        "[]"
       ]
      },
      {
       "output_type": "stream",
       "stream": "stdout",
       "text": [
        "\n",
        "[]\n",
        "[]\n",
        "[]\n",
        "[]\n",
        "[]\n",
        "[]\n",
        "[]\n",
        "[]\n",
        "[]\n",
        "[]\n",
        "[]\n",
        "[]\n",
        "[]\n",
        "http://www.ultimate-numbers.com/rest/view/team/5724681378201600/games"
       ]
      },
      {
       "output_type": "stream",
       "stream": "stdout",
       "text": [
        "\n",
        "[{u'gameId': u'game-A76C14E4-1A0E-4A04-9633-AD69BEFCFCD1', u'gamePoint': 1000, u'timeoutDetailsJson': u'{\"takenSecondHalf\":0,\"quotaPerHalf\":2,\"takenFirstHalf\":0,\"quotaFloaters\":0}', u'theirs': 0, u'firstPointOline': False, u'opponentName': u'New York Empire', u'msSinceEpoch': 0, u'teamId': u'5724681378201600', u'leaguevineJson': u'{\"timezoneOffset\":-300,\"id\":97590,\"team2Name\":\"New York Empire\",\"team_1_id\":22642,\"timezone\":\"US\\\\/Central\",\"team_2_id\":22640,\"team1Name\":\"Rochester Dragons\",\"start_time\":\"2013-07-06T19:30:00-05:00\"}', u'ours': 0, u'wind': {u'degrees': -1, u'leftToRight': True, u'mph': 0}}, {u'gameId': u'game-25183EE4-B00B-4BD5-B5ED-71A70E0F2640', u'gamePoint': 1000, u'timeoutDetailsJson': u'{\"takenSecondHalf\":1,\"quotaPerHalf\":2,\"takenFirstHalf\":1,\"quotaFloaters\":0}', u'leaguevineJson': u'{\"timezoneOffset\":-240,\"id\":97544,\"team2Name\":\"Rochester Dragons\",\"team_1_id\":22644,\"timezone\":\"US\\\\/Eastern\",\"team_2_id\":22642,\"team1Name\":\"DC Breeze\",\"start_time\":\"2013-05-25T13:00:00-04:00\"}', u'timestamp': u'2013-05-25 13:22', u'firstPointOline': False, u'theirs': 14, u'opponentName': u'DC Breeze', u'msSinceEpoch': 1369488120000, u'teamId': u'5724681378201600', u'time': u'1:22', u'date': u'Sat, 5/25', u'ours': 16, u'wind': {u'degrees': -1, u'leftToRight': True, u'mph': 0}}, {u'gameId': u'game-560F0AB1-8A27-487A-83C6-27EB40C52C25', u'gamePoint': 1000, u'timeoutDetailsJson': u'{\"takenSecondHalf\":1,\"quotaPerHalf\":2,\"takenFirstHalf\":1,\"quotaFloaters\":0}', u'leaguevineJson': u'{\"timezoneOffset\":-240,\"id\":97553,\"team2Name\":\"Philadelphia Phoenix\",\"team_1_id\":22642,\"timezone\":\"US\\\\/Eastern\",\"team_2_id\":22641,\"team1Name\":\"Rochester Dragons\",\"start_time\":\"2013-06-02T14:00:00-04:00\"}', u'timestamp': u'2013-06-02 14:23', u'firstPointOline': False, u'theirs': 12, u'opponentName': u'Philadelphia Phoenix', u'msSinceEpoch': 1370182980000, u'teamId': u'5724681378201600', u'time': u'2:23', u'date': u'Sun, 6/02', u'ours': 14, u'wind': {u'degrees': -1, u'leftToRight': True, u'mph': 0}}, {u'gameId': u'game-29319A36-C1F6-47FA-B9E8-9EFD645BDD94', u'gamePoint': 1000, u'timeoutDetailsJson': u'{\"takenSecondHalf\":1,\"quotaPerHalf\":2,\"takenFirstHalf\":1,\"quotaFloaters\":0}', u'leaguevineJson': u'{\"timezoneOffset\":-300,\"id\":97590,\"team2Name\":\"New York Empire\",\"team_1_id\":22642,\"timezone\":\"US\\\\/Central\",\"team_2_id\":22640,\"team1Name\":\"Rochester Dragons\",\"start_time\":\"2013-07-06T19:30:00-05:00\"}', u'timestamp': u'2013-07-06 19:06', u'firstPointOline': False, u'theirs': 27, u'opponentName': u'New York Empire', u'msSinceEpoch': 1373137560000, u'teamId': u'5724681378201600', u'time': u'7:06', u'date': u'Sat, 7/06', u'ours': 22, u'wind': {u'degrees': -1, u'leftToRight': True, u'mph': 0}}, {u'gameId': u'game-EB2227C2-5BCF-45D7-BA58-91A49DD8581D', u'gamePoint': 1000, u'timeoutDetailsJson': u'{\"takenSecondHalf\":0,\"quotaPerHalf\":4,\"takenFirstHalf\":3,\"quotaFloaters\":0}', u'leaguevineJson': u'{\"timezoneOffset\":-300,\"id\":97586,\"team2Name\":\"Toronto Rush\",\"team_1_id\":22642,\"timezone\":\"US\\\\/Central\",\"team_2_id\":22643,\"team1Name\":\"Rochester Dragons\",\"start_time\":\"2013-06-30T16:00:00-05:00\"}', u'timestamp': u'2013-06-30 14:25', u'firstPointOline': False, u'theirs': 26, u'opponentName': u'Toronto Rush', u'msSinceEpoch': 1372602300000, u'teamId': u'5724681378201600', u'time': u'2:25', u'date': u'Sun, 6/30', u'ours': 20, u'wind': {u'degrees': -1, u'leftToRight': True, u'mph': 0}}, {u'gameId': u'game-94DB2758-80AE-4415-A3A8-7A53434282F1', u'gamePoint': 1000, u'timeoutDetailsJson': u'{\"takenSecondHalf\":2,\"quotaPerHalf\":2,\"takenFirstHalf\":2,\"quotaFloaters\":0}', u'leaguevineJson': u'{\"timezoneOffset\":-240,\"id\":97547,\"team2Name\":\"Rochester Dragons\",\"team_1_id\":22641,\"timezone\":\"US\\\\/Eastern\",\"team_2_id\":22642,\"team1Name\":\"Philadelphia Phoenix\",\"start_time\":\"2013-05-26T13:00:00-04:00\"}', u'timestamp': u'2013-05-26 13:23', u'firstPointOline': False, u'theirs': 17, u'opponentName': u'Philadelphia Phoenix', u'msSinceEpoch': 1369574580000, u'teamId': u'5724681378201600', u'time': u'1:23', u'date': u'Sun, 5/26', u'ours': 16, u'wind': {u'degrees': -1, u'leftToRight': True, u'mph': 0}}, {u'gameId': u'game-46B4F2B9-A058-42D0-B75A-2CBF36261F14', u'gamePoint': 1000, u'timeoutDetailsJson': u'{\"takenSecondHalf\":1,\"quotaPerHalf\":2,\"takenFirstHalf\":2,\"quotaFloaters\":0}', u'leaguevineJson': u'{\"timezoneOffset\":-300,\"id\":97578,\"team2Name\":\"DC Breeze\",\"team_1_id\":22642,\"timezone\":\"US\\\\/Central\",\"team_2_id\":22644,\"team1Name\":\"Rochester Dragons\",\"start_time\":\"2013-06-23T16:00:00-05:00\"}', u'timestamp': u'2013-06-23 14:13', u'firstPointOline': False, u'theirs': 20, u'opponentName': u'DC Breeze', u'msSinceEpoch': 1371996780000, u'teamId': u'5724681378201600', u'time': u'2:13', u'date': u'Sun, 6/23', u'ours': 24, u'wind': {u'degrees': -1, u'leftToRight': True, u'mph': 0}}, {u'gameId': u'game-8883C8E0-5061-43D0-A6C3-F94FFF51505C', u'gamePoint': 1000, u'timeoutDetailsJson': u'{\"takenSecondHalf\":1,\"quotaPerHalf\":2,\"takenFirstHalf\":2,\"quotaFloaters\":0}', u'leaguevineJson': u'{\"timezoneOffset\":-240,\"id\":97557,\"team2Name\":\"NJ Hammerheads\",\"team_1_id\":22642,\"timezone\":\"US\\\\/Eastern\",\"team_2_id\":22639,\"team1Name\":\"Rochester Dragons\",\"start_time\":\"2013-06-08T19:00:00-04:00\"}', u'timestamp': u'2013-06-08 18:32', u'firstPointOline': False, u'theirs': 20, u'opponentName': u'NJ Hammerheads', u'msSinceEpoch': 1370716320000, u'teamId': u'5724681378201600', u'time': u'6:32', u'date': u'Sat, 6/08', u'ours': 26, u'wind': {u'degrees': -1, u'leftToRight': True, u'mph': 0}}]"
       ]
      },
      {
       "output_type": "stream",
       "stream": "stdout",
       "text": [
        "\n",
        "[{u'gameId': u'game-A76C14E4-1A0E-4A04-9633-AD69BEFCFCD1', u'gamePoint': 1000, u'timeoutDetailsJson': u'{\"takenSecondHalf\":0,\"quotaPerHalf\":2,\"takenFirstHalf\":0,\"quotaFloaters\":0}', u'theirs': 0, u'firstPointOline': False, u'opponentName': u'New York Empire', u'msSinceEpoch': 0, u'teamId': u'5724681378201600', u'leaguevineJson': u'{\"timezoneOffset\":-300,\"id\":97590,\"team2Name\":\"New York Empire\",\"team_1_id\":22642,\"timezone\":\"US\\\\/Central\",\"team_2_id\":22640,\"team1Name\":\"Rochester Dragons\",\"start_time\":\"2013-07-06T19:30:00-05:00\"}', u'ours': 0, u'wind': {u'degrees': -1, u'leftToRight': True, u'mph': 0}}, {u'gameId': u'game-25183EE4-B00B-4BD5-B5ED-71A70E0F2640', u'gamePoint': 1000, u'timeoutDetailsJson': u'{\"takenSecondHalf\":1,\"quotaPerHalf\":2,\"takenFirstHalf\":1,\"quotaFloaters\":0}', u'leaguevineJson': u'{\"timezoneOffset\":-240,\"id\":97544,\"team2Name\":\"Rochester Dragons\",\"team_1_id\":22644,\"timezone\":\"US\\\\/Eastern\",\"team_2_id\":22642,\"team1Name\":\"DC Breeze\",\"start_time\":\"2013-05-25T13:00:00-04:00\"}', u'timestamp': u'2013-05-25 13:22', u'firstPointOline': False, u'theirs': 14, u'opponentName': u'DC Breeze', u'msSinceEpoch': 1369488120000, u'teamId': u'5724681378201600', u'time': u'1:22', u'date': u'Sat, 5/25', u'ours': 16, u'wind': {u'degrees': -1, u'leftToRight': True, u'mph': 0}}, {u'gameId': u'game-560F0AB1-8A27-487A-83C6-27EB40C52C25', u'gamePoint': 1000, u'timeoutDetailsJson': u'{\"takenSecondHalf\":1,\"quotaPerHalf\":2,\"takenFirstHalf\":1,\"quotaFloaters\":0}', u'leaguevineJson': u'{\"timezoneOffset\":-240,\"id\":97553,\"team2Name\":\"Philadelphia Phoenix\",\"team_1_id\":22642,\"timezone\":\"US\\\\/Eastern\",\"team_2_id\":22641,\"team1Name\":\"Rochester Dragons\",\"start_time\":\"2013-06-02T14:00:00-04:00\"}', u'timestamp': u'2013-06-02 14:23', u'firstPointOline': False, u'theirs': 12, u'opponentName': u'Philadelphia Phoenix', u'msSinceEpoch': 1370182980000, u'teamId': u'5724681378201600', u'time': u'2:23', u'date': u'Sun, 6/02', u'ours': 14, u'wind': {u'degrees': -1, u'leftToRight': True, u'mph': 0}}, {u'gameId': u'game-29319A36-C1F6-47FA-B9E8-9EFD645BDD94', u'gamePoint': 1000, u'timeoutDetailsJson': u'{\"takenSecondHalf\":1,\"quotaPerHalf\":2,\"takenFirstHalf\":1,\"quotaFloaters\":0}', u'leaguevineJson': u'{\"timezoneOffset\":-300,\"id\":97590,\"team2Name\":\"New York Empire\",\"team_1_id\":22642,\"timezone\":\"US\\\\/Central\",\"team_2_id\":22640,\"team1Name\":\"Rochester Dragons\",\"start_time\":\"2013-07-06T19:30:00-05:00\"}', u'timestamp': u'2013-07-06 19:06', u'firstPointOline': False, u'theirs': 27, u'opponentName': u'New York Empire', u'msSinceEpoch': 1373137560000, u'teamId': u'5724681378201600', u'time': u'7:06', u'date': u'Sat, 7/06', u'ours': 22, u'wind': {u'degrees': -1, u'leftToRight': True, u'mph': 0}}, {u'gameId': u'game-EB2227C2-5BCF-45D7-BA58-91A49DD8581D', u'gamePoint': 1000, u'timeoutDetailsJson': u'{\"takenSecondHalf\":0,\"quotaPerHalf\":4,\"takenFirstHalf\":3,\"quotaFloaters\":0}', u'leaguevineJson': u'{\"timezoneOffset\":-300,\"id\":97586,\"team2Name\":\"Toronto Rush\",\"team_1_id\":22642,\"timezone\":\"US\\\\/Central\",\"team_2_id\":22643,\"team1Name\":\"Rochester Dragons\",\"start_time\":\"2013-06-30T16:00:00-05:00\"}', u'timestamp': u'2013-06-30 14:25', u'firstPointOline': False, u'theirs': 26, u'opponentName': u'Toronto Rush', u'msSinceEpoch': 1372602300000, u'teamId': u'5724681378201600', u'time': u'2:25', u'date': u'Sun, 6/30', u'ours': 20, u'wind': {u'degrees': -1, u'leftToRight': True, u'mph': 0}}, {u'gameId': u'game-94DB2758-80AE-4415-A3A8-7A53434282F1', u'gamePoint': 1000, u'timeoutDetailsJson': u'{\"takenSecondHalf\":2,\"quotaPerHalf\":2,\"takenFirstHalf\":2,\"quotaFloaters\":0}', u'leaguevineJson': u'{\"timezoneOffset\":-240,\"id\":97547,\"team2Name\":\"Rochester Dragons\",\"team_1_id\":22641,\"timezone\":\"US\\\\/Eastern\",\"team_2_id\":22642,\"team1Name\":\"Philadelphia Phoenix\",\"start_time\":\"2013-05-26T13:00:00-04:00\"}', u'timestamp': u'2013-05-26 13:23', u'firstPointOline': False, u'theirs': 17, u'opponentName': u'Philadelphia Phoenix', u'msSinceEpoch': 1369574580000, u'teamId': u'5724681378201600', u'time': u'1:23', u'date': u'Sun, 5/26', u'ours': 16, u'wind': {u'degrees': -1, u'leftToRight': True, u'mph': 0}}, {u'gameId': u'game-46B4F2B9-A058-42D0-B75A-2CBF36261F14', u'gamePoint': 1000, u'timeoutDetailsJson': u'{\"takenSecondHalf\":1,\"quotaPerHalf\":2,\"takenFirstHalf\":2,\"quotaFloaters\":0}', u'leaguevineJson': u'{\"timezoneOffset\":-300,\"id\":97578,\"team2Name\":\"DC Breeze\",\"team_1_id\":22642,\"timezone\":\"US\\\\/Central\",\"team_2_id\":22644,\"team1Name\":\"Rochester Dragons\",\"start_time\":\"2013-06-23T16:00:00-05:00\"}', u'timestamp': u'2013-06-23 14:13', u'firstPointOline': False, u'theirs': 20, u'opponentName': u'DC Breeze', u'msSinceEpoch': 1371996780000, u'teamId': u'5724681378201600', u'time': u'2:13', u'date': u'Sun, 6/23', u'ours': 24, u'wind': {u'degrees': -1, u'leftToRight': True, u'mph': 0}}, {u'gameId': u'game-8883C8E0-5061-43D0-A6C3-F94FFF51505C', u'gamePoint': 1000, u'timeoutDetailsJson': u'{\"takenSecondHalf\":1,\"quotaPerHalf\":2,\"takenFirstHalf\":2,\"quotaFloaters\":0}', u'leaguevineJson': u'{\"timezoneOffset\":-240,\"id\":97557,\"team2Name\":\"NJ Hammerheads\",\"team_1_id\":22642,\"timezone\":\"US\\\\/Eastern\",\"team_2_id\":22639,\"team1Name\":\"Rochester Dragons\",\"start_time\":\"2013-06-08T19:00:00-04:00\"}', u'timestamp': u'2013-06-08 18:32', u'firstPointOline': False, u'theirs': 20, u'opponentName': u'NJ Hammerheads', u'msSinceEpoch': 1370716320000, u'teamId': u'5724681378201600', u'time': u'6:32', u'date': u'Sat, 6/08', u'ours': 26, u'wind': {u'degrees': -1, u'leftToRight': True, u'mph': 0}}]\n",
        "[{u'gameId': u'game-A76C14E4-1A0E-4A04-9633-AD69BEFCFCD1', u'gamePoint': 1000, u'timeoutDetailsJson': u'{\"takenSecondHalf\":0,\"quotaPerHalf\":2,\"takenFirstHalf\":0,\"quotaFloaters\":0}', u'theirs': 0, u'firstPointOline': False, u'opponentName': u'New York Empire', u'msSinceEpoch': 0, u'teamId': u'5724681378201600', u'leaguevineJson': u'{\"timezoneOffset\":-300,\"id\":97590,\"team2Name\":\"New York Empire\",\"team_1_id\":22642,\"timezone\":\"US\\\\/Central\",\"team_2_id\":22640,\"team1Name\":\"Rochester Dragons\",\"start_time\":\"2013-07-06T19:30:00-05:00\"}', u'ours': 0, u'wind': {u'degrees': -1, u'leftToRight': True, u'mph': 0}}, {u'gameId': u'game-25183EE4-B00B-4BD5-B5ED-71A70E0F2640', u'gamePoint': 1000, u'timeoutDetailsJson': u'{\"takenSecondHalf\":1,\"quotaPerHalf\":2,\"takenFirstHalf\":1,\"quotaFloaters\":0}', u'leaguevineJson': u'{\"timezoneOffset\":-240,\"id\":97544,\"team2Name\":\"Rochester Dragons\",\"team_1_id\":22644,\"timezone\":\"US\\\\/Eastern\",\"team_2_id\":22642,\"team1Name\":\"DC Breeze\",\"start_time\":\"2013-05-25T13:00:00-04:00\"}', u'timestamp': u'2013-05-25 13:22', u'firstPointOline': False, u'theirs': 14, u'opponentName': u'DC Breeze', u'msSinceEpoch': 1369488120000, u'teamId': u'5724681378201600', u'time': u'1:22', u'date': u'Sat, 5/25', u'ours': 16, u'wind': {u'degrees': -1, u'leftToRight': True, u'mph': 0}}, {u'gameId': u'game-560F0AB1-8A27-487A-83C6-27EB40C52C25', u'gamePoint': 1000, u'timeoutDetailsJson': u'{\"takenSecondHalf\":1,\"quotaPerHalf\":2,\"takenFirstHalf\":1,\"quotaFloaters\":0}', u'leaguevineJson': u'{\"timezoneOffset\":-240,\"id\":97553,\"team2Name\":\"Philadelphia Phoenix\",\"team_1_id\":22642,\"timezone\":\"US\\\\/Eastern\",\"team_2_id\":22641,\"team1Name\":\"Rochester Dragons\",\"start_time\":\"2013-06-02T14:00:00-04:00\"}', u'timestamp': u'2013-06-02 14:23', u'firstPointOline': False, u'theirs': 12, u'opponentName': u'Philadelphia Phoenix', u'msSinceEpoch': 1370182980000, u'teamId': u'5724681378201600', u'time': u'2:23', u'date': u'Sun, 6/02', u'ours': 14, u'wind': {u'degrees': -1, u'leftToRight': True, u'mph': 0}}, {u'gameId': u'game-29319A36-C1F6-47FA-B9E8-9EFD645BDD94', u'gamePoint': 1000, u'timeoutDetailsJson': u'{\"takenSecondHalf\":1,\"quotaPerHalf\":2,\"takenFirstHalf\":1,\"quotaFloaters\":0}', u'leaguevineJson': u'{\"timezoneOffset\":-300,\"id\":97590,\"team2Name\":\"New York Empire\",\"team_1_id\":22642,\"timezone\":\"US\\\\/Central\",\"team_2_id\":22640,\"team1Name\":\"Rochester Dragons\",\"start_time\":\"2013-07-06T19:30:00-05:00\"}', u'timestamp': u'2013-07-06 19:06', u'firstPointOline': False, u'theirs': 27, u'opponentName': u'New York Empire', u'msSinceEpoch': 1373137560000, u'teamId': u'5724681378201600', u'time': u'7:06', u'date': u'Sat, 7/06', u'ours': 22, u'wind': {u'degrees': -1, u'leftToRight': True, u'mph': 0}}, {u'gameId': u'game-EB2227C2-5BCF-45D7-BA58-91A49DD8581D', u'gamePoint': 1000, u'timeoutDetailsJson': u'{\"takenSecondHalf\":0,\"quotaPerHalf\":4,\"takenFirstHalf\":3,\"quotaFloaters\":0}', u'leaguevineJson': u'{\"timezoneOffset\":-300,\"id\":97586,\"team2Name\":\"Toronto Rush\",\"team_1_id\":22642,\"timezone\":\"US\\\\/Central\",\"team_2_id\":22643,\"team1Name\":\"Rochester Dragons\",\"start_time\":\"2013-06-30T16:00:00-05:00\"}', u'timestamp': u'2013-06-30 14:25', u'firstPointOline': False, u'theirs': 26, u'opponentName': u'Toronto Rush', u'msSinceEpoch': 1372602300000, u'teamId': u'5724681378201600', u'time': u'2:25', u'date': u'Sun, 6/30', u'ours': 20, u'wind': {u'degrees': -1, u'leftToRight': True, u'mph': 0}}, {u'gameId': u'game-94DB2758-80AE-4415-A3A8-7A53434282F1', u'gamePoint': 1000, u'timeoutDetailsJson': u'{\"takenSecondHalf\":2,\"quotaPerHalf\":2,\"takenFirstHalf\":2,\"quotaFloaters\":0}', u'leaguevineJson': u'{\"timezoneOffset\":-240,\"id\":97547,\"team2Name\":\"Rochester Dragons\",\"team_1_id\":22641,\"timezone\":\"US\\\\/Eastern\",\"team_2_id\":22642,\"team1Name\":\"Philadelphia Phoenix\",\"start_time\":\"2013-05-26T13:00:00-04:00\"}', u'timestamp': u'2013-05-26 13:23', u'firstPointOline': False, u'theirs': 17, u'opponentName': u'Philadelphia Phoenix', u'msSinceEpoch': 1369574580000, u'teamId': u'5724681378201600', u'time': u'1:23', u'date': u'Sun, 5/26', u'ours': 16, u'wind': {u'degrees': -1, u'leftToRight': True, u'mph': 0}}, {u'gameId': u'game-46B4F2B9-A058-42D0-B75A-2CBF36261F14', u'gamePoint': 1000, u'timeoutDetailsJson': u'{\"takenSecondHalf\":1,\"quotaPerHalf\":2,\"takenFirstHalf\":2,\"quotaFloaters\":0}', u'leaguevineJson': u'{\"timezoneOffset\":-300,\"id\":97578,\"team2Name\":\"DC Breeze\",\"team_1_id\":22642,\"timezone\":\"US\\\\/Central\",\"team_2_id\":22644,\"team1Name\":\"Rochester Dragons\",\"start_time\":\"2013-06-23T16:00:00-05:00\"}', u'timestamp': u'2013-06-23 14:13', u'firstPointOline': False, u'theirs': 20, u'opponentName': u'DC Breeze', u'msSinceEpoch': 1371996780000, u'teamId': u'5724681378201600', u'time': u'2:13', u'date': u'Sun, 6/23', u'ours': 24, u'wind': {u'degrees': -1, u'leftToRight': True, u'mph': 0}}, {u'gameId': u'game-8883C8E0-5061-43D0-A6C3-F94FFF51505C', u'gamePoint': 1000, u'timeoutDetailsJson': u'{\"takenSecondHalf\":1,\"quotaPerHalf\":2,\"takenFirstHalf\":2,\"quotaFloaters\":0}', u'leaguevineJson': u'{\"timezoneOffset\":-240,\"id\":97557,\"team2Name\":\"NJ Hammerheads\",\"team_1_id\":22642,\"timezone\":\"US\\\\/Eastern\",\"team_2_id\":22639,\"team1Name\":\"Rochester Dragons\",\"start_time\":\"2013-06-08T19:00:00-04:00\"}', u'timestamp': u'2013-06-08 18:32', u'firstPointOline': False, u'theirs': 20, u'opponentName': u'NJ Hammerheads', u'msSinceEpoch': 1370716320000, u'teamId': u'5724681378201600', u'time': u'6:32', u'date': u'Sat, 6/08', u'ours': 26, u'wind': {u'degrees': -1, u'leftToRight': True, u'mph': 0}}]\n",
        "[{u'gameId': u'game-A76C14E4-1A0E-4A04-9633-AD69BEFCFCD1', u'gamePoint': 1000, u'timeoutDetailsJson': u'{\"takenSecondHalf\":0,\"quotaPerHalf\":2,\"takenFirstHalf\":0,\"quotaFloaters\":0}', u'theirs': 0, u'firstPointOline': False, u'opponentName': u'New York Empire', u'msSinceEpoch': 0, u'teamId': u'5724681378201600', u'leaguevineJson': u'{\"timezoneOffset\":-300,\"id\":97590,\"team2Name\":\"New York Empire\",\"team_1_id\":22642,\"timezone\":\"US\\\\/Central\",\"team_2_id\":22640,\"team1Name\":\"Rochester Dragons\",\"start_time\":\"2013-07-06T19:30:00-05:00\"}', u'ours': 0, u'wind': {u'degrees': -1, u'leftToRight': True, u'mph': 0}}, {u'gameId': u'game-25183EE4-B00B-4BD5-B5ED-71A70E0F2640', u'gamePoint': 1000, u'timeoutDetailsJson': u'{\"takenSecondHalf\":1,\"quotaPerHalf\":2,\"takenFirstHalf\":1,\"quotaFloaters\":0}', u'leaguevineJson': u'{\"timezoneOffset\":-240,\"id\":97544,\"team2Name\":\"Rochester Dragons\",\"team_1_id\":22644,\"timezone\":\"US\\\\/Eastern\",\"team_2_id\":22642,\"team1Name\":\"DC Breeze\",\"start_time\":\"2013-05-25T13:00:00-04:00\"}', u'timestamp': u'2013-05-25 13:22', u'firstPointOline': False, u'theirs': 14, u'opponentName': u'DC Breeze', u'msSinceEpoch': 1369488120000, u'teamId': u'5724681378201600', u'time': u'1:22', u'date': u'Sat, 5/25', u'ours': 16, u'wind': {u'degrees': -1, u'leftToRight': True, u'mph': 0}}, {u'gameId': u'game-560F0AB1-8A27-487A-83C6-27EB40C52C25', u'gamePoint': 1000, u'timeoutDetailsJson': u'{\"takenSecondHalf\":1,\"quotaPerHalf\":2,\"takenFirstHalf\":1,\"quotaFloaters\":0}', u'leaguevineJson': u'{\"timezoneOffset\":-240,\"id\":97553,\"team2Name\":\"Philadelphia Phoenix\",\"team_1_id\":22642,\"timezone\":\"US\\\\/Eastern\",\"team_2_id\":22641,\"team1Name\":\"Rochester Dragons\",\"start_time\":\"2013-06-02T14:00:00-04:00\"}', u'timestamp': u'2013-06-02 14:23', u'firstPointOline': False, u'theirs': 12, u'opponentName': u'Philadelphia Phoenix', u'msSinceEpoch': 1370182980000, u'teamId': u'5724681378201600', u'time': u'2:23', u'date': u'Sun, 6/02', u'ours': 14, u'wind': {u'degrees': -1, u'leftToRight': True, u'mph': 0}}, {u'gameId': u'game-29319A36-C1F6-47FA-B9E8-9EFD645BDD94', u'gamePoint': 1000, u'timeoutDetailsJson': u'{\"takenSecondHalf\":1,\"quotaPerHalf\":2,\"takenFirstHalf\":1,\"quotaFloaters\":0}', u'leaguevineJson': u'{\"timezoneOffset\":-300,\"id\":97590,\"team2Name\":\"New York Empire\",\"team_1_id\":22642,\"timezone\":\"US\\\\/Central\",\"team_2_id\":22640,\"team1Name\":\"Rochester Dragons\",\"start_time\":\"2013-07-06T19:30:00-05:00\"}', u'timestamp': u'2013-07-06 19:06', u'firstPointOline': False, u'theirs': 27, u'opponentName': u'New York Empire', u'msSinceEpoch': 1373137560000, u'teamId': u'5724681378201600', u'time': u'7:06', u'date': u'Sat, 7/06', u'ours': 22, u'wind': {u'degrees': -1, u'leftToRight': True, u'mph': 0}}, {u'gameId': u'game-EB2227C2-5BCF-45D7-BA58-91A49DD8581D', u'gamePoint': 1000, u'timeoutDetailsJson': u'{\"takenSecondHalf\":0,\"quotaPerHalf\":4,\"takenFirstHalf\":3,\"quotaFloaters\":0}', u'leaguevineJson': u'{\"timezoneOffset\":-300,\"id\":97586,\"team2Name\":\"Toronto Rush\",\"team_1_id\":22642,\"timezone\":\"US\\\\/Central\",\"team_2_id\":22643,\"team1Name\":\"Rochester Dragons\",\"start_time\":\"2013-06-30T16:00:00-05:00\"}', u'timestamp': u'2013-06-30 14:25', u'firstPointOline': False, u'theirs': 26, u'opponentName': u'Toronto Rush', u'msSinceEpoch': 1372602300000, u'teamId': u'5724681378201600', u'time': u'2:25', u'date': u'Sun, 6/30', u'ours': 20, u'wind': {u'degrees': -1, u'leftToRight': True, u'mph': 0}}, {u'gameId': u'game-94DB2758-80AE-4415-A3A8-7A53434282F1', u'gamePoint': 1000, u'timeoutDetailsJson': u'{\"takenSecondHalf\":2,\"quotaPerHalf\":2,\"takenFirstHalf\":2,\"quotaFloaters\":0}', u'leaguevineJson': u'{\"timezoneOffset\":-240,\"id\":97547,\"team2Name\":\"Rochester Dragons\",\"team_1_id\":22641,\"timezone\":\"US\\\\/Eastern\",\"team_2_id\":22642,\"team1Name\":\"Philadelphia Phoenix\",\"start_time\":\"2013-05-26T13:00:00-04:00\"}', u'timestamp': u'2013-05-26 13:23', u'firstPointOline': False, u'theirs': 17, u'opponentName': u'Philadelphia Phoenix', u'msSinceEpoch': 1369574580000, u'teamId': u'5724681378201600', u'time': u'1:23', u'date': u'Sun, 5/26', u'ours': 16, u'wind': {u'degrees': -1, u'leftToRight': True, u'mph': 0}}, {u'gameId': u'game-46B4F2B9-A058-42D0-B75A-2CBF36261F14', u'gamePoint': 1000, u'timeoutDetailsJson': u'{\"takenSecondHalf\":1,\"quotaPerHalf\":2,\"takenFirstHalf\":2,\"quotaFloaters\":0}', u'leaguevineJson': u'{\"timezoneOffset\":-300,\"id\":97578,\"team2Name\":\"DC Breeze\",\"team_1_id\":22642,\"timezone\":\"US\\\\/Central\",\"team_2_id\":22644,\"team1Name\":\"Rochester Dragons\",\"start_time\":\"2013-06-23T16:00:00-05:00\"}', u'timestamp': u'2013-06-23 14:13', u'firstPointOline': False, u'theirs': 20, u'opponentName': u'DC Breeze', u'msSinceEpoch': 1371996780000, u'teamId': u'5724681378201600', u'time': u'2:13', u'date': u'Sun, 6/23', u'ours': 24, u'wind': {u'degrees': -1, u'leftToRight': True, u'mph': 0}}, {u'gameId': u'game-8883C8E0-5061-43D0-A6C3-F94FFF51505C', u'gamePoint': 1000, u'timeoutDetailsJson': u'{\"takenSecondHalf\":1,\"quotaPerHalf\":2,\"takenFirstHalf\":2,\"quotaFloaters\":0}', u'leaguevineJson': u'{\"timezoneOffset\":-240,\"id\":97557,\"team2Name\":\"NJ Hammerheads\",\"team_1_id\":22642,\"timezone\":\"US\\\\/Eastern\",\"team_2_id\":22639,\"team1Name\":\"Rochester Dragons\",\"start_time\":\"2013-06-08T19:00:00-04:00\"}', u'timestamp': u'2013-06-08 18:32', u'firstPointOline': False, u'theirs': 20, u'opponentName': u'NJ Hammerheads', u'msSinceEpoch': 1370716320000, u'teamId': u'5724681378201600', u'time': u'6:32', u'date': u'Sat, 6/08', u'ours': 26, u'wind': {u'degrees': -1, u'leftToRight': True, u'mph': 0}}]\n",
        "[{u'gameId': u'game-A76C14E4-1A0E-4A04-9633-AD69BEFCFCD1', u'gamePoint': 1000, u'timeoutDetailsJson': u'{\"takenSecondHalf\":0,\"quotaPerHalf\":2,\"takenFirstHalf\":0,\"quotaFloaters\":0}', u'theirs': 0, u'firstPointOline': False, u'opponentName': u'New York Empire', u'msSinceEpoch': 0, u'teamId': u'5724681378201600', u'leaguevineJson': u'{\"timezoneOffset\":-300,\"id\":97590,\"team2Name\":\"New York Empire\",\"team_1_id\":22642,\"timezone\":\"US\\\\/Central\",\"team_2_id\":22640,\"team1Name\":\"Rochester Dragons\",\"start_time\":\"2013-07-06T19:30:00-05:00\"}', u'ours': 0, u'wind': {u'degrees': -1, u'leftToRight': True, u'mph': 0}}, {u'gameId': u'game-25183EE4-B00B-4BD5-B5ED-71A70E0F2640', u'gamePoint': 1000, u'timeoutDetailsJson': u'{\"takenSecondHalf\":1,\"quotaPerHalf\":2,\"takenFirstHalf\":1,\"quotaFloaters\":0}', u'leaguevineJson': u'{\"timezoneOffset\":-240,\"id\":97544,\"team2Name\":\"Rochester Dragons\",\"team_1_id\":22644,\"timezone\":\"US\\\\/Eastern\",\"team_2_id\":22642,\"team1Name\":\"DC Breeze\",\"start_time\":\"2013-05-25T13:00:00-04:00\"}', u'timestamp': u'2013-05-25 13:22', u'firstPointOline': False, u'theirs': 14, u'opponentName': u'DC Breeze', u'msSinceEpoch': 1369488120000, u'teamId': u'5724681378201600', u'time': u'1:22', u'date': u'Sat, 5/25', u'ours': 16, u'wind': {u'degrees': -1, u'leftToRight': True, u'mph': 0}}, {u'gameId': u'game-560F0AB1-8A27-487A-83C6-27EB40C52C25', u'gamePoint': 1000, u'timeoutDetailsJson': u'{\"takenSecondHalf\":1,\"quotaPerHalf\":2,\"takenFirstHalf\":1,\"quotaFloaters\":0}', u'leaguevineJson': u'{\"timezoneOffset\":-240,\"id\":97553,\"team2Name\":\"Philadelphia Phoenix\",\"team_1_id\":22642,\"timezone\":\"US\\\\/Eastern\",\"team_2_id\":22641,\"team1Name\":\"Rochester Dragons\",\"start_time\":\"2013-06-02T14:00:00-04:00\"}', u'timestamp': u'2013-06-02 14:23', u'firstPointOline': False, u'theirs': 12, u'opponentName': u'Philadelphia Phoenix', u'msSinceEpoch': 1370182980000, u'teamId': u'5724681378201600', u'time': u'2:23', u'date': u'Sun, 6/02', u'ours': 14, u'wind': {u'degrees': -1, u'leftToRight': True, u'mph': 0}}, {u'gameId': u'game-29319A36-C1F6-47FA-B9E8-9EFD645BDD94', u'gamePoint': 1000, u'timeoutDetailsJson': u'{\"takenSecondHalf\":1,\"quotaPerHalf\":2,\"takenFirstHalf\":1,\"quotaFloaters\":0}', u'leaguevineJson': u'{\"timezoneOffset\":-300,\"id\":97590,\"team2Name\":\"New York Empire\",\"team_1_id\":22642,\"timezone\":\"US\\\\/Central\",\"team_2_id\":22640,\"team1Name\":\"Rochester Dragons\",\"start_time\":\"2013-07-06T19:30:00-05:00\"}', u'timestamp': u'2013-07-06 19:06', u'firstPointOline': False, u'theirs': 27, u'opponentName': u'New York Empire', u'msSinceEpoch': 1373137560000, u'teamId': u'5724681378201600', u'time': u'7:06', u'date': u'Sat, 7/06', u'ours': 22, u'wind': {u'degrees': -1, u'leftToRight': True, u'mph': 0}}, {u'gameId': u'game-EB2227C2-5BCF-45D7-BA58-91A49DD8581D', u'gamePoint': 1000, u'timeoutDetailsJson': u'{\"takenSecondHalf\":0,\"quotaPerHalf\":4,\"takenFirstHalf\":3,\"quotaFloaters\":0}', u'leaguevineJson': u'{\"timezoneOffset\":-300,\"id\":97586,\"team2Name\":\"Toronto Rush\",\"team_1_id\":22642,\"timezone\":\"US\\\\/Central\",\"team_2_id\":22643,\"team1Name\":\"Rochester Dragons\",\"start_time\":\"2013-06-30T16:00:00-05:00\"}', u'timestamp': u'2013-06-30 14:25', u'firstPointOline': False, u'theirs': 26, u'opponentName': u'Toronto Rush', u'msSinceEpoch': 1372602300000, u'teamId': u'5724681378201600', u'time': u'2:25', u'date': u'Sun, 6/30', u'ours': 20, u'wind': {u'degrees': -1, u'leftToRight': True, u'mph': 0}}, {u'gameId': u'game-94DB2758-80AE-4415-A3A8-7A53434282F1', u'gamePoint': 1000, u'timeoutDetailsJson': u'{\"takenSecondHalf\":2,\"quotaPerHalf\":2,\"takenFirstHalf\":2,\"quotaFloaters\":0}', u'leaguevineJson': u'{\"timezoneOffset\":-240,\"id\":97547,\"team2Name\":\"Rochester Dragons\",\"team_1_id\":22641,\"timezone\":\"US\\\\/Eastern\",\"team_2_id\":22642,\"team1Name\":\"Philadelphia Phoenix\",\"start_time\":\"2013-05-26T13:00:00-04:00\"}', u'timestamp': u'2013-05-26 13:23', u'firstPointOline': False, u'theirs': 17, u'opponentName': u'Philadelphia Phoenix', u'msSinceEpoch': 1369574580000, u'teamId': u'5724681378201600', u'time': u'1:23', u'date': u'Sun, 5/26', u'ours': 16, u'wind': {u'degrees': -1, u'leftToRight': True, u'mph': 0}}, {u'gameId': u'game-46B4F2B9-A058-42D0-B75A-2CBF36261F14', u'gamePoint': 1000, u'timeoutDetailsJson': u'{\"takenSecondHalf\":1,\"quotaPerHalf\":2,\"takenFirstHalf\":2,\"quotaFloaters\":0}', u'leaguevineJson': u'{\"timezoneOffset\":-300,\"id\":97578,\"team2Name\":\"DC Breeze\",\"team_1_id\":22642,\"timezone\":\"US\\\\/Central\",\"team_2_id\":22644,\"team1Name\":\"Rochester Dragons\",\"start_time\":\"2013-06-23T16:00:00-05:00\"}', u'timestamp': u'2013-06-23 14:13', u'firstPointOline': False, u'theirs': 20, u'opponentName': u'DC Breeze', u'msSinceEpoch': 1371996780000, u'teamId': u'5724681378201600', u'time': u'2:13', u'date': u'Sun, 6/23', u'ours': 24, u'wind': {u'degrees': -1, u'leftToRight': True, u'mph': 0}}, {u'gameId': u'game-8883C8E0-5061-43D0-A6C3-F94FFF51505C', u'gamePoint': 1000, u'timeoutDetailsJson': u'{\"takenSecondHalf\":1,\"quotaPerHalf\":2,\"takenFirstHalf\":2,\"quotaFloaters\":0}', u'leaguevineJson': u'{\"timezoneOffset\":-240,\"id\":97557,\"team2Name\":\"NJ Hammerheads\",\"team_1_id\":22642,\"timezone\":\"US\\\\/Eastern\",\"team_2_id\":22639,\"team1Name\":\"Rochester Dragons\",\"start_time\":\"2013-06-08T19:00:00-04:00\"}', u'timestamp': u'2013-06-08 18:32', u'firstPointOline': False, u'theirs': 20, u'opponentName': u'NJ Hammerheads', u'msSinceEpoch': 1370716320000, u'teamId': u'5724681378201600', u'time': u'6:32', u'date': u'Sat, 6/08', u'ours': 26, u'wind': {u'degrees': -1, u'leftToRight': True, u'mph': 0}}]\n",
        "[{u'gameId': u'game-A76C14E4-1A0E-4A04-9633-AD69BEFCFCD1', u'gamePoint': 1000, u'timeoutDetailsJson': u'{\"takenSecondHalf\":0,\"quotaPerHalf\":2,\"takenFirstHalf\":0,\"quotaFloaters\":0}', u'theirs': 0, u'firstPointOline': False, u'opponentName': u'New York Empire', u'msSinceEpoch': 0, u'teamId': u'5724681378201600', u'leaguevineJson': u'{\"timezoneOffset\":-300,\"id\":97590,\"team2Name\":\"New York Empire\",\"team_1_id\":22642,\"timezone\":\"US\\\\/Central\",\"team_2_id\":22640,\"team1Name\":\"Rochester Dragons\",\"start_time\":\"2013-07-06T19:30:00-05:00\"}', u'ours': 0, u'wind': {u'degrees': -1, u'leftToRight': True, u'mph': 0}}, {u'gameId': u'game-25183EE4-B00B-4BD5-B5ED-71A70E0F2640', u'gamePoint': 1000, u'timeoutDetailsJson': u'{\"takenSecondHalf\":1,\"quotaPerHalf\":2,\"takenFirstHalf\":1,\"quotaFloaters\":0}', u'leaguevineJson': u'{\"timezoneOffset\":-240,\"id\":97544,\"team2Name\":\"Rochester Dragons\",\"team_1_id\":22644,\"timezone\":\"US\\\\/Eastern\",\"team_2_id\":22642,\"team1Name\":\"DC Breeze\",\"start_time\":\"2013-05-25T13:00:00-04:00\"}', u'timestamp': u'2013-05-25 13:22', u'firstPointOline': False, u'theirs': 14, u'opponentName': u'DC Breeze', u'msSinceEpoch': 1369488120000, u'teamId': u'5724681378201600', u'time': u'1:22', u'date': u'Sat, 5/25', u'ours': 16, u'wind': {u'degrees': -1, u'leftToRight': True, u'mph': 0}}, {u'gameId': u'game-560F0AB1-8A27-487A-83C6-27EB40C52C25', u'gamePoint': 1000, u'timeoutDetailsJson': u'{\"takenSecondHalf\":1,\"quotaPerHalf\":2,\"takenFirstHalf\":1,\"quotaFloaters\":0}', u'leaguevineJson': u'{\"timezoneOffset\":-240,\"id\":97553,\"team2Name\":\"Philadelphia Phoenix\",\"team_1_id\":22642,\"timezone\":\"US\\\\/Eastern\",\"team_2_id\":22641,\"team1Name\":\"Rochester Dragons\",\"start_time\":\"2013-06-02T14:00:00-04:00\"}', u'timestamp': u'2013-06-02 14:23', u'firstPointOline': False, u'theirs': 12, u'opponentName': u'Philadelphia Phoenix', u'msSinceEpoch': 1370182980000, u'teamId': u'5724681378201600', u'time': u'2:23', u'date': u'Sun, 6/02', u'ours': 14, u'wind': {u'degrees': -1, u'leftToRight': True, u'mph': 0}}, {u'gameId': u'game-29319A36-C1F6-47FA-B9E8-9EFD645BDD94', u'gamePoint': 1000, u'timeoutDetailsJson': u'{\"takenSecondHalf\":1,\"quotaPerHalf\":2,\"takenFirstHalf\":1,\"quotaFloaters\":0}', u'leaguevineJson': u'{\"timezoneOffset\":-300,\"id\":97590,\"team2Name\":\"New York Empire\",\"team_1_id\":22642,\"timezone\":\"US\\\\/Central\",\"team_2_id\":22640,\"team1Name\":\"Rochester Dragons\",\"start_time\":\"2013-07-06T19:30:00-05:00\"}', u'timestamp': u'2013-07-06 19:06', u'firstPointOline': False, u'theirs': 27, u'opponentName': u'New York Empire', u'msSinceEpoch': 1373137560000, u'teamId': u'5724681378201600', u'time': u'7:06', u'date': u'Sat, 7/06', u'ours': 22, u'wind': {u'degrees': -1, u'leftToRight': True, u'mph': 0}}, {u'gameId': u'game-EB2227C2-5BCF-45D7-BA58-91A49DD8581D', u'gamePoint': 1000, u'timeoutDetailsJson': u'{\"takenSecondHalf\":0,\"quotaPerHalf\":4,\"takenFirstHalf\":3,\"quotaFloaters\":0}', u'leaguevineJson': u'{\"timezoneOffset\":-300,\"id\":97586,\"team2Name\":\"Toronto Rush\",\"team_1_id\":22642,\"timezone\":\"US\\\\/Central\",\"team_2_id\":22643,\"team1Name\":\"Rochester Dragons\",\"start_time\":\"2013-06-30T16:00:00-05:00\"}', u'timestamp': u'2013-06-30 14:25', u'firstPointOline': False, u'theirs': 26, u'opponentName': u'Toronto Rush', u'msSinceEpoch': 1372602300000, u'teamId': u'5724681378201600', u'time': u'2:25', u'date': u'Sun, 6/30', u'ours': 20, u'wind': {u'degrees': -1, u'leftToRight': True, u'mph': 0}}, {u'gameId': u'game-94DB2758-80AE-4415-A3A8-7A53434282F1', u'gamePoint': 1000, u'timeoutDetailsJson': u'{\"takenSecondHalf\":2,\"quotaPerHalf\":2,\"takenFirstHalf\":2,\"quotaFloaters\":0}', u'leaguevineJson': u'{\"timezoneOffset\":-240,\"id\":97547,\"team2Name\":\"Rochester Dragons\",\"team_1_id\":22641,\"timezone\":\"US\\\\/Eastern\",\"team_2_id\":22642,\"team1Name\":\"Philadelphia Phoenix\",\"start_time\":\"2013-05-26T13:00:00-04:00\"}', u'timestamp': u'2013-05-26 13:23', u'firstPointOline': False, u'theirs': 17, u'opponentName': u'Philadelphia Phoenix', u'msSinceEpoch': 1369574580000, u'teamId': u'5724681378201600', u'time': u'1:23', u'date': u'Sun, 5/26', u'ours': 16, u'wind': {u'degrees': -1, u'leftToRight': True, u'mph': 0}}, {u'gameId': u'game-46B4F2B9-A058-42D0-B75A-2CBF36261F14', u'gamePoint': 1000, u'timeoutDetailsJson': u'{\"takenSecondHalf\":1,\"quotaPerHalf\":2,\"takenFirstHalf\":2,\"quotaFloaters\":0}', u'leaguevineJson': u'{\"timezoneOffset\":-300,\"id\":97578,\"team2Name\":\"DC Breeze\",\"team_1_id\":22642,\"timezone\":\"US\\\\/Central\",\"team_2_id\":22644,\"team1Name\":\"Rochester Dragons\",\"start_time\":\"2013-06-23T16:00:00-05:00\"}', u'timestamp': u'2013-06-23 14:13', u'firstPointOline': False, u'theirs': 20, u'opponentName': u'DC Breeze', u'msSinceEpoch': 1371996780000, u'teamId': u'5724681378201600', u'time': u'2:13', u'date': u'Sun, 6/23', u'ours': 24, u'wind': {u'degrees': -1, u'leftToRight': True, u'mph': 0}}, {u'gameId': u'game-8883C8E0-5061-43D0-A6C3-F94FFF51505C', u'gamePoint': 1000, u'timeoutDetailsJson': u'{\"takenSecondHalf\":1,\"quotaPerHalf\":2,\"takenFirstHalf\":2,\"quotaFloaters\":0}', u'leaguevineJson': u'{\"timezoneOffset\":-240,\"id\":97557,\"team2Name\":\"NJ Hammerheads\",\"team_1_id\":22642,\"timezone\":\"US\\\\/Eastern\",\"team_2_id\":22639,\"team1Name\":\"Rochester Dragons\",\"start_time\":\"2013-06-08T19:00:00-04:00\"}', u'timestamp': u'2013-06-08 18:32', u'firstPointOline': False, u'theirs': 20, u'opponentName': u'NJ Hammerheads', u'msSinceEpoch': 1370716320000, u'teamId': u'5724681378201600', u'time': u'6:32', u'date': u'Sat, 6/08', u'ours': 26, u'wind': {u'degrees': -1, u'leftToRight': True, u'mph': 0}}]\n",
        "[{u'gameId': u'game-A76C14E4-1A0E-4A04-9633-AD69BEFCFCD1', u'gamePoint': 1000, u'timeoutDetailsJson': u'{\"takenSecondHalf\":0,\"quotaPerHalf\":2,\"takenFirstHalf\":0,\"quotaFloaters\":0}', u'theirs': 0, u'firstPointOline': False, u'opponentName': u'New York Empire', u'msSinceEpoch': 0, u'teamId': u'5724681378201600', u'leaguevineJson': u'{\"timezoneOffset\":-300,\"id\":97590,\"team2Name\":\"New York Empire\",\"team_1_id\":22642,\"timezone\":\"US\\\\/Central\",\"team_2_id\":22640,\"team1Name\":\"Rochester Dragons\",\"start_time\":\"2013-07-06T19:30:00-05:00\"}', u'ours': 0, u'wind': {u'degrees': -1, u'leftToRight': True, u'mph': 0}}, {u'gameId': u'game-25183EE4-B00B-4BD5-B5ED-71A70E0F2640', u'gamePoint': 1000, u'timeoutDetailsJson': u'{\"takenSecondHalf\":1,\"quotaPerHalf\":2,\"takenFirstHalf\":1,\"quotaFloaters\":0}', u'leaguevineJson': u'{\"timezoneOffset\":-240,\"id\":97544,\"team2Name\":\"Rochester Dragons\",\"team_1_id\":22644,\"timezone\":\"US\\\\/Eastern\",\"team_2_id\":22642,\"team1Name\":\"DC Breeze\",\"start_time\":\"2013-05-25T13:00:00-04:00\"}', u'timestamp': u'2013-05-25 13:22', u'firstPointOline': False, u'theirs': 14, u'opponentName': u'DC Breeze', u'msSinceEpoch': 1369488120000, u'teamId': u'5724681378201600', u'time': u'1:22', u'date': u'Sat, 5/25', u'ours': 16, u'wind': {u'degrees': -1, u'leftToRight': True, u'mph': 0}}, {u'gameId': u'game-560F0AB1-8A27-487A-83C6-27EB40C52C25', u'gamePoint': 1000, u'timeoutDetailsJson': u'{\"takenSecondHalf\":1,\"quotaPerHalf\":2,\"takenFirstHalf\":1,\"quotaFloaters\":0}', u'leaguevineJson': u'{\"timezoneOffset\":-240,\"id\":97553,\"team2Name\":\"Philadelphia Phoenix\",\"team_1_id\":22642,\"timezone\":\"US\\\\/Eastern\",\"team_2_id\":22641,\"team1Name\":\"Rochester Dragons\",\"start_time\":\"2013-06-02T14:00:00-04:00\"}', u'timestamp': u'2013-06-02 14:23', u'firstPointOline': False, u'theirs': 12, u'opponentName': u'Philadelphia Phoenix', u'msSinceEpoch': 1370182980000, u'teamId': u'5724681378201600', u'time': u'2:23', u'date': u'Sun, 6/02', u'ours': 14, u'wind': {u'degrees': -1, u'leftToRight': True, u'mph': 0}}, {u'gameId': u'game-29319A36-C1F6-47FA-B9E8-9EFD645BDD94', u'gamePoint': 1000, u'timeoutDetailsJson': u'{\"takenSecondHalf\":1,\"quotaPerHalf\":2,\"takenFirstHalf\":1,\"quotaFloaters\":0}', u'leaguevineJson': u'{\"timezoneOffset\":-300,\"id\":97590,\"team2Name\":\"New York Empire\",\"team_1_id\":22642,\"timezone\":\"US\\\\/Central\",\"team_2_id\":22640,\"team1Name\":\"Rochester Dragons\",\"start_time\":\"2013-07-06T19:30:00-05:00\"}', u'timestamp': u'2013-07-06 19:06', u'firstPointOline': False, u'theirs': 27, u'opponentName': u'New York Empire', u'msSinceEpoch': 1373137560000, u'teamId': u'5724681378201600', u'time': u'7:06', u'date': u'Sat, 7/06', u'ours': 22, u'wind': {u'degrees': -1, u'leftToRight': True, u'mph': 0}}, {u'gameId': u'game-EB2227C2-5BCF-45D7-BA58-91A49DD8581D', u'gamePoint': 1000, u'timeoutDetailsJson': u'{\"takenSecondHalf\":0,\"quotaPerHalf\":4,\"takenFirstHalf\":3,\"quotaFloaters\":0}', u'leaguevineJson': u'{\"timezoneOffset\":-300,\"id\":97586,\"team2Name\":\"Toronto Rush\",\"team_1_id\":22642,\"timezone\":\"US\\\\/Central\",\"team_2_id\":22643,\"team1Name\":\"Rochester Dragons\",\"start_time\":\"2013-06-30T16:00:00-05:00\"}', u'timestamp': u'2013-06-30 14:25', u'firstPointOline': False, u'theirs': 26, u'opponentName': u'Toronto Rush', u'msSinceEpoch': 1372602300000, u'teamId': u'5724681378201600', u'time': u'2:25', u'date': u'Sun, 6/30', u'ours': 20, u'wind': {u'degrees': -1, u'leftToRight': True, u'mph': 0}}, {u'gameId': u'game-94DB2758-80AE-4415-A3A8-7A53434282F1', u'gamePoint': 1000, u'timeoutDetailsJson': u'{\"takenSecondHalf\":2,\"quotaPerHalf\":2,\"takenFirstHalf\":2,\"quotaFloaters\":0}', u'leaguevineJson': u'{\"timezoneOffset\":-240,\"id\":97547,\"team2Name\":\"Rochester Dragons\",\"team_1_id\":22641,\"timezone\":\"US\\\\/Eastern\",\"team_2_id\":22642,\"team1Name\":\"Philadelphia Phoenix\",\"start_time\":\"2013-05-26T13:00:00-04:00\"}', u'timestamp': u'2013-05-26 13:23', u'firstPointOline': False, u'theirs': 17, u'opponentName': u'Philadelphia Phoenix', u'msSinceEpoch': 1369574580000, u'teamId': u'5724681378201600', u'time': u'1:23', u'date': u'Sun, 5/26', u'ours': 16, u'wind': {u'degrees': -1, u'leftToRight': True, u'mph': 0}}, {u'gameId': u'game-46B4F2B9-A058-42D0-B75A-2CBF36261F14', u'gamePoint': 1000, u'timeoutDetailsJson': u'{\"takenSecondHalf\":1,\"quotaPerHalf\":2,\"takenFirstHalf\":2,\"quotaFloaters\":0}', u'leaguevineJson': u'{\"timezoneOffset\":-300,\"id\":97578,\"team2Name\":\"DC Breeze\",\"team_1_id\":22642,\"timezone\":\"US\\\\/Central\",\"team_2_id\":22644,\"team1Name\":\"Rochester Dragons\",\"start_time\":\"2013-06-23T16:00:00-05:00\"}', u'timestamp': u'2013-06-23 14:13', u'firstPointOline': False, u'theirs': 20, u'opponentName': u'DC Breeze', u'msSinceEpoch': 1371996780000, u'teamId': u'5724681378201600', u'time': u'2:13', u'date': u'Sun, 6/23', u'ours': 24, u'wind': {u'degrees': -1, u'leftToRight': True, u'mph': 0}}, {u'gameId': u'game-8883C8E0-5061-43D0-A6C3-F94FFF51505C', u'gamePoint': 1000, u'timeoutDetailsJson': u'{\"takenSecondHalf\":1,\"quotaPerHalf\":2,\"takenFirstHalf\":2,\"quotaFloaters\":0}', u'leaguevineJson': u'{\"timezoneOffset\":-240,\"id\":97557,\"team2Name\":\"NJ Hammerheads\",\"team_1_id\":22642,\"timezone\":\"US\\\\/Eastern\",\"team_2_id\":22639,\"team1Name\":\"Rochester Dragons\",\"start_time\":\"2013-06-08T19:00:00-04:00\"}', u'timestamp': u'2013-06-08 18:32', u'firstPointOline': False, u'theirs': 20, u'opponentName': u'NJ Hammerheads', u'msSinceEpoch': 1370716320000, u'teamId': u'5724681378201600', u'time': u'6:32', u'date': u'Sat, 6/08', u'ours': 26, u'wind': {u'degrees': -1, u'leftToRight': True, u'mph': 0}}]\n",
        "[{u'gameId': u'game-A76C14E4-1A0E-4A04-9633-AD69BEFCFCD1', u'gamePoint': 1000, u'timeoutDetailsJson': u'{\"takenSecondHalf\":0,\"quotaPerHalf\":2,\"takenFirstHalf\":0,\"quotaFloaters\":0}', u'theirs': 0, u'firstPointOline': False, u'opponentName': u'New York Empire', u'msSinceEpoch': 0, u'teamId': u'5724681378201600', u'leaguevineJson': u'{\"timezoneOffset\":-300,\"id\":97590,\"team2Name\":\"New York Empire\",\"team_1_id\":22642,\"timezone\":\"US\\\\/Central\",\"team_2_id\":22640,\"team1Name\":\"Rochester Dragons\",\"start_time\":\"2013-07-06T19:30:00-05:00\"}', u'ours': 0, u'wind': {u'degrees': -1, u'leftToRight': True, u'mph': 0}}, {u'gameId': u'game-25183EE4-B00B-4BD5-B5ED-71A70E0F2640', u'gamePoint': 1000, u'timeoutDetailsJson': u'{\"takenSecondHalf\":1,\"quotaPerHalf\":2,\"takenFirstHalf\":1,\"quotaFloaters\":0}', u'leaguevineJson': u'{\"timezoneOffset\":-240,\"id\":97544,\"team2Name\":\"Rochester Dragons\",\"team_1_id\":22644,\"timezone\":\"US\\\\/Eastern\",\"team_2_id\":22642,\"team1Name\":\"DC Breeze\",\"start_time\":\"2013-05-25T13:00:00-04:00\"}', u'timestamp': u'2013-05-25 13:22', u'firstPointOline': False, u'theirs': 14, u'opponentName': u'DC Breeze', u'msSinceEpoch': 1369488120000, u'teamId': u'5724681378201600', u'time': u'1:22', u'date': u'Sat, 5/25', u'ours': 16, u'wind': {u'degrees': -1, u'leftToRight': True, u'mph': 0}}, {u'gameId': u'game-560F0AB1-8A27-487A-83C6-27EB40C52C25', u'gamePoint': 1000, u'timeoutDetailsJson': u'{\"takenSecondHalf\":1,\"quotaPerHalf\":2,\"takenFirstHalf\":1,\"quotaFloaters\":0}', u'leaguevineJson': u'{\"timezoneOffset\":-240,\"id\":97553,\"team2Name\":\"Philadelphia Phoenix\",\"team_1_id\":22642,\"timezone\":\"US\\\\/Eastern\",\"team_2_id\":22641,\"team1Name\":\"Rochester Dragons\",\"start_time\":\"2013-06-02T14:00:00-04:00\"}', u'timestamp': u'2013-06-02 14:23', u'firstPointOline': False, u'theirs': 12, u'opponentName': u'Philadelphia Phoenix', u'msSinceEpoch': 1370182980000, u'teamId': u'5724681378201600', u'time': u'2:23', u'date': u'Sun, 6/02', u'ours': 14, u'wind': {u'degrees': -1, u'leftToRight': True, u'mph': 0}}, {u'gameId': u'game-29319A36-C1F6-47FA-B9E8-9EFD645BDD94', u'gamePoint': 1000, u'timeoutDetailsJson': u'{\"takenSecondHalf\":1,\"quotaPerHalf\":2,\"takenFirstHalf\":1,\"quotaFloaters\":0}', u'leaguevineJson': u'{\"timezoneOffset\":-300,\"id\":97590,\"team2Name\":\"New York Empire\",\"team_1_id\":22642,\"timezone\":\"US\\\\/Central\",\"team_2_id\":22640,\"team1Name\":\"Rochester Dragons\",\"start_time\":\"2013-07-06T19:30:00-05:00\"}', u'timestamp': u'2013-07-06 19:06', u'firstPointOline': False, u'theirs': 27, u'opponentName': u'New York Empire', u'msSinceEpoch': 1373137560000, u'teamId': u'5724681378201600', u'time': u'7:06', u'date': u'Sat, 7/06', u'ours': 22, u'wind': {u'degrees': -1, u'leftToRight': True, u'mph': 0}}, {u'gameId': u'game-EB2227C2-5BCF-45D7-BA58-91A49DD8581D', u'gamePoint': 1000, u'timeoutDetailsJson': u'{\"takenSecondHalf\":0,\"quotaPerHalf\":4,\"takenFirstHalf\":3,\"quotaFloaters\":0}', u'leaguevineJson': u'{\"timezoneOffset\":-300,\"id\":97586,\"team2Name\":\"Toronto Rush\",\"team_1_id\":22642,\"timezone\":\"US\\\\/Central\",\"team_2_id\":22643,\"team1Name\":\"Rochester Dragons\",\"start_time\":\"2013-06-30T16:00:00-05:00\"}', u'timestamp': u'2013-06-30 14:25', u'firstPointOline': False, u'theirs': 26, u'opponentName': u'Toronto Rush', u'msSinceEpoch': 1372602300000, u'teamId': u'5724681378201600', u'time': u'2:25', u'date': u'Sun, 6/30', u'ours': 20, u'wind': {u'degrees': -1, u'leftToRight': True, u'mph': 0}}, {u'gameId': u'game-94DB2758-80AE-4415-A3A8-7A53434282F1', u'gamePoint': 1000, u'timeoutDetailsJson': u'{\"takenSecondHalf\":2,\"quotaPerHalf\":2,\"takenFirstHalf\":2,\"quotaFloaters\":0}', u'leaguevineJson': u'{\"timezoneOffset\":-240,\"id\":97547,\"team2Name\":\"Rochester Dragons\",\"team_1_id\":22641,\"timezone\":\"US\\\\/Eastern\",\"team_2_id\":22642,\"team1Name\":\"Philadelphia Phoenix\",\"start_time\":\"2013-05-26T13:00:00-04:00\"}', u'timestamp': u'2013-05-26 13:23', u'firstPointOline': False, u'theirs': 17, u'opponentName': u'Philadelphia Phoenix', u'msSinceEpoch': 1369574580000, u'teamId': u'5724681378201600', u'time': u'1:23', u'date': u'Sun, 5/26', u'ours': 16, u'wind': {u'degrees': -1, u'leftToRight': True, u'mph': 0}}, {u'gameId': u'game-46B4F2B9-A058-42D0-B75A-2CBF36261F14', u'gamePoint': 1000, u'timeoutDetailsJson': u'{\"takenSecondHalf\":1,\"quotaPerHalf\":2,\"takenFirstHalf\":2,\"quotaFloaters\":0}', u'leaguevineJson': u'{\"timezoneOffset\":-300,\"id\":97578,\"team2Name\":\"DC Breeze\",\"team_1_id\":22642,\"timezone\":\"US\\\\/Central\",\"team_2_id\":22644,\"team1Name\":\"Rochester Dragons\",\"start_time\":\"2013-06-23T16:00:00-05:00\"}', u'timestamp': u'2013-06-23 14:13', u'firstPointOline': False, u'theirs': 20, u'opponentName': u'DC Breeze', u'msSinceEpoch': 1371996780000, u'teamId': u'5724681378201600', u'time': u'2:13', u'date': u'Sun, 6/23', u'ours': 24, u'wind': {u'degrees': -1, u'leftToRight': True, u'mph': 0}}, {u'gameId': u'game-8883C8E0-5061-43D0-A6C3-F94FFF51505C', u'gamePoint': 1000, u'timeoutDetailsJson': u'{\"takenSecondHalf\":1,\"quotaPerHalf\":2,\"takenFirstHalf\":2,\"quotaFloaters\":0}', u'leaguevineJson': u'{\"timezoneOffset\":-240,\"id\":97557,\"team2Name\":\"NJ Hammerheads\",\"team_1_id\":22642,\"timezone\":\"US\\\\/Eastern\",\"team_2_id\":22639,\"team1Name\":\"Rochester Dragons\",\"start_time\":\"2013-06-08T19:00:00-04:00\"}', u'timestamp': u'2013-06-08 18:32', u'firstPointOline': False, u'theirs': 20, u'opponentName': u'NJ Hammerheads', u'msSinceEpoch': 1370716320000, u'teamId': u'5724681378201600', u'time': u'6:32', u'date': u'Sat, 6/08', u'ours': 26, u'wind': {u'degrees': -1, u'leftToRight': True, u'mph': 0}}]\n",
        "[{u'gameId': u'game-A76C14E4-1A0E-4A04-9633-AD69BEFCFCD1', u'gamePoint': 1000, u'timeoutDetailsJson': u'{\"takenSecondHalf\":0,\"quotaPerHalf\":2,\"takenFirstHalf\":0,\"quotaFloaters\":0}', u'theirs': 0, u'firstPointOline': False, u'opponentName': u'New York Empire', u'msSinceEpoch': 0, u'teamId': u'5724681378201600', u'leaguevineJson': u'{\"timezoneOffset\":-300,\"id\":97590,\"team2Name\":\"New York Empire\",\"team_1_id\":22642,\"timezone\":\"US\\\\/Central\",\"team_2_id\":22640,\"team1Name\":\"Rochester Dragons\",\"start_time\":\"2013-07-06T19:30:00-05:00\"}', u'ours': 0, u'wind': {u'degrees': -1, u'leftToRight': True, u'mph': 0}}, {u'gameId': u'game-25183EE4-B00B-4BD5-B5ED-71A70E0F2640', u'gamePoint': 1000, u'timeoutDetailsJson': u'{\"takenSecondHalf\":1,\"quotaPerHalf\":2,\"takenFirstHalf\":1,\"quotaFloaters\":0}', u'leaguevineJson': u'{\"timezoneOffset\":-240,\"id\":97544,\"team2Name\":\"Rochester Dragons\",\"team_1_id\":22644,\"timezone\":\"US\\\\/Eastern\",\"team_2_id\":22642,\"team1Name\":\"DC Breeze\",\"start_time\":\"2013-05-25T13:00:00-04:00\"}', u'timestamp': u'2013-05-25 13:22', u'firstPointOline': False, u'theirs': 14, u'opponentName': u'DC Breeze', u'msSinceEpoch': 1369488120000, u'teamId': u'5724681378201600', u'time': u'1:22', u'date': u'Sat, 5/25', u'ours': 16, u'wind': {u'degrees': -1, u'leftToRight': True, u'mph': 0}}, {u'gameId': u'game-560F0AB1-8A27-487A-83C6-27EB40C52C25', u'gamePoint': 1000, u'timeoutDetailsJson': u'{\"takenSecondHalf\":1,\"quotaPerHalf\":2,\"takenFirstHalf\":1,\"quotaFloaters\":0}', u'leaguevineJson': u'{\"timezoneOffset\":-240,\"id\":97553,\"team2Name\":\"Philadelphia Phoenix\",\"team_1_id\":22642,\"timezone\":\"US\\\\/Eastern\",\"team_2_id\":22641,\"team1Name\":\"Rochester Dragons\",\"start_time\":\"2013-06-02T14:00:00-04:00\"}', u'timestamp': u'2013-06-02 14:23', u'firstPointOline': False, u'theirs': 12, u'opponentName': u'Philadelphia Phoenix', u'msSinceEpoch': 1370182980000, u'teamId': u'5724681378201600', u'time': u'2:23', u'date': u'Sun, 6/02', u'ours': 14, u'wind': {u'degrees': -1, u'leftToRight': True, u'mph': 0}}, {u'gameId': u'game-29319A36-C1F6-47FA-B9E8-9EFD645BDD94', u'gamePoint': 1000, u'timeoutDetailsJson': u'{\"takenSecondHalf\":1,\"quotaPerHalf\":2,\"takenFirstHalf\":1,\"quotaFloaters\":0}', u'leaguevineJson': u'{\"timezoneOffset\":-300,\"id\":97590,\"team2Name\":\"New York Empire\",\"team_1_id\":22642,\"timezone\":\"US\\\\/Central\",\"team_2_id\":22640,\"team1Name\":\"Rochester Dragons\",\"start_time\":\"2013-07-06T19:30:00-05:00\"}', u'timestamp': u'2013-07-06 19:06', u'firstPointOline': False, u'theirs': 27, u'opponentName': u'New York Empire', u'msSinceEpoch': 1373137560000, u'teamId': u'5724681378201600', u'time': u'7:06', u'date': u'Sat, 7/06', u'ours': 22, u'wind': {u'degrees': -1, u'leftToRight': True, u'mph': 0}}, {u'gameId': u'game-EB2227C2-5BCF-45D7-BA58-91A49DD8581D', u'gamePoint': 1000, u'timeoutDetailsJson': u'{\"takenSecondHalf\":0,\"quotaPerHalf\":4,\"takenFirstHalf\":3,\"quotaFloaters\":0}', u'leaguevineJson': u'{\"timezoneOffset\":-300,\"id\":97586,\"team2Name\":\"Toronto Rush\",\"team_1_id\":22642,\"timezone\":\"US\\\\/Central\",\"team_2_id\":22643,\"team1Name\":\"Rochester Dragons\",\"start_time\":\"2013-06-30T16:00:00-05:00\"}', u'timestamp': u'2013-06-30 14:25', u'firstPointOline': False, u'theirs': 26, u'opponentName': u'Toronto Rush', u'msSinceEpoch': 1372602300000, u'teamId': u'5724681378201600', u'time': u'2:25', u'date': u'Sun, 6/30', u'ours': 20, u'wind': {u'degrees': -1, u'leftToRight': True, u'mph': 0}}, {u'gameId': u'game-94DB2758-80AE-4415-A3A8-7A53434282F1', u'gamePoint': 1000, u'timeoutDetailsJson': u'{\"takenSecondHalf\":2,\"quotaPerHalf\":2,\"takenFirstHalf\":2,\"quotaFloaters\":0}', u'leaguevineJson': u'{\"timezoneOffset\":-240,\"id\":97547,\"team2Name\":\"Rochester Dragons\",\"team_1_id\":22641,\"timezone\":\"US\\\\/Eastern\",\"team_2_id\":22642,\"team1Name\":\"Philadelphia Phoenix\",\"start_time\":\"2013-05-26T13:00:00-04:00\"}', u'timestamp': u'2013-05-26 13:23', u'firstPointOline': False, u'theirs': 17, u'opponentName': u'Philadelphia Phoenix', u'msSinceEpoch': 1369574580000, u'teamId': u'5724681378201600', u'time': u'1:23', u'date': u'Sun, 5/26', u'ours': 16, u'wind': {u'degrees': -1, u'leftToRight': True, u'mph': 0}}, {u'gameId': u'game-46B4F2B9-A058-42D0-B75A-2CBF36261F14', u'gamePoint': 1000, u'timeoutDetailsJson': u'{\"takenSecondHalf\":1,\"quotaPerHalf\":2,\"takenFirstHalf\":2,\"quotaFloaters\":0}', u'leaguevineJson': u'{\"timezoneOffset\":-300,\"id\":97578,\"team2Name\":\"DC Breeze\",\"team_1_id\":22642,\"timezone\":\"US\\\\/Central\",\"team_2_id\":22644,\"team1Name\":\"Rochester Dragons\",\"start_time\":\"2013-06-23T16:00:00-05:00\"}', u'timestamp': u'2013-06-23 14:13', u'firstPointOline': False, u'theirs': 20, u'opponentName': u'DC Breeze', u'msSinceEpoch': 1371996780000, u'teamId': u'5724681378201600', u'time': u'2:13', u'date': u'Sun, 6/23', u'ours': 24, u'wind': {u'degrees': -1, u'leftToRight': True, u'mph': 0}}, {u'gameId': u'game-8883C8E0-5061-43D0-A6C3-F94FFF51505C', u'gamePoint': 1000, u'timeoutDetailsJson': u'{\"takenSecondHalf\":1,\"quotaPerHalf\":2,\"takenFirstHalf\":2,\"quotaFloaters\":0}', u'leaguevineJson': u'{\"timezoneOffset\":-240,\"id\":97557,\"team2Name\":\"NJ Hammerheads\",\"team_1_id\":22642,\"timezone\":\"US\\\\/Eastern\",\"team_2_id\":22639,\"team1Name\":\"Rochester Dragons\",\"start_time\":\"2013-06-08T19:00:00-04:00\"}', u'timestamp': u'2013-06-08 18:32', u'firstPointOline': False, u'theirs': 20, u'opponentName': u'NJ Hammerheads', u'msSinceEpoch': 1370716320000, u'teamId': u'5724681378201600', u'time': u'6:32', u'date': u'Sat, 6/08', u'ours': 26, u'wind': {u'degrees': -1, u'leftToRight': True, u'mph': 0}}]\n",
        "[{u'gameId': u'game-A76C14E4-1A0E-4A04-9633-AD69BEFCFCD1', u'gamePoint': 1000, u'timeoutDetailsJson': u'{\"takenSecondHalf\":0,\"quotaPerHalf\":2,\"takenFirstHalf\":0,\"quotaFloaters\":0}', u'theirs': 0, u'firstPointOline': False, u'opponentName': u'New York Empire', u'msSinceEpoch': 0, u'teamId': u'5724681378201600', u'leaguevineJson': u'{\"timezoneOffset\":-300,\"id\":97590,\"team2Name\":\"New York Empire\",\"team_1_id\":22642,\"timezone\":\"US\\\\/Central\",\"team_2_id\":22640,\"team1Name\":\"Rochester Dragons\",\"start_time\":\"2013-07-06T19:30:00-05:00\"}', u'ours': 0, u'wind': {u'degrees': -1, u'leftToRight': True, u'mph': 0}}, {u'gameId': u'game-25183EE4-B00B-4BD5-B5ED-71A70E0F2640', u'gamePoint': 1000, u'timeoutDetailsJson': u'{\"takenSecondHalf\":1,\"quotaPerHalf\":2,\"takenFirstHalf\":1,\"quotaFloaters\":0}', u'leaguevineJson': u'{\"timezoneOffset\":-240,\"id\":97544,\"team2Name\":\"Rochester Dragons\",\"team_1_id\":22644,\"timezone\":\"US\\\\/Eastern\",\"team_2_id\":22642,\"team1Name\":\"DC Breeze\",\"start_time\":\"2013-05-25T13:00:00-04:00\"}', u'timestamp': u'2013-05-25 13:22', u'firstPointOline': False, u'theirs': 14, u'opponentName': u'DC Breeze', u'msSinceEpoch': 1369488120000, u'teamId': u'5724681378201600', u'time': u'1:22', u'date': u'Sat, 5/25', u'ours': 16, u'wind': {u'degrees': -1, u'leftToRight': True, u'mph': 0}}, {u'gameId': u'game-560F0AB1-8A27-487A-83C6-27EB40C52C25', u'gamePoint': 1000, u'timeoutDetailsJson': u'{\"takenSecondHalf\":1,\"quotaPerHalf\":2,\"takenFirstHalf\":1,\"quotaFloaters\":0}', u'leaguevineJson': u'{\"timezoneOffset\":-240,\"id\":97553,\"team2Name\":\"Philadelphia Phoenix\",\"team_1_id\":22642,\"timezone\":\"US\\\\/Eastern\",\"team_2_id\":22641,\"team1Name\":\"Rochester Dragons\",\"start_time\":\"2013-06-02T14:00:00-04:00\"}', u'timestamp': u'2013-06-02 14:23', u'firstPointOline': False, u'theirs': 12, u'opponentName': u'Philadelphia Phoenix', u'msSinceEpoch': 1370182980000, u'teamId': u'5724681378201600', u'time': u'2:23', u'date': u'Sun, 6/02', u'ours': 14, u'wind': {u'degrees': -1, u'leftToRight': True, u'mph': 0}}, {u'gameId': u'game-29319A36-C1F6-47FA-B9E8-9EFD645BDD94', u'gamePoint': 1000, u'timeoutDetailsJson': u'{\"takenSecondHalf\":1,\"quotaPerHalf\":2,\"takenFirstHalf\":1,\"quotaFloaters\":0}', u'leaguevineJson': u'{\"timezoneOffset\":-300,\"id\":97590,\"team2Name\":\"New York Empire\",\"team_1_id\":22642,\"timezone\":\"US\\\\/Central\",\"team_2_id\":22640,\"team1Name\":\"Rochester Dragons\",\"start_time\":\"2013-07-06T19:30:00-05:00\"}', u'timestamp': u'2013-07-06 19:06', u'firstPointOline': False, u'theirs': 27, u'opponentName': u'New York Empire', u'msSinceEpoch': 1373137560000, u'teamId': u'5724681378201600', u'time': u'7:06', u'date': u'Sat, 7/06', u'ours': 22, u'wind': {u'degrees': -1, u'leftToRight': True, u'mph': 0}}, {u'gameId': u'game-EB2227C2-5BCF-45D7-BA58-91A49DD8581D', u'gamePoint': 1000, u'timeoutDetailsJson': u'{\"takenSecondHalf\":0,\"quotaPerHalf\":4,\"takenFirstHalf\":3,\"quotaFloaters\":0}', u'leaguevineJson': u'{\"timezoneOffset\":-300,\"id\":97586,\"team2Name\":\"Toronto Rush\",\"team_1_id\":22642,\"timezone\":\"US\\\\/Central\",\"team_2_id\":22643,\"team1Name\":\"Rochester Dragons\",\"start_time\":\"2013-06-30T16:00:00-05:00\"}', u'timestamp': u'2013-06-30 14:25', u'firstPointOline': False, u'theirs': 26, u'opponentName': u'Toronto Rush', u'msSinceEpoch': 1372602300000, u'teamId': u'5724681378201600', u'time': u'2:25', u'date': u'Sun, 6/30', u'ours': 20, u'wind': {u'degrees': -1, u'leftToRight': True, u'mph': 0}}, {u'gameId': u'game-94DB2758-80AE-4415-A3A8-7A53434282F1', u'gamePoint': 1000, u'timeoutDetailsJson': u'{\"takenSecondHalf\":2,\"quotaPerHalf\":2,\"takenFirstHalf\":2,\"quotaFloaters\":0}', u'leaguevineJson': u'{\"timezoneOffset\":-240,\"id\":97547,\"team2Name\":\"Rochester Dragons\",\"team_1_id\":22641,\"timezone\":\"US\\\\/Eastern\",\"team_2_id\":22642,\"team1Name\":\"Philadelphia Phoenix\",\"start_time\":\"2013-05-26T13:00:00-04:00\"}', u'timestamp': u'2013-05-26 13:23', u'firstPointOline': False, u'theirs': 17, u'opponentName': u'Philadelphia Phoenix', u'msSinceEpoch': 1369574580000, u'teamId': u'5724681378201600', u'time': u'1:23', u'date': u'Sun, 5/26', u'ours': 16, u'wind': {u'degrees': -1, u'leftToRight': True, u'mph': 0}}, {u'gameId': u'game-46B4F2B9-A058-42D0-B75A-2CBF36261F14', u'gamePoint': 1000, u'timeoutDetailsJson': u'{\"takenSecondHalf\":1,\"quotaPerHalf\":2,\"takenFirstHalf\":2,\"quotaFloaters\":0}', u'leaguevineJson': u'{\"timezoneOffset\":-300,\"id\":97578,\"team2Name\":\"DC Breeze\",\"team_1_id\":22642,\"timezone\":\"US\\\\/Central\",\"team_2_id\":22644,\"team1Name\":\"Rochester Dragons\",\"start_time\":\"2013-06-23T16:00:00-05:00\"}', u'timestamp': u'2013-06-23 14:13', u'firstPointOline': False, u'theirs': 20, u'opponentName': u'DC Breeze', u'msSinceEpoch': 1371996780000, u'teamId': u'5724681378201600', u'time': u'2:13', u'date': u'Sun, 6/23', u'ours': 24, u'wind': {u'degrees': -1, u'leftToRight': True, u'mph': 0}}, {u'gameId': u'game-8883C8E0-5061-43D0-A6C3-F94FFF51505C', u'gamePoint': 1000, u'timeoutDetailsJson': u'{\"takenSecondHalf\":1,\"quotaPerHalf\":2,\"takenFirstHalf\":2,\"quotaFloaters\":0}', u'leaguevineJson': u'{\"timezoneOffset\":-240,\"id\":97557,\"team2Name\":\"NJ Hammerheads\",\"team_1_id\":22642,\"timezone\":\"US\\\\/Eastern\",\"team_2_id\":22639,\"team1Name\":\"Rochester Dragons\",\"start_time\":\"2013-06-08T19:00:00-04:00\"}', u'timestamp': u'2013-06-08 18:32', u'firstPointOline': False, u'theirs': 20, u'opponentName': u'NJ Hammerheads', u'msSinceEpoch': 1370716320000, u'teamId': u'5724681378201600', u'time': u'6:32', u'date': u'Sat, 6/08', u'ours': 26, u'wind': {u'degrees': -1, u'leftToRight': True, u'mph': 0}}]\n",
        "[{u'gameId': u'game-A76C14E4-1A0E-4A04-9633-AD69BEFCFCD1', u'gamePoint': 1000, u'timeoutDetailsJson': u'{\"takenSecondHalf\":0,\"quotaPerHalf\":2,\"takenFirstHalf\":0,\"quotaFloaters\":0}', u'theirs': 0, u'firstPointOline': False, u'opponentName': u'New York Empire', u'msSinceEpoch': 0, u'teamId': u'5724681378201600', u'leaguevineJson': u'{\"timezoneOffset\":-300,\"id\":97590,\"team2Name\":\"New York Empire\",\"team_1_id\":22642,\"timezone\":\"US\\\\/Central\",\"team_2_id\":22640,\"team1Name\":\"Rochester Dragons\",\"start_time\":\"2013-07-06T19:30:00-05:00\"}', u'ours': 0, u'wind': {u'degrees': -1, u'leftToRight': True, u'mph': 0}}, {u'gameId': u'game-25183EE4-B00B-4BD5-B5ED-71A70E0F2640', u'gamePoint': 1000, u'timeoutDetailsJson': u'{\"takenSecondHalf\":1,\"quotaPerHalf\":2,\"takenFirstHalf\":1,\"quotaFloaters\":0}', u'leaguevineJson': u'{\"timezoneOffset\":-240,\"id\":97544,\"team2Name\":\"Rochester Dragons\",\"team_1_id\":22644,\"timezone\":\"US\\\\/Eastern\",\"team_2_id\":22642,\"team1Name\":\"DC Breeze\",\"start_time\":\"2013-05-25T13:00:00-04:00\"}', u'timestamp': u'2013-05-25 13:22', u'firstPointOline': False, u'theirs': 14, u'opponentName': u'DC Breeze', u'msSinceEpoch': 1369488120000, u'teamId': u'5724681378201600', u'time': u'1:22', u'date': u'Sat, 5/25', u'ours': 16, u'wind': {u'degrees': -1, u'leftToRight': True, u'mph': 0}}, {u'gameId': u'game-560F0AB1-8A27-487A-83C6-27EB40C52C25', u'gamePoint': 1000, u'timeoutDetailsJson': u'{\"takenSecondHalf\":1,\"quotaPerHalf\":2,\"takenFirstHalf\":1,\"quotaFloaters\":0}', u'leaguevineJson': u'{\"timezoneOffset\":-240,\"id\":97553,\"team2Name\":\"Philadelphia Phoenix\",\"team_1_id\":22642,\"timezone\":\"US\\\\/Eastern\",\"team_2_id\":22641,\"team1Name\":\"Rochester Dragons\",\"start_time\":\"2013-06-02T14:00:00-04:00\"}', u'timestamp': u'2013-06-02 14:23', u'firstPointOline': False, u'theirs': 12, u'opponentName': u'Philadelphia Phoenix', u'msSinceEpoch': 1370182980000, u'teamId': u'5724681378201600', u'time': u'2:23', u'date': u'Sun, 6/02', u'ours': 14, u'wind': {u'degrees': -1, u'leftToRight': True, u'mph': 0}}, {u'gameId': u'game-29319A36-C1F6-47FA-B9E8-9EFD645BDD94', u'gamePoint': 1000, u'timeoutDetailsJson': u'{\"takenSecondHalf\":1,\"quotaPerHalf\":2,\"takenFirstHalf\":1,\"quotaFloaters\":0}', u'leaguevineJson': u'{\"timezoneOffset\":-300,\"id\":97590,\"team2Name\":\"New York Empire\",\"team_1_id\":22642,\"timezone\":\"US\\\\/Central\",\"team_2_id\":22640,\"team1Name\":\"Rochester Dragons\",\"start_time\":\"2013-07-06T19:30:00-05:00\"}', u'timestamp': u'2013-07-06 19:06', u'firstPointOline': False, u'theirs': 27, u'opponentName': u'New York Empire', u'msSinceEpoch': 1373137560000, u'teamId': u'5724681378201600', u'time': u'7:06', u'date': u'Sat, 7/06', u'ours': 22, u'wind': {u'degrees': -1, u'leftToRight': True, u'mph': 0}}, {u'gameId': u'game-EB2227C2-5BCF-45D7-BA58-91A49DD8581D', u'gamePoint': 1000, u'timeoutDetailsJson': u'{\"takenSecondHalf\":0,\"quotaPerHalf\":4,\"takenFirstHalf\":3,\"quotaFloaters\":0}', u'leaguevineJson': u'{\"timezoneOffset\":-300,\"id\":97586,\"team2Name\":\"Toronto Rush\",\"team_1_id\":22642,\"timezone\":\"US\\\\/Central\",\"team_2_id\":22643,\"team1Name\":\"Rochester Dragons\",\"start_time\":\"2013-06-30T16:00:00-05:00\"}', u'timestamp': u'2013-06-30 14:25', u'firstPointOline': False, u'theirs': 26, u'opponentName': u'Toronto Rush', u'msSinceEpoch': 1372602300000, u'teamId': u'5724681378201600', u'time': u'2:25', u'date': u'Sun, 6/30', u'ours': 20, u'wind': {u'degrees': -1, u'leftToRight': True, u'mph': 0}}, {u'gameId': u'game-94DB2758-80AE-4415-A3A8-7A53434282F1', u'gamePoint': 1000, u'timeoutDetailsJson': u'{\"takenSecondHalf\":2,\"quotaPerHalf\":2,\"takenFirstHalf\":2,\"quotaFloaters\":0}', u'leaguevineJson': u'{\"timezoneOffset\":-240,\"id\":97547,\"team2Name\":\"Rochester Dragons\",\"team_1_id\":22641,\"timezone\":\"US\\\\/Eastern\",\"team_2_id\":22642,\"team1Name\":\"Philadelphia Phoenix\",\"start_time\":\"2013-05-26T13:00:00-04:00\"}', u'timestamp': u'2013-05-26 13:23', u'firstPointOline': False, u'theirs': 17, u'opponentName': u'Philadelphia Phoenix', u'msSinceEpoch': 1369574580000, u'teamId': u'5724681378201600', u'time': u'1:23', u'date': u'Sun, 5/26', u'ours': 16, u'wind': {u'degrees': -1, u'leftToRight': True, u'mph': 0}}, {u'gameId': u'game-46B4F2B9-A058-42D0-B75A-2CBF36261F14', u'gamePoint': 1000, u'timeoutDetailsJson': u'{\"takenSecondHalf\":1,\"quotaPerHalf\":2,\"takenFirstHalf\":2,\"quotaFloaters\":0}', u'leaguevineJson': u'{\"timezoneOffset\":-300,\"id\":97578,\"team2Name\":\"DC Breeze\",\"team_1_id\":22642,\"timezone\":\"US\\\\/Central\",\"team_2_id\":22644,\"team1Name\":\"Rochester Dragons\",\"start_time\":\"2013-06-23T16:00:00-05:00\"}', u'timestamp': u'2013-06-23 14:13', u'firstPointOline': False, u'theirs': 20, u'opponentName': u'DC Breeze', u'msSinceEpoch': 1371996780000, u'teamId': u'5724681378201600', u'time': u'2:13', u'date': u'Sun, 6/23', u'ours': 24, u'wind': {u'degrees': -1, u'leftToRight': True, u'mph': 0}}, {u'gameId': u'game-8883C8E0-5061-43D0-A6C3-F94FFF51505C', u'gamePoint': 1000, u'timeoutDetailsJson': u'{\"takenSecondHalf\":1,\"quotaPerHalf\":2,\"takenFirstHalf\":2,\"quotaFloaters\":0}', u'leaguevineJson': u'{\"timezoneOffset\":-240,\"id\":97557,\"team2Name\":\"NJ Hammerheads\",\"team_1_id\":22642,\"timezone\":\"US\\\\/Eastern\",\"team_2_id\":22639,\"team1Name\":\"Rochester Dragons\",\"start_time\":\"2013-06-08T19:00:00-04:00\"}', u'timestamp': u'2013-06-08 18:32', u'firstPointOline': False, u'theirs': 20, u'opponentName': u'NJ Hammerheads', u'msSinceEpoch': 1370716320000, u'teamId': u'5724681378201600', u'time': u'6:32', u'date': u'Sat, 6/08', u'ours': 26, u'wind': {u'degrees': -1, u'leftToRight': True, u'mph': 0}}]\n",
        "[{u'gameId': u'game-A76C14E4-1A0E-4A04-9633-AD69BEFCFCD1', u'gamePoint': 1000, u'timeoutDetailsJson': u'{\"takenSecondHalf\":0,\"quotaPerHalf\":2,\"takenFirstHalf\":0,\"quotaFloaters\":0}', u'theirs': 0, u'firstPointOline': False, u'opponentName': u'New York Empire', u'msSinceEpoch': 0, u'teamId': u'5724681378201600', u'leaguevineJson': u'{\"timezoneOffset\":-300,\"id\":97590,\"team2Name\":\"New York Empire\",\"team_1_id\":22642,\"timezone\":\"US\\\\/Central\",\"team_2_id\":22640,\"team1Name\":\"Rochester Dragons\",\"start_time\":\"2013-07-06T19:30:00-05:00\"}', u'ours': 0, u'wind': {u'degrees': -1, u'leftToRight': True, u'mph': 0}}, {u'gameId': u'game-25183EE4-B00B-4BD5-B5ED-71A70E0F2640', u'gamePoint': 1000, u'timeoutDetailsJson': u'{\"takenSecondHalf\":1,\"quotaPerHalf\":2,\"takenFirstHalf\":1,\"quotaFloaters\":0}', u'leaguevineJson': u'{\"timezoneOffset\":-240,\"id\":97544,\"team2Name\":\"Rochester Dragons\",\"team_1_id\":22644,\"timezone\":\"US\\\\/Eastern\",\"team_2_id\":22642,\"team1Name\":\"DC Breeze\",\"start_time\":\"2013-05-25T13:00:00-04:00\"}', u'timestamp': u'2013-05-25 13:22', u'firstPointOline': False, u'theirs': 14, u'opponentName': u'DC Breeze', u'msSinceEpoch': 1369488120000, u'teamId': u'5724681378201600', u'time': u'1:22', u'date': u'Sat, 5/25', u'ours': 16, u'wind': {u'degrees': -1, u'leftToRight': True, u'mph': 0}}, {u'gameId': u'game-560F0AB1-8A27-487A-83C6-27EB40C52C25', u'gamePoint': 1000, u'timeoutDetailsJson': u'{\"takenSecondHalf\":1,\"quotaPerHalf\":2,\"takenFirstHalf\":1,\"quotaFloaters\":0}', u'leaguevineJson': u'{\"timezoneOffset\":-240,\"id\":97553,\"team2Name\":\"Philadelphia Phoenix\",\"team_1_id\":22642,\"timezone\":\"US\\\\/Eastern\",\"team_2_id\":22641,\"team1Name\":\"Rochester Dragons\",\"start_time\":\"2013-06-02T14:00:00-04:00\"}', u'timestamp': u'2013-06-02 14:23', u'firstPointOline': False, u'theirs': 12, u'opponentName': u'Philadelphia Phoenix', u'msSinceEpoch': 1370182980000, u'teamId': u'5724681378201600', u'time': u'2:23', u'date': u'Sun, 6/02', u'ours': 14, u'wind': {u'degrees': -1, u'leftToRight': True, u'mph': 0}}, {u'gameId': u'game-29319A36-C1F6-47FA-B9E8-9EFD645BDD94', u'gamePoint': 1000, u'timeoutDetailsJson': u'{\"takenSecondHalf\":1,\"quotaPerHalf\":2,\"takenFirstHalf\":1,\"quotaFloaters\":0}', u'leaguevineJson': u'{\"timezoneOffset\":-300,\"id\":97590,\"team2Name\":\"New York Empire\",\"team_1_id\":22642,\"timezone\":\"US\\\\/Central\",\"team_2_id\":22640,\"team1Name\":\"Rochester Dragons\",\"start_time\":\"2013-07-06T19:30:00-05:00\"}', u'timestamp': u'2013-07-06 19:06', u'firstPointOline': False, u'theirs': 27, u'opponentName': u'New York Empire', u'msSinceEpoch': 1373137560000, u'teamId': u'5724681378201600', u'time': u'7:06', u'date': u'Sat, 7/06', u'ours': 22, u'wind': {u'degrees': -1, u'leftToRight': True, u'mph': 0}}, {u'gameId': u'game-EB2227C2-5BCF-45D7-BA58-91A49DD8581D', u'gamePoint': 1000, u'timeoutDetailsJson': u'{\"takenSecondHalf\":0,\"quotaPerHalf\":4,\"takenFirstHalf\":3,\"quotaFloaters\":0}', u'leaguevineJson': u'{\"timezoneOffset\":-300,\"id\":97586,\"team2Name\":\"Toronto Rush\",\"team_1_id\":22642,\"timezone\":\"US\\\\/Central\",\"team_2_id\":22643,\"team1Name\":\"Rochester Dragons\",\"start_time\":\"2013-06-30T16:00:00-05:00\"}', u'timestamp': u'2013-06-30 14:25', u'firstPointOline': False, u'theirs': 26, u'opponentName': u'Toronto Rush', u'msSinceEpoch': 1372602300000, u'teamId': u'5724681378201600', u'time': u'2:25', u'date': u'Sun, 6/30', u'ours': 20, u'wind': {u'degrees': -1, u'leftToRight': True, u'mph': 0}}, {u'gameId': u'game-94DB2758-80AE-4415-A3A8-7A53434282F1', u'gamePoint': 1000, u'timeoutDetailsJson': u'{\"takenSecondHalf\":2,\"quotaPerHalf\":2,\"takenFirstHalf\":2,\"quotaFloaters\":0}', u'leaguevineJson': u'{\"timezoneOffset\":-240,\"id\":97547,\"team2Name\":\"Rochester Dragons\",\"team_1_id\":22641,\"timezone\":\"US\\\\/Eastern\",\"team_2_id\":22642,\"team1Name\":\"Philadelphia Phoenix\",\"start_time\":\"2013-05-26T13:00:00-04:00\"}', u'timestamp': u'2013-05-26 13:23', u'firstPointOline': False, u'theirs': 17, u'opponentName': u'Philadelphia Phoenix', u'msSinceEpoch': 1369574580000, u'teamId': u'5724681378201600', u'time': u'1:23', u'date': u'Sun, 5/26', u'ours': 16, u'wind': {u'degrees': -1, u'leftToRight': True, u'mph': 0}}, {u'gameId': u'game-46B4F2B9-A058-42D0-B75A-2CBF36261F14', u'gamePoint': 1000, u'timeoutDetailsJson': u'{\"takenSecondHalf\":1,\"quotaPerHalf\":2,\"takenFirstHalf\":2,\"quotaFloaters\":0}', u'leaguevineJson': u'{\"timezoneOffset\":-300,\"id\":97578,\"team2Name\":\"DC Breeze\",\"team_1_id\":22642,\"timezone\":\"US\\\\/Central\",\"team_2_id\":22644,\"team1Name\":\"Rochester Dragons\",\"start_time\":\"2013-06-23T16:00:00-05:00\"}', u'timestamp': u'2013-06-23 14:13', u'firstPointOline': False, u'theirs': 20, u'opponentName': u'DC Breeze', u'msSinceEpoch': 1371996780000, u'teamId': u'5724681378201600', u'time': u'2:13', u'date': u'Sun, 6/23', u'ours': 24, u'wind': {u'degrees': -1, u'leftToRight': True, u'mph': 0}}, {u'gameId': u'game-8883C8E0-5061-43D0-A6C3-F94FFF51505C', u'gamePoint': 1000, u'timeoutDetailsJson': u'{\"takenSecondHalf\":1,\"quotaPerHalf\":2,\"takenFirstHalf\":2,\"quotaFloaters\":0}', u'leaguevineJson': u'{\"timezoneOffset\":-240,\"id\":97557,\"team2Name\":\"NJ Hammerheads\",\"team_1_id\":22642,\"timezone\":\"US\\\\/Eastern\",\"team_2_id\":22639,\"team1Name\":\"Rochester Dragons\",\"start_time\":\"2013-06-08T19:00:00-04:00\"}', u'timestamp': u'2013-06-08 18:32', u'firstPointOline': False, u'theirs': 20, u'opponentName': u'NJ Hammerheads', u'msSinceEpoch': 1370716320000, u'teamId': u'5724681378201600', u'time': u'6:32', u'date': u'Sat, 6/08', u'ours': 26, u'wind': {u'degrees': -1, u'leftToRight': True, u'mph': 0}}]\n",
        "[{u'gameId': u'game-A76C14E4-1A0E-4A04-9633-AD69BEFCFCD1', u'gamePoint': 1000, u'timeoutDetailsJson': u'{\"takenSecondHalf\":0,\"quotaPerHalf\":2,\"takenFirstHalf\":0,\"quotaFloaters\":0}', u'theirs': 0, u'firstPointOline': False, u'opponentName': u'New York Empire', u'msSinceEpoch': 0, u'teamId': u'5724681378201600', u'leaguevineJson': u'{\"timezoneOffset\":-300,\"id\":97590,\"team2Name\":\"New York Empire\",\"team_1_id\":22642,\"timezone\":\"US\\\\/Central\",\"team_2_id\":22640,\"team1Name\":\"Rochester Dragons\",\"start_time\":\"2013-07-06T19:30:00-05:00\"}', u'ours': 0, u'wind': {u'degrees': -1, u'leftToRight': True, u'mph': 0}}, {u'gameId': u'game-25183EE4-B00B-4BD5-B5ED-71A70E0F2640', u'gamePoint': 1000, u'timeoutDetailsJson': u'{\"takenSecondHalf\":1,\"quotaPerHalf\":2,\"takenFirstHalf\":1,\"quotaFloaters\":0}', u'leaguevineJson': u'{\"timezoneOffset\":-240,\"id\":97544,\"team2Name\":\"Rochester Dragons\",\"team_1_id\":22644,\"timezone\":\"US\\\\/Eastern\",\"team_2_id\":22642,\"team1Name\":\"DC Breeze\",\"start_time\":\"2013-05-25T13:00:00-04:00\"}', u'timestamp': u'2013-05-25 13:22', u'firstPointOline': False, u'theirs': 14, u'opponentName': u'DC Breeze', u'msSinceEpoch': 1369488120000, u'teamId': u'5724681378201600', u'time': u'1:22', u'date': u'Sat, 5/25', u'ours': 16, u'wind': {u'degrees': -1, u'leftToRight': True, u'mph': 0}}, {u'gameId': u'game-560F0AB1-8A27-487A-83C6-27EB40C52C25', u'gamePoint': 1000, u'timeoutDetailsJson': u'{\"takenSecondHalf\":1,\"quotaPerHalf\":2,\"takenFirstHalf\":1,\"quotaFloaters\":0}', u'leaguevineJson': u'{\"timezoneOffset\":-240,\"id\":97553,\"team2Name\":\"Philadelphia Phoenix\",\"team_1_id\":22642,\"timezone\":\"US\\\\/Eastern\",\"team_2_id\":22641,\"team1Name\":\"Rochester Dragons\",\"start_time\":\"2013-06-02T14:00:00-04:00\"}', u'timestamp': u'2013-06-02 14:23', u'firstPointOline': False, u'theirs': 12, u'opponentName': u'Philadelphia Phoenix', u'msSinceEpoch': 1370182980000, u'teamId': u'5724681378201600', u'time': u'2:23', u'date': u'Sun, 6/02', u'ours': 14, u'wind': {u'degrees': -1, u'leftToRight': True, u'mph': 0}}, {u'gameId': u'game-29319A36-C1F6-47FA-B9E8-9EFD645BDD94', u'gamePoint': 1000, u'timeoutDetailsJson': u'{\"takenSecondHalf\":1,\"quotaPerHalf\":2,\"takenFirstHalf\":1,\"quotaFloaters\":0}', u'leaguevineJson': u'{\"timezoneOffset\":-300,\"id\":97590,\"team2Name\":\"New York Empire\",\"team_1_id\":22642,\"timezone\":\"US\\\\/Central\",\"team_2_id\":22640,\"team1Name\":\"Rochester Dragons\",\"start_time\":\"2013-07-06T19:30:00-05:00\"}', u'timestamp': u'2013-07-06 19:06', u'firstPointOline': False, u'theirs': 27, u'opponentName': u'New York Empire', u'msSinceEpoch': 1373137560000, u'teamId': u'5724681378201600', u'time': u'7:06', u'date': u'Sat, 7/06', u'ours': 22, u'wind': {u'degrees': -1, u'leftToRight': True, u'mph': 0}}, {u'gameId': u'game-EB2227C2-5BCF-45D7-BA58-91A49DD8581D', u'gamePoint': 1000, u'timeoutDetailsJson': u'{\"takenSecondHalf\":0,\"quotaPerHalf\":4,\"takenFirstHalf\":3,\"quotaFloaters\":0}', u'leaguevineJson': u'{\"timezoneOffset\":-300,\"id\":97586,\"team2Name\":\"Toronto Rush\",\"team_1_id\":22642,\"timezone\":\"US\\\\/Central\",\"team_2_id\":22643,\"team1Name\":\"Rochester Dragons\",\"start_time\":\"2013-06-30T16:00:00-05:00\"}', u'timestamp': u'2013-06-30 14:25', u'firstPointOline': False, u'theirs': 26, u'opponentName': u'Toronto Rush', u'msSinceEpoch': 1372602300000, u'teamId': u'5724681378201600', u'time': u'2:25', u'date': u'Sun, 6/30', u'ours': 20, u'wind': {u'degrees': -1, u'leftToRight': True, u'mph': 0}}, {u'gameId': u'game-94DB2758-80AE-4415-A3A8-7A53434282F1', u'gamePoint': 1000, u'timeoutDetailsJson': u'{\"takenSecondHalf\":2,\"quotaPerHalf\":2,\"takenFirstHalf\":2,\"quotaFloaters\":0}', u'leaguevineJson': u'{\"timezoneOffset\":-240,\"id\":97547,\"team2Name\":\"Rochester Dragons\",\"team_1_id\":22641,\"timezone\":\"US\\\\/Eastern\",\"team_2_id\":22642,\"team1Name\":\"Philadelphia Phoenix\",\"start_time\":\"2013-05-26T13:00:00-04:00\"}', u'timestamp': u'2013-05-26 13:23', u'firstPointOline': False, u'theirs': 17, u'opponentName': u'Philadelphia Phoenix', u'msSinceEpoch': 1369574580000, u'teamId': u'5724681378201600', u'time': u'1:23', u'date': u'Sun, 5/26', u'ours': 16, u'wind': {u'degrees': -1, u'leftToRight': True, u'mph': 0}}, {u'gameId': u'game-46B4F2B9-A058-42D0-B75A-2CBF36261F14', u'gamePoint': 1000, u'timeoutDetailsJson': u'{\"takenSecondHalf\":1,\"quotaPerHalf\":2,\"takenFirstHalf\":2,\"quotaFloaters\":0}', u'leaguevineJson': u'{\"timezoneOffset\":-300,\"id\":97578,\"team2Name\":\"DC Breeze\",\"team_1_id\":22642,\"timezone\":\"US\\\\/Central\",\"team_2_id\":22644,\"team1Name\":\"Rochester Dragons\",\"start_time\":\"2013-06-23T16:00:00-05:00\"}', u'timestamp': u'2013-06-23 14:13', u'firstPointOline': False, u'theirs': 20, u'opponentName': u'DC Breeze', u'msSinceEpoch': 1371996780000, u'teamId': u'5724681378201600', u'time': u'2:13', u'date': u'Sun, 6/23', u'ours': 24, u'wind': {u'degrees': -1, u'leftToRight': True, u'mph': 0}}, {u'gameId': u'game-8883C8E0-5061-43D0-A6C3-F94FFF51505C', u'gamePoint': 1000, u'timeoutDetailsJson': u'{\"takenSecondHalf\":1,\"quotaPerHalf\":2,\"takenFirstHalf\":2,\"quotaFloaters\":0}', u'leaguevineJson': u'{\"timezoneOffset\":-240,\"id\":97557,\"team2Name\":\"NJ Hammerheads\",\"team_1_id\":22642,\"timezone\":\"US\\\\/Eastern\",\"team_2_id\":22639,\"team1Name\":\"Rochester Dragons\",\"start_time\":\"2013-06-08T19:00:00-04:00\"}', u'timestamp': u'2013-06-08 18:32', u'firstPointOline': False, u'theirs': 20, u'opponentName': u'NJ Hammerheads', u'msSinceEpoch': 1370716320000, u'teamId': u'5724681378201600', u'time': u'6:32', u'date': u'Sat, 6/08', u'ours': 26, u'wind': {u'degrees': -1, u'leftToRight': True, u'mph': 0}}]\n",
        "[{u'gameId': u'game-A76C14E4-1A0E-4A04-9633-AD69BEFCFCD1', u'gamePoint': 1000, u'timeoutDetailsJson': u'{\"takenSecondHalf\":0,\"quotaPerHalf\":2,\"takenFirstHalf\":0,\"quotaFloaters\":0}', u'theirs': 0, u'firstPointOline': False, u'opponentName': u'New York Empire', u'msSinceEpoch': 0, u'teamId': u'5724681378201600', u'leaguevineJson': u'{\"timezoneOffset\":-300,\"id\":97590,\"team2Name\":\"New York Empire\",\"team_1_id\":22642,\"timezone\":\"US\\\\/Central\",\"team_2_id\":22640,\"team1Name\":\"Rochester Dragons\",\"start_time\":\"2013-07-06T19:30:00-05:00\"}', u'ours': 0, u'wind': {u'degrees': -1, u'leftToRight': True, u'mph': 0}}, {u'gameId': u'game-25183EE4-B00B-4BD5-B5ED-71A70E0F2640', u'gamePoint': 1000, u'timeoutDetailsJson': u'{\"takenSecondHalf\":1,\"quotaPerHalf\":2,\"takenFirstHalf\":1,\"quotaFloaters\":0}', u'leaguevineJson': u'{\"timezoneOffset\":-240,\"id\":97544,\"team2Name\":\"Rochester Dragons\",\"team_1_id\":22644,\"timezone\":\"US\\\\/Eastern\",\"team_2_id\":22642,\"team1Name\":\"DC Breeze\",\"start_time\":\"2013-05-25T13:00:00-04:00\"}', u'timestamp': u'2013-05-25 13:22', u'firstPointOline': False, u'theirs': 14, u'opponentName': u'DC Breeze', u'msSinceEpoch': 1369488120000, u'teamId': u'5724681378201600', u'time': u'1:22', u'date': u'Sat, 5/25', u'ours': 16, u'wind': {u'degrees': -1, u'leftToRight': True, u'mph': 0}}, {u'gameId': u'game-560F0AB1-8A27-487A-83C6-27EB40C52C25', u'gamePoint': 1000, u'timeoutDetailsJson': u'{\"takenSecondHalf\":1,\"quotaPerHalf\":2,\"takenFirstHalf\":1,\"quotaFloaters\":0}', u'leaguevineJson': u'{\"timezoneOffset\":-240,\"id\":97553,\"team2Name\":\"Philadelphia Phoenix\",\"team_1_id\":22642,\"timezone\":\"US\\\\/Eastern\",\"team_2_id\":22641,\"team1Name\":\"Rochester Dragons\",\"start_time\":\"2013-06-02T14:00:00-04:00\"}', u'timestamp': u'2013-06-02 14:23', u'firstPointOline': False, u'theirs': 12, u'opponentName': u'Philadelphia Phoenix', u'msSinceEpoch': 1370182980000, u'teamId': u'5724681378201600', u'time': u'2:23', u'date': u'Sun, 6/02', u'ours': 14, u'wind': {u'degrees': -1, u'leftToRight': True, u'mph': 0}}, {u'gameId': u'game-29319A36-C1F6-47FA-B9E8-9EFD645BDD94', u'gamePoint': 1000, u'timeoutDetailsJson': u'{\"takenSecondHalf\":1,\"quotaPerHalf\":2,\"takenFirstHalf\":1,\"quotaFloaters\":0}', u'leaguevineJson': u'{\"timezoneOffset\":-300,\"id\":97590,\"team2Name\":\"New York Empire\",\"team_1_id\":22642,\"timezone\":\"US\\\\/Central\",\"team_2_id\":22640,\"team1Name\":\"Rochester Dragons\",\"start_time\":\"2013-07-06T19:30:00-05:00\"}', u'timestamp': u'2013-07-06 19:06', u'firstPointOline': False, u'theirs': 27, u'opponentName': u'New York Empire', u'msSinceEpoch': 1373137560000, u'teamId': u'5724681378201600', u'time': u'7:06', u'date': u'Sat, 7/06', u'ours': 22, u'wind': {u'degrees': -1, u'leftToRight': True, u'mph': 0}}, {u'gameId': u'game-EB2227C2-5BCF-45D7-BA58-91A49DD8581D', u'gamePoint': 1000, u'timeoutDetailsJson': u'{\"takenSecondHalf\":0,\"quotaPerHalf\":4,\"takenFirstHalf\":3,\"quotaFloaters\":0}', u'leaguevineJson': u'{\"timezoneOffset\":-300,\"id\":97586,\"team2Name\":\"Toronto Rush\",\"team_1_id\":22642,\"timezone\":\"US\\\\/Central\",\"team_2_id\":22643,\"team1Name\":\"Rochester Dragons\",\"start_time\":\"2013-06-30T16:00:00-05:00\"}', u'timestamp': u'2013-06-30 14:25', u'firstPointOline': False, u'theirs': 26, u'opponentName': u'Toronto Rush', u'msSinceEpoch': 1372602300000, u'teamId': u'5724681378201600', u'time': u'2:25', u'date': u'Sun, 6/30', u'ours': 20, u'wind': {u'degrees': -1, u'leftToRight': True, u'mph': 0}}, {u'gameId': u'game-94DB2758-80AE-4415-A3A8-7A53434282F1', u'gamePoint': 1000, u'timeoutDetailsJson': u'{\"takenSecondHalf\":2,\"quotaPerHalf\":2,\"takenFirstHalf\":2,\"quotaFloaters\":0}', u'leaguevineJson': u'{\"timezoneOffset\":-240,\"id\":97547,\"team2Name\":\"Rochester Dragons\",\"team_1_id\":22641,\"timezone\":\"US\\\\/Eastern\",\"team_2_id\":22642,\"team1Name\":\"Philadelphia Phoenix\",\"start_time\":\"2013-05-26T13:00:00-04:00\"}', u'timestamp': u'2013-05-26 13:23', u'firstPointOline': False, u'theirs': 17, u'opponentName': u'Philadelphia Phoenix', u'msSinceEpoch': 1369574580000, u'teamId': u'5724681378201600', u'time': u'1:23', u'date': u'Sun, 5/26', u'ours': 16, u'wind': {u'degrees': -1, u'leftToRight': True, u'mph': 0}}, {u'gameId': u'game-46B4F2B9-A058-42D0-B75A-2CBF36261F14', u'gamePoint': 1000, u'timeoutDetailsJson': u'{\"takenSecondHalf\":1,\"quotaPerHalf\":2,\"takenFirstHalf\":2,\"quotaFloaters\":0}', u'leaguevineJson': u'{\"timezoneOffset\":-300,\"id\":97578,\"team2Name\":\"DC Breeze\",\"team_1_id\":22642,\"timezone\":\"US\\\\/Central\",\"team_2_id\":22644,\"team1Name\":\"Rochester Dragons\",\"start_time\":\"2013-06-23T16:00:00-05:00\"}', u'timestamp': u'2013-06-23 14:13', u'firstPointOline': False, u'theirs': 20, u'opponentName': u'DC Breeze', u'msSinceEpoch': 1371996780000, u'teamId': u'5724681378201600', u'time': u'2:13', u'date': u'Sun, 6/23', u'ours': 24, u'wind': {u'degrees': -1, u'leftToRight': True, u'mph': 0}}, {u'gameId': u'game-8883C8E0-5061-43D0-A6C3-F94FFF51505C', u'gamePoint': 1000, u'timeoutDetailsJson': u'{\"takenSecondHalf\":1,\"quotaPerHalf\":2,\"takenFirstHalf\":2,\"quotaFloaters\":0}', u'leaguevineJson': u'{\"timezoneOffset\":-240,\"id\":97557,\"team2Name\":\"NJ Hammerheads\",\"team_1_id\":22642,\"timezone\":\"US\\\\/Eastern\",\"team_2_id\":22639,\"team1Name\":\"Rochester Dragons\",\"start_time\":\"2013-06-08T19:00:00-04:00\"}', u'timestamp': u'2013-06-08 18:32', u'firstPointOline': False, u'theirs': 20, u'opponentName': u'NJ Hammerheads', u'msSinceEpoch': 1370716320000, u'teamId': u'5724681378201600', u'time': u'6:32', u'date': u'Sat, 6/08', u'ours': 26, u'wind': {u'degrees': -1, u'leftToRight': True, u'mph': 0}}]\n",
        "http://www.ultimate-numbers.com/rest/view/team/5732910535540736/games"
       ]
      },
      {
       "output_type": "stream",
       "stream": "stdout",
       "text": [
        "\n",
        "[]"
       ]
      },
      {
       "output_type": "stream",
       "stream": "stdout",
       "text": [
        "\n",
        "[]\n",
        "[]\n",
        "[]\n",
        "[]\n",
        "[]\n",
        "[]\n",
        "[]\n",
        "[]\n",
        "[]\n",
        "[]\n",
        "[]\n",
        "[]\n",
        "[]\n",
        "http://www.ultimate-numbers.com/rest/view/team/5716606839685120/games"
       ]
      },
      {
       "output_type": "stream",
       "stream": "stdout",
       "text": [
        "\n",
        "[{u'gameId': u'game-C1B0498B-BF90-444D-A94B-F08896776BD0', u'gamePoint': 1000, u'timeoutDetailsJson': u'{\"takenSecondHalf\":0,\"quotaPerHalf\":1,\"takenFirstHalf\":0,\"quotaFloaters\":1}', u'timestamp': u'2014-04-12 19:00', u'firstPointOline': False, u'theirs': 0, u'opponentName': u'Vancouver Riptide', u'msSinceEpoch': 1397329200000, u'teamId': u'5716606839685120', u'tournamentName': u'AUDL Regular Season', u'time': u'7:00', u'date': u'Sat, 4/12', u'ours': 0, u'wind': {u'degrees': -1, u'leftToRight': True, u'mph': 0}}, {u'gameId': u'game-FDD6BBD8-9486-4187-8D73-2080DF2B0E29', u'gamePoint': 1000, u'timeoutDetailsJson': u'{\"takenSecondHalf\":0,\"quotaPerHalf\":1,\"takenFirstHalf\":0,\"quotaFloaters\":1}', u'timestamp': u'2014-04-13 12:00', u'firstPointOline': True, u'theirs': 0, u'opponentName': u'Vancouver Riptide', u'msSinceEpoch': 1397390400000, u'teamId': u'5716606839685120', u'tournamentName': u'AUDL Regular Season', u'time': u'12:00', u'date': u'Sun, 4/13', u'ours': 0, u'wind': {u'degrees': -1, u'leftToRight': True, u'mph': 0}}]"
       ]
      },
      {
       "output_type": "stream",
       "stream": "stdout",
       "text": [
        "\n",
        "2014-04-13 12:00\n",
        "[{u'gameId': u'game-C1B0498B-BF90-444D-A94B-F08896776BD0', u'gamePoint': 1000, u'timeoutDetailsJson': u'{\"takenSecondHalf\":0,\"quotaPerHalf\":1,\"takenFirstHalf\":0,\"quotaFloaters\":1}', u'timestamp': u'2014-04-12 19:00', u'firstPointOline': False, u'theirs': 0, u'opponentName': u'Vancouver Riptide', u'msSinceEpoch': 1397329200000, u'teamId': u'5716606839685120', u'tournamentName': u'AUDL Regular Season', u'time': u'7:00', u'date': u'Sat, 4/12', u'ours': 0, u'wind': {u'degrees': -1, u'leftToRight': True, u'mph': 0}}, {u'gameId': u'game-FDD6BBD8-9486-4187-8D73-2080DF2B0E29', u'gamePoint': 1000, u'timeoutDetailsJson': u'{\"takenSecondHalf\":0,\"quotaPerHalf\":1,\"takenFirstHalf\":0,\"quotaFloaters\":1}', u'timestamp': u'2014-04-13 12:00', u'firstPointOline': True, u'theirs': 0, u'opponentName': u'Vancouver Riptide', u'msSinceEpoch': 1397390400000, u'teamId': u'5716606839685120', u'tournamentName': u'AUDL Regular Season', u'time': u'12:00', u'date': u'Sun, 4/13', u'ours': 0, u'wind': {u'degrees': -1, u'leftToRight': True, u'mph': 0}}]\n",
        "[{u'gameId': u'game-C1B0498B-BF90-444D-A94B-F08896776BD0', u'gamePoint': 1000, u'timeoutDetailsJson': u'{\"takenSecondHalf\":0,\"quotaPerHalf\":1,\"takenFirstHalf\":0,\"quotaFloaters\":1}', u'timestamp': u'2014-04-12 19:00', u'firstPointOline': False, u'theirs': 0, u'opponentName': u'Vancouver Riptide', u'msSinceEpoch': 1397329200000, u'teamId': u'5716606839685120', u'tournamentName': u'AUDL Regular Season', u'time': u'7:00', u'date': u'Sat, 4/12', u'ours': 0, u'wind': {u'degrees': -1, u'leftToRight': True, u'mph': 0}}, {u'gameId': u'game-FDD6BBD8-9486-4187-8D73-2080DF2B0E29', u'gamePoint': 1000, u'timeoutDetailsJson': u'{\"takenSecondHalf\":0,\"quotaPerHalf\":1,\"takenFirstHalf\":0,\"quotaFloaters\":1}', u'timestamp': u'2014-04-13 12:00', u'firstPointOline': True, u'theirs': 0, u'opponentName': u'Vancouver Riptide', u'msSinceEpoch': 1397390400000, u'teamId': u'5716606839685120', u'tournamentName': u'AUDL Regular Season', u'time': u'12:00', u'date': u'Sun, 4/13', u'ours': 0, u'wind': {u'degrees': -1, u'leftToRight': True, u'mph': 0}}]\n",
        "[{u'gameId': u'game-C1B0498B-BF90-444D-A94B-F08896776BD0', u'gamePoint': 1000, u'timeoutDetailsJson': u'{\"takenSecondHalf\":0,\"quotaPerHalf\":1,\"takenFirstHalf\":0,\"quotaFloaters\":1}', u'timestamp': u'2014-04-12 19:00', u'firstPointOline': False, u'theirs': 0, u'opponentName': u'Vancouver Riptide', u'msSinceEpoch': 1397329200000, u'teamId': u'5716606839685120', u'tournamentName': u'AUDL Regular Season', u'time': u'7:00', u'date': u'Sat, 4/12', u'ours': 0, u'wind': {u'degrees': -1, u'leftToRight': True, u'mph': 0}}, {u'gameId': u'game-FDD6BBD8-9486-4187-8D73-2080DF2B0E29', u'gamePoint': 1000, u'timeoutDetailsJson': u'{\"takenSecondHalf\":0,\"quotaPerHalf\":1,\"takenFirstHalf\":0,\"quotaFloaters\":1}', u'timestamp': u'2014-04-13 12:00', u'firstPointOline': True, u'theirs': 0, u'opponentName': u'Vancouver Riptide', u'msSinceEpoch': 1397390400000, u'teamId': u'5716606839685120', u'tournamentName': u'AUDL Regular Season', u'time': u'12:00', u'date': u'Sun, 4/13', u'ours': 0, u'wind': {u'degrees': -1, u'leftToRight': True, u'mph': 0}}]\n",
        "[{u'gameId': u'game-C1B0498B-BF90-444D-A94B-F08896776BD0', u'gamePoint': 1000, u'timeoutDetailsJson': u'{\"takenSecondHalf\":0,\"quotaPerHalf\":1,\"takenFirstHalf\":0,\"quotaFloaters\":1}', u'timestamp': u'2014-04-12 19:00', u'firstPointOline': False, u'theirs': 0, u'opponentName': u'Vancouver Riptide', u'msSinceEpoch': 1397329200000, u'teamId': u'5716606839685120', u'tournamentName': u'AUDL Regular Season', u'time': u'7:00', u'date': u'Sat, 4/12', u'ours': 0, u'wind': {u'degrees': -1, u'leftToRight': True, u'mph': 0}}, {u'gameId': u'game-FDD6BBD8-9486-4187-8D73-2080DF2B0E29', u'gamePoint': 1000, u'timeoutDetailsJson': u'{\"takenSecondHalf\":0,\"quotaPerHalf\":1,\"takenFirstHalf\":0,\"quotaFloaters\":1}', u'timestamp': u'2014-04-13 12:00', u'firstPointOline': True, u'theirs': 0, u'opponentName': u'Vancouver Riptide', u'msSinceEpoch': 1397390400000, u'teamId': u'5716606839685120', u'tournamentName': u'AUDL Regular Season', u'time': u'12:00', u'date': u'Sun, 4/13', u'ours': 0, u'wind': {u'degrees': -1, u'leftToRight': True, u'mph': 0}}]\n",
        "[{u'gameId': u'game-C1B0498B-BF90-444D-A94B-F08896776BD0', u'gamePoint': 1000, u'timeoutDetailsJson': u'{\"takenSecondHalf\":0,\"quotaPerHalf\":1,\"takenFirstHalf\":0,\"quotaFloaters\":1}', u'timestamp': u'2014-04-12 19:00', u'firstPointOline': False, u'theirs': 0, u'opponentName': u'Vancouver Riptide', u'msSinceEpoch': 1397329200000, u'teamId': u'5716606839685120', u'tournamentName': u'AUDL Regular Season', u'time': u'7:00', u'date': u'Sat, 4/12', u'ours': 0, u'wind': {u'degrees': -1, u'leftToRight': True, u'mph': 0}}, {u'gameId': u'game-FDD6BBD8-9486-4187-8D73-2080DF2B0E29', u'gamePoint': 1000, u'timeoutDetailsJson': u'{\"takenSecondHalf\":0,\"quotaPerHalf\":1,\"takenFirstHalf\":0,\"quotaFloaters\":1}', u'timestamp': u'2014-04-13 12:00', u'firstPointOline': True, u'theirs': 0, u'opponentName': u'Vancouver Riptide', u'msSinceEpoch': 1397390400000, u'teamId': u'5716606839685120', u'tournamentName': u'AUDL Regular Season', u'time': u'12:00', u'date': u'Sun, 4/13', u'ours': 0, u'wind': {u'degrees': -1, u'leftToRight': True, u'mph': 0}}]\n",
        "[{u'gameId': u'game-C1B0498B-BF90-444D-A94B-F08896776BD0', u'gamePoint': 1000, u'timeoutDetailsJson': u'{\"takenSecondHalf\":0,\"quotaPerHalf\":1,\"takenFirstHalf\":0,\"quotaFloaters\":1}', u'timestamp': u'2014-04-12 19:00', u'firstPointOline': False, u'theirs': 0, u'opponentName': u'Vancouver Riptide', u'msSinceEpoch': 1397329200000, u'teamId': u'5716606839685120', u'tournamentName': u'AUDL Regular Season', u'time': u'7:00', u'date': u'Sat, 4/12', u'ours': 0, u'wind': {u'degrees': -1, u'leftToRight': True, u'mph': 0}}, {u'gameId': u'game-FDD6BBD8-9486-4187-8D73-2080DF2B0E29', u'gamePoint': 1000, u'timeoutDetailsJson': u'{\"takenSecondHalf\":0,\"quotaPerHalf\":1,\"takenFirstHalf\":0,\"quotaFloaters\":1}', u'timestamp': u'2014-04-13 12:00', u'firstPointOline': True, u'theirs': 0, u'opponentName': u'Vancouver Riptide', u'msSinceEpoch': 1397390400000, u'teamId': u'5716606839685120', u'tournamentName': u'AUDL Regular Season', u'time': u'12:00', u'date': u'Sun, 4/13', u'ours': 0, u'wind': {u'degrees': -1, u'leftToRight': True, u'mph': 0}}]\n",
        "[{u'gameId': u'game-C1B0498B-BF90-444D-A94B-F08896776BD0', u'gamePoint': 1000, u'timeoutDetailsJson': u'{\"takenSecondHalf\":0,\"quotaPerHalf\":1,\"takenFirstHalf\":0,\"quotaFloaters\":1}', u'timestamp': u'2014-04-12 19:00', u'firstPointOline': False, u'theirs': 0, u'opponentName': u'Vancouver Riptide', u'msSinceEpoch': 1397329200000, u'teamId': u'5716606839685120', u'tournamentName': u'AUDL Regular Season', u'time': u'7:00', u'date': u'Sat, 4/12', u'ours': 0, u'wind': {u'degrees': -1, u'leftToRight': True, u'mph': 0}}, {u'gameId': u'game-FDD6BBD8-9486-4187-8D73-2080DF2B0E29', u'gamePoint': 1000, u'timeoutDetailsJson': u'{\"takenSecondHalf\":0,\"quotaPerHalf\":1,\"takenFirstHalf\":0,\"quotaFloaters\":1}', u'timestamp': u'2014-04-13 12:00', u'firstPointOline': True, u'theirs': 0, u'opponentName': u'Vancouver Riptide', u'msSinceEpoch': 1397390400000, u'teamId': u'5716606839685120', u'tournamentName': u'AUDL Regular Season', u'time': u'12:00', u'date': u'Sun, 4/13', u'ours': 0, u'wind': {u'degrees': -1, u'leftToRight': True, u'mph': 0}}]\n",
        "[{u'gameId': u'game-C1B0498B-BF90-444D-A94B-F08896776BD0', u'gamePoint': 1000, u'timeoutDetailsJson': u'{\"takenSecondHalf\":0,\"quotaPerHalf\":1,\"takenFirstHalf\":0,\"quotaFloaters\":1}', u'timestamp': u'2014-04-12 19:00', u'firstPointOline': False, u'theirs': 0, u'opponentName': u'Vancouver Riptide', u'msSinceEpoch': 1397329200000, u'teamId': u'5716606839685120', u'tournamentName': u'AUDL Regular Season', u'time': u'7:00', u'date': u'Sat, 4/12', u'ours': 0, u'wind': {u'degrees': -1, u'leftToRight': True, u'mph': 0}}, {u'gameId': u'game-FDD6BBD8-9486-4187-8D73-2080DF2B0E29', u'gamePoint': 1000, u'timeoutDetailsJson': u'{\"takenSecondHalf\":0,\"quotaPerHalf\":1,\"takenFirstHalf\":0,\"quotaFloaters\":1}', u'timestamp': u'2014-04-13 12:00', u'firstPointOline': True, u'theirs': 0, u'opponentName': u'Vancouver Riptide', u'msSinceEpoch': 1397390400000, u'teamId': u'5716606839685120', u'tournamentName': u'AUDL Regular Season', u'time': u'12:00', u'date': u'Sun, 4/13', u'ours': 0, u'wind': {u'degrees': -1, u'leftToRight': True, u'mph': 0}}]\n",
        "[{u'gameId': u'game-C1B0498B-BF90-444D-A94B-F08896776BD0', u'gamePoint': 1000, u'timeoutDetailsJson': u'{\"takenSecondHalf\":0,\"quotaPerHalf\":1,\"takenFirstHalf\":0,\"quotaFloaters\":1}', u'timestamp': u'2014-04-12 19:00', u'firstPointOline': False, u'theirs': 0, u'opponentName': u'Vancouver Riptide', u'msSinceEpoch': 1397329200000, u'teamId': u'5716606839685120', u'tournamentName': u'AUDL Regular Season', u'time': u'7:00', u'date': u'Sat, 4/12', u'ours': 0, u'wind': {u'degrees': -1, u'leftToRight': True, u'mph': 0}}, {u'gameId': u'game-FDD6BBD8-9486-4187-8D73-2080DF2B0E29', u'gamePoint': 1000, u'timeoutDetailsJson': u'{\"takenSecondHalf\":0,\"quotaPerHalf\":1,\"takenFirstHalf\":0,\"quotaFloaters\":1}', u'timestamp': u'2014-04-13 12:00', u'firstPointOline': True, u'theirs': 0, u'opponentName': u'Vancouver Riptide', u'msSinceEpoch': 1397390400000, u'teamId': u'5716606839685120', u'tournamentName': u'AUDL Regular Season', u'time': u'12:00', u'date': u'Sun, 4/13', u'ours': 0, u'wind': {u'degrees': -1, u'leftToRight': True, u'mph': 0}}]\n",
        "2014-04-12 19:00\n",
        "[{u'gameId': u'game-C1B0498B-BF90-444D-A94B-F08896776BD0', u'gamePoint': 1000, u'timeoutDetailsJson': u'{\"takenSecondHalf\":0,\"quotaPerHalf\":1,\"takenFirstHalf\":0,\"quotaFloaters\":1}', u'timestamp': u'2014-04-12 19:00', u'firstPointOline': False, u'theirs': 0, u'opponentName': u'Vancouver Riptide', u'msSinceEpoch': 1397329200000, u'teamId': u'5716606839685120', u'tournamentName': u'AUDL Regular Season', u'time': u'7:00', u'date': u'Sat, 4/12', u'ours': 0, u'wind': {u'degrees': -1, u'leftToRight': True, u'mph': 0}}, {u'gameId': u'game-FDD6BBD8-9486-4187-8D73-2080DF2B0E29', u'gamePoint': 1000, u'timeoutDetailsJson': u'{\"takenSecondHalf\":0,\"quotaPerHalf\":1,\"takenFirstHalf\":0,\"quotaFloaters\":1}', u'timestamp': u'2014-04-13 12:00', u'firstPointOline': True, u'theirs': 0, u'opponentName': u'Vancouver Riptide', u'msSinceEpoch': 1397390400000, u'teamId': u'5716606839685120', u'tournamentName': u'AUDL Regular Season', u'time': u'12:00', u'date': u'Sun, 4/13', u'ours': 0, u'wind': {u'degrees': -1, u'leftToRight': True, u'mph': 0}}]\n",
        "[{u'gameId': u'game-C1B0498B-BF90-444D-A94B-F08896776BD0', u'gamePoint': 1000, u'timeoutDetailsJson': u'{\"takenSecondHalf\":0,\"quotaPerHalf\":1,\"takenFirstHalf\":0,\"quotaFloaters\":1}', u'timestamp': u'2014-04-12 19:00', u'firstPointOline': False, u'theirs': 0, u'opponentName': u'Vancouver Riptide', u'msSinceEpoch': 1397329200000, u'teamId': u'5716606839685120', u'tournamentName': u'AUDL Regular Season', u'time': u'7:00', u'date': u'Sat, 4/12', u'ours': 0, u'wind': {u'degrees': -1, u'leftToRight': True, u'mph': 0}}, {u'gameId': u'game-FDD6BBD8-9486-4187-8D73-2080DF2B0E29', u'gamePoint': 1000, u'timeoutDetailsJson': u'{\"takenSecondHalf\":0,\"quotaPerHalf\":1,\"takenFirstHalf\":0,\"quotaFloaters\":1}', u'timestamp': u'2014-04-13 12:00', u'firstPointOline': True, u'theirs': 0, u'opponentName': u'Vancouver Riptide', u'msSinceEpoch': 1397390400000, u'teamId': u'5716606839685120', u'tournamentName': u'AUDL Regular Season', u'time': u'12:00', u'date': u'Sun, 4/13', u'ours': 0, u'wind': {u'degrees': -1, u'leftToRight': True, u'mph': 0}}]\n",
        "[{u'gameId': u'game-C1B0498B-BF90-444D-A94B-F08896776BD0', u'gamePoint': 1000, u'timeoutDetailsJson': u'{\"takenSecondHalf\":0,\"quotaPerHalf\":1,\"takenFirstHalf\":0,\"quotaFloaters\":1}', u'timestamp': u'2014-04-12 19:00', u'firstPointOline': False, u'theirs': 0, u'opponentName': u'Vancouver Riptide', u'msSinceEpoch': 1397329200000, u'teamId': u'5716606839685120', u'tournamentName': u'AUDL Regular Season', u'time': u'7:00', u'date': u'Sat, 4/12', u'ours': 0, u'wind': {u'degrees': -1, u'leftToRight': True, u'mph': 0}}, {u'gameId': u'game-FDD6BBD8-9486-4187-8D73-2080DF2B0E29', u'gamePoint': 1000, u'timeoutDetailsJson': u'{\"takenSecondHalf\":0,\"quotaPerHalf\":1,\"takenFirstHalf\":0,\"quotaFloaters\":1}', u'timestamp': u'2014-04-13 12:00', u'firstPointOline': True, u'theirs': 0, u'opponentName': u'Vancouver Riptide', u'msSinceEpoch': 1397390400000, u'teamId': u'5716606839685120', u'tournamentName': u'AUDL Regular Season', u'time': u'12:00', u'date': u'Sun, 4/13', u'ours': 0, u'wind': {u'degrees': -1, u'leftToRight': True, u'mph': 0}}]\n",
        "[{u'gameId': u'game-C1B0498B-BF90-444D-A94B-F08896776BD0', u'gamePoint': 1000, u'timeoutDetailsJson': u'{\"takenSecondHalf\":0,\"quotaPerHalf\":1,\"takenFirstHalf\":0,\"quotaFloaters\":1}', u'timestamp': u'2014-04-12 19:00', u'firstPointOline': False, u'theirs': 0, u'opponentName': u'Vancouver Riptide', u'msSinceEpoch': 1397329200000, u'teamId': u'5716606839685120', u'tournamentName': u'AUDL Regular Season', u'time': u'7:00', u'date': u'Sat, 4/12', u'ours': 0, u'wind': {u'degrees': -1, u'leftToRight': True, u'mph': 0}}, {u'gameId': u'game-FDD6BBD8-9486-4187-8D73-2080DF2B0E29', u'gamePoint': 1000, u'timeoutDetailsJson': u'{\"takenSecondHalf\":0,\"quotaPerHalf\":1,\"takenFirstHalf\":0,\"quotaFloaters\":1}', u'timestamp': u'2014-04-13 12:00', u'firstPointOline': True, u'theirs': 0, u'opponentName': u'Vancouver Riptide', u'msSinceEpoch': 1397390400000, u'teamId': u'5716606839685120', u'tournamentName': u'AUDL Regular Season', u'time': u'12:00', u'date': u'Sun, 4/13', u'ours': 0, u'wind': {u'degrees': -1, u'leftToRight': True, u'mph': 0}}]\n",
        "http://www.ultimate-numbers.com/rest/view/team/6226234774126592/games"
       ]
      },
      {
       "output_type": "stream",
       "stream": "stdout",
       "text": [
        "\n",
        "[]"
       ]
      },
      {
       "output_type": "stream",
       "stream": "stdout",
       "text": [
        "\n",
        "[]\n",
        "2014-04-13 12:00\n",
        "[]\n",
        "[]\n",
        "[]\n",
        "[]\n",
        "[]\n",
        "[]\n",
        "[]\n",
        "[]\n",
        "[]\n",
        "2014-04-12 19:00\n",
        "[]\n",
        "[]\n",
        "[]\n",
        "http://www.ultimate-numbers.com/rest/view/team/4868028676177920/games"
       ]
      },
      {
       "output_type": "stream",
       "stream": "stdout",
       "text": [
        "\n",
        "[]"
       ]
      },
      {
       "output_type": "stream",
       "stream": "stdout",
       "text": [
        "\n",
        "[]\n",
        "[]\n",
        "[]\n",
        "[]\n",
        "[]\n",
        "[]\n",
        "[]\n",
        "[]\n",
        "[]\n",
        "[]\n",
        "[]\n",
        "[]\n",
        "[]\n",
        "http://www.ultimate-numbers.com/rest/view/team/5075454121738240/games"
       ]
      },
      {
       "output_type": "stream",
       "stream": "stdout",
       "text": [
        "\n",
        "[]"
       ]
      },
      {
       "output_type": "stream",
       "stream": "stdout",
       "text": [
        "\n",
        "[]\n",
        "[]\n",
        "[]\n",
        "[]\n",
        "[]\n",
        "[]\n",
        "[]\n",
        "[]\n",
        "[]\n",
        "[]\n",
        "[]\n",
        "[]\n",
        "[]\n",
        "http://www.ultimate-numbers.com/rest/view/team/5753341694967808/games"
       ]
      },
      {
       "output_type": "stream",
       "stream": "stdout",
       "text": [
        "\n",
        "[{u'gameId': u'game-6F3A1501-947F-4DCD-AFE2-D49D21EAA3B6', u'gamePoint': 15, u'timestamp': u'2014-03-29 10:00', u'firstPointOline': False, u'theirs': 0, u'opponentName': u'Pratique 29 Mars', u'msSinceEpoch': 1396087200000, u'teamId': u'5753341694967808', u'tournamentName': u'', u'time': u'10:00', u'date': u'Sat, 3/29', u'ours': 0, u'wind': {u'degrees': -1, u'leftToRight': True, u'mph': 0}}]"
       ]
      },
      {
       "output_type": "stream",
       "stream": "stdout",
       "text": [
        "\n",
        "[{u'gameId': u'game-6F3A1501-947F-4DCD-AFE2-D49D21EAA3B6', u'gamePoint': 15, u'timestamp': u'2014-03-29 10:00', u'firstPointOline': False, u'theirs': 0, u'opponentName': u'Pratique 29 Mars', u'msSinceEpoch': 1396087200000, u'teamId': u'5753341694967808', u'tournamentName': u'', u'time': u'10:00', u'date': u'Sat, 3/29', u'ours': 0, u'wind': {u'degrees': -1, u'leftToRight': True, u'mph': 0}}]\n",
        "[{u'gameId': u'game-6F3A1501-947F-4DCD-AFE2-D49D21EAA3B6', u'gamePoint': 15, u'timestamp': u'2014-03-29 10:00', u'firstPointOline': False, u'theirs': 0, u'opponentName': u'Pratique 29 Mars', u'msSinceEpoch': 1396087200000, u'teamId': u'5753341694967808', u'tournamentName': u'', u'time': u'10:00', u'date': u'Sat, 3/29', u'ours': 0, u'wind': {u'degrees': -1, u'leftToRight': True, u'mph': 0}}]\n",
        "[{u'gameId': u'game-6F3A1501-947F-4DCD-AFE2-D49D21EAA3B6', u'gamePoint': 15, u'timestamp': u'2014-03-29 10:00', u'firstPointOline': False, u'theirs': 0, u'opponentName': u'Pratique 29 Mars', u'msSinceEpoch': 1396087200000, u'teamId': u'5753341694967808', u'tournamentName': u'', u'time': u'10:00', u'date': u'Sat, 3/29', u'ours': 0, u'wind': {u'degrees': -1, u'leftToRight': True, u'mph': 0}}]\n",
        "[{u'gameId': u'game-6F3A1501-947F-4DCD-AFE2-D49D21EAA3B6', u'gamePoint': 15, u'timestamp': u'2014-03-29 10:00', u'firstPointOline': False, u'theirs': 0, u'opponentName': u'Pratique 29 Mars', u'msSinceEpoch': 1396087200000, u'teamId': u'5753341694967808', u'tournamentName': u'', u'time': u'10:00', u'date': u'Sat, 3/29', u'ours': 0, u'wind': {u'degrees': -1, u'leftToRight': True, u'mph': 0}}]\n",
        "[{u'gameId': u'game-6F3A1501-947F-4DCD-AFE2-D49D21EAA3B6', u'gamePoint': 15, u'timestamp': u'2014-03-29 10:00', u'firstPointOline': False, u'theirs': 0, u'opponentName': u'Pratique 29 Mars', u'msSinceEpoch': 1396087200000, u'teamId': u'5753341694967808', u'tournamentName': u'', u'time': u'10:00', u'date': u'Sat, 3/29', u'ours': 0, u'wind': {u'degrees': -1, u'leftToRight': True, u'mph': 0}}]\n",
        "[{u'gameId': u'game-6F3A1501-947F-4DCD-AFE2-D49D21EAA3B6', u'gamePoint': 15, u'timestamp': u'2014-03-29 10:00', u'firstPointOline': False, u'theirs': 0, u'opponentName': u'Pratique 29 Mars', u'msSinceEpoch': 1396087200000, u'teamId': u'5753341694967808', u'tournamentName': u'', u'time': u'10:00', u'date': u'Sat, 3/29', u'ours': 0, u'wind': {u'degrees': -1, u'leftToRight': True, u'mph': 0}}]\n",
        "[{u'gameId': u'game-6F3A1501-947F-4DCD-AFE2-D49D21EAA3B6', u'gamePoint': 15, u'timestamp': u'2014-03-29 10:00', u'firstPointOline': False, u'theirs': 0, u'opponentName': u'Pratique 29 Mars', u'msSinceEpoch': 1396087200000, u'teamId': u'5753341694967808', u'tournamentName': u'', u'time': u'10:00', u'date': u'Sat, 3/29', u'ours': 0, u'wind': {u'degrees': -1, u'leftToRight': True, u'mph': 0}}]\n",
        "[{u'gameId': u'game-6F3A1501-947F-4DCD-AFE2-D49D21EAA3B6', u'gamePoint': 15, u'timestamp': u'2014-03-29 10:00', u'firstPointOline': False, u'theirs': 0, u'opponentName': u'Pratique 29 Mars', u'msSinceEpoch': 1396087200000, u'teamId': u'5753341694967808', u'tournamentName': u'', u'time': u'10:00', u'date': u'Sat, 3/29', u'ours': 0, u'wind': {u'degrees': -1, u'leftToRight': True, u'mph': 0}}]\n",
        "[{u'gameId': u'game-6F3A1501-947F-4DCD-AFE2-D49D21EAA3B6', u'gamePoint': 15, u'timestamp': u'2014-03-29 10:00', u'firstPointOline': False, u'theirs': 0, u'opponentName': u'Pratique 29 Mars', u'msSinceEpoch': 1396087200000, u'teamId': u'5753341694967808', u'tournamentName': u'', u'time': u'10:00', u'date': u'Sat, 3/29', u'ours': 0, u'wind': {u'degrees': -1, u'leftToRight': True, u'mph': 0}}]\n",
        "[{u'gameId': u'game-6F3A1501-947F-4DCD-AFE2-D49D21EAA3B6', u'gamePoint': 15, u'timestamp': u'2014-03-29 10:00', u'firstPointOline': False, u'theirs': 0, u'opponentName': u'Pratique 29 Mars', u'msSinceEpoch': 1396087200000, u'teamId': u'5753341694967808', u'tournamentName': u'', u'time': u'10:00', u'date': u'Sat, 3/29', u'ours': 0, u'wind': {u'degrees': -1, u'leftToRight': True, u'mph': 0}}]\n",
        "[{u'gameId': u'game-6F3A1501-947F-4DCD-AFE2-D49D21EAA3B6', u'gamePoint': 15, u'timestamp': u'2014-03-29 10:00', u'firstPointOline': False, u'theirs': 0, u'opponentName': u'Pratique 29 Mars', u'msSinceEpoch': 1396087200000, u'teamId': u'5753341694967808', u'tournamentName': u'', u'time': u'10:00', u'date': u'Sat, 3/29', u'ours': 0, u'wind': {u'degrees': -1, u'leftToRight': True, u'mph': 0}}]\n",
        "[{u'gameId': u'game-6F3A1501-947F-4DCD-AFE2-D49D21EAA3B6', u'gamePoint': 15, u'timestamp': u'2014-03-29 10:00', u'firstPointOline': False, u'theirs': 0, u'opponentName': u'Pratique 29 Mars', u'msSinceEpoch': 1396087200000, u'teamId': u'5753341694967808', u'tournamentName': u'', u'time': u'10:00', u'date': u'Sat, 3/29', u'ours': 0, u'wind': {u'degrees': -1, u'leftToRight': True, u'mph': 0}}]\n",
        "[{u'gameId': u'game-6F3A1501-947F-4DCD-AFE2-D49D21EAA3B6', u'gamePoint': 15, u'timestamp': u'2014-03-29 10:00', u'firstPointOline': False, u'theirs': 0, u'opponentName': u'Pratique 29 Mars', u'msSinceEpoch': 1396087200000, u'teamId': u'5753341694967808', u'tournamentName': u'', u'time': u'10:00', u'date': u'Sat, 3/29', u'ours': 0, u'wind': {u'degrees': -1, u'leftToRight': True, u'mph': 0}}]\n",
        "http://www.ultimate-numbers.com/rest/view/team/5131065358286848/games"
       ]
      },
      {
       "output_type": "stream",
       "stream": "stdout",
       "text": [
        "\n",
        "[]"
       ]
      },
      {
       "output_type": "stream",
       "stream": "stdout",
       "text": [
        "\n",
        "[]\n",
        "[]\n",
        "[]\n",
        "[]\n",
        "[]\n",
        "[]\n",
        "[]\n",
        "[]\n",
        "[]\n",
        "[]\n",
        "[]\n",
        "[]\n",
        "[]\n",
        "http://www.ultimate-numbers.com/rest/view/team/5153656886263808/games"
       ]
      },
      {
       "output_type": "stream",
       "stream": "stdout",
       "text": [
        "\n",
        "[]"
       ]
      },
      {
       "output_type": "stream",
       "stream": "stdout",
       "text": [
        "\n",
        "[]\n",
        "[]\n",
        "[]\n",
        "[]\n",
        "[]\n",
        "[]\n",
        "[]\n",
        "[]\n",
        "[]\n",
        "[]\n",
        "[]\n",
        "[]\n",
        "[]\n",
        "http://www.ultimate-numbers.com/rest/view/team/6597766625099776/games"
       ]
      },
      {
       "output_type": "stream",
       "stream": "stdout",
       "text": [
        "\n",
        "[]"
       ]
      },
      {
       "output_type": "stream",
       "stream": "stdout",
       "text": [
        "\n",
        "[]\n",
        "[]\n",
        "[]\n",
        "[]\n",
        "[]\n",
        "[]\n",
        "http://www.ultimate-numbers.com/rest/view/team/5094953273262080/games"
       ]
      },
      {
       "output_type": "stream",
       "stream": "stdout",
       "text": [
        "\n",
        "[{u'gameId': u'game-600FEFE5-4863-4BFD-945B-CF72C590746F', u'gamePoint': 13, u'timeoutDetailsJson': u'{\"takenSecondHalf\":0,\"quotaPerHalf\":2,\"takenFirstHalf\":0,\"quotaFloaters\":0}', u'timestamp': u'2014-04-06 13:38', u'firstPointOline': False, u'theirs': 0, u'opponentName': u'Test1', u'msSinceEpoch': 1396791480000, u'teamId': u'5094953273262080', u'tournamentName': u'Tourney Test', u'time': u'1:38', u'date': u'Sun, 4/06', u'ours': 0, u'wind': {u'degrees': -1, u'leftToRight': True, u'mph': 0}}]"
       ]
      },
      {
       "output_type": "stream",
       "stream": "stdout",
       "text": [
        "\n",
        "[{u'gameId': u'game-600FEFE5-4863-4BFD-945B-CF72C590746F', u'gamePoint': 13, u'timeoutDetailsJson': u'{\"takenSecondHalf\":0,\"quotaPerHalf\":2,\"takenFirstHalf\":0,\"quotaFloaters\":0}', u'timestamp': u'2014-04-06 13:38', u'firstPointOline': False, u'theirs': 0, u'opponentName': u'Test1', u'msSinceEpoch': 1396791480000, u'teamId': u'5094953273262080', u'tournamentName': u'Tourney Test', u'time': u'1:38', u'date': u'Sun, 4/06', u'ours': 0, u'wind': {u'degrees': -1, u'leftToRight': True, u'mph': 0}}]\n",
        "[{u'gameId': u'game-600FEFE5-4863-4BFD-945B-CF72C590746F', u'gamePoint': 13, u'timeoutDetailsJson': u'{\"takenSecondHalf\":0,\"quotaPerHalf\":2,\"takenFirstHalf\":0,\"quotaFloaters\":0}', u'timestamp': u'2014-04-06 13:38', u'firstPointOline': False, u'theirs': 0, u'opponentName': u'Test1', u'msSinceEpoch': 1396791480000, u'teamId': u'5094953273262080', u'tournamentName': u'Tourney Test', u'time': u'1:38', u'date': u'Sun, 4/06', u'ours': 0, u'wind': {u'degrees': -1, u'leftToRight': True, u'mph': 0}}]\n",
        "[{u'gameId': u'game-600FEFE5-4863-4BFD-945B-CF72C590746F', u'gamePoint': 13, u'timeoutDetailsJson': u'{\"takenSecondHalf\":0,\"quotaPerHalf\":2,\"takenFirstHalf\":0,\"quotaFloaters\":0}', u'timestamp': u'2014-04-06 13:38', u'firstPointOline': False, u'theirs': 0, u'opponentName': u'Test1', u'msSinceEpoch': 1396791480000, u'teamId': u'5094953273262080', u'tournamentName': u'Tourney Test', u'time': u'1:38', u'date': u'Sun, 4/06', u'ours': 0, u'wind': {u'degrees': -1, u'leftToRight': True, u'mph': 0}}]\n",
        "[{u'gameId': u'game-600FEFE5-4863-4BFD-945B-CF72C590746F', u'gamePoint': 13, u'timeoutDetailsJson': u'{\"takenSecondHalf\":0,\"quotaPerHalf\":2,\"takenFirstHalf\":0,\"quotaFloaters\":0}', u'timestamp': u'2014-04-06 13:38', u'firstPointOline': False, u'theirs': 0, u'opponentName': u'Test1', u'msSinceEpoch': 1396791480000, u'teamId': u'5094953273262080', u'tournamentName': u'Tourney Test', u'time': u'1:38', u'date': u'Sun, 4/06', u'ours': 0, u'wind': {u'degrees': -1, u'leftToRight': True, u'mph': 0}}]\n",
        "[{u'gameId': u'game-600FEFE5-4863-4BFD-945B-CF72C590746F', u'gamePoint': 13, u'timeoutDetailsJson': u'{\"takenSecondHalf\":0,\"quotaPerHalf\":2,\"takenFirstHalf\":0,\"quotaFloaters\":0}', u'timestamp': u'2014-04-06 13:38', u'firstPointOline': False, u'theirs': 0, u'opponentName': u'Test1', u'msSinceEpoch': 1396791480000, u'teamId': u'5094953273262080', u'tournamentName': u'Tourney Test', u'time': u'1:38', u'date': u'Sun, 4/06', u'ours': 0, u'wind': {u'degrees': -1, u'leftToRight': True, u'mph': 0}}]\n",
        "[{u'gameId': u'game-600FEFE5-4863-4BFD-945B-CF72C590746F', u'gamePoint': 13, u'timeoutDetailsJson': u'{\"takenSecondHalf\":0,\"quotaPerHalf\":2,\"takenFirstHalf\":0,\"quotaFloaters\":0}', u'timestamp': u'2014-04-06 13:38', u'firstPointOline': False, u'theirs': 0, u'opponentName': u'Test1', u'msSinceEpoch': 1396791480000, u'teamId': u'5094953273262080', u'tournamentName': u'Tourney Test', u'time': u'1:38', u'date': u'Sun, 4/06', u'ours': 0, u'wind': {u'degrees': -1, u'leftToRight': True, u'mph': 0}}]\n",
        "[{u'gameId': u'game-600FEFE5-4863-4BFD-945B-CF72C590746F', u'gamePoint': 13, u'timeoutDetailsJson': u'{\"takenSecondHalf\":0,\"quotaPerHalf\":2,\"takenFirstHalf\":0,\"quotaFloaters\":0}', u'timestamp': u'2014-04-06 13:38', u'firstPointOline': False, u'theirs': 0, u'opponentName': u'Test1', u'msSinceEpoch': 1396791480000, u'teamId': u'5094953273262080', u'tournamentName': u'Tourney Test', u'time': u'1:38', u'date': u'Sun, 4/06', u'ours': 0, u'wind': {u'degrees': -1, u'leftToRight': True, u'mph': 0}}]\n",
        "[{u'gameId': u'game-600FEFE5-4863-4BFD-945B-CF72C590746F', u'gamePoint': 13, u'timeoutDetailsJson': u'{\"takenSecondHalf\":0,\"quotaPerHalf\":2,\"takenFirstHalf\":0,\"quotaFloaters\":0}', u'timestamp': u'2014-04-06 13:38', u'firstPointOline': False, u'theirs': 0, u'opponentName': u'Test1', u'msSinceEpoch': 1396791480000, u'teamId': u'5094953273262080', u'tournamentName': u'Tourney Test', u'time': u'1:38', u'date': u'Sun, 4/06', u'ours': 0, u'wind': {u'degrees': -1, u'leftToRight': True, u'mph': 0}}]\n",
        "[{u'gameId': u'game-600FEFE5-4863-4BFD-945B-CF72C590746F', u'gamePoint': 13, u'timeoutDetailsJson': u'{\"takenSecondHalf\":0,\"quotaPerHalf\":2,\"takenFirstHalf\":0,\"quotaFloaters\":0}', u'timestamp': u'2014-04-06 13:38', u'firstPointOline': False, u'theirs': 0, u'opponentName': u'Test1', u'msSinceEpoch': 1396791480000, u'teamId': u'5094953273262080', u'tournamentName': u'Tourney Test', u'time': u'1:38', u'date': u'Sun, 4/06', u'ours': 0, u'wind': {u'degrees': -1, u'leftToRight': True, u'mph': 0}}]\n",
        "[{u'gameId': u'game-600FEFE5-4863-4BFD-945B-CF72C590746F', u'gamePoint': 13, u'timeoutDetailsJson': u'{\"takenSecondHalf\":0,\"quotaPerHalf\":2,\"takenFirstHalf\":0,\"quotaFloaters\":0}', u'timestamp': u'2014-04-06 13:38', u'firstPointOline': False, u'theirs': 0, u'opponentName': u'Test1', u'msSinceEpoch': 1396791480000, u'teamId': u'5094953273262080', u'tournamentName': u'Tourney Test', u'time': u'1:38', u'date': u'Sun, 4/06', u'ours': 0, u'wind': {u'degrees': -1, u'leftToRight': True, u'mph': 0}}]\n",
        "[{u'gameId': u'game-600FEFE5-4863-4BFD-945B-CF72C590746F', u'gamePoint': 13, u'timeoutDetailsJson': u'{\"takenSecondHalf\":0,\"quotaPerHalf\":2,\"takenFirstHalf\":0,\"quotaFloaters\":0}', u'timestamp': u'2014-04-06 13:38', u'firstPointOline': False, u'theirs': 0, u'opponentName': u'Test1', u'msSinceEpoch': 1396791480000, u'teamId': u'5094953273262080', u'tournamentName': u'Tourney Test', u'time': u'1:38', u'date': u'Sun, 4/06', u'ours': 0, u'wind': {u'degrees': -1, u'leftToRight': True, u'mph': 0}}]\n",
        "[{u'gameId': u'game-600FEFE5-4863-4BFD-945B-CF72C590746F', u'gamePoint': 13, u'timeoutDetailsJson': u'{\"takenSecondHalf\":0,\"quotaPerHalf\":2,\"takenFirstHalf\":0,\"quotaFloaters\":0}', u'timestamp': u'2014-04-06 13:38', u'firstPointOline': False, u'theirs': 0, u'opponentName': u'Test1', u'msSinceEpoch': 1396791480000, u'teamId': u'5094953273262080', u'tournamentName': u'Tourney Test', u'time': u'1:38', u'date': u'Sun, 4/06', u'ours': 0, u'wind': {u'degrees': -1, u'leftToRight': True, u'mph': 0}}]\n",
        "[{u'gameId': u'game-600FEFE5-4863-4BFD-945B-CF72C590746F', u'gamePoint': 13, u'timeoutDetailsJson': u'{\"takenSecondHalf\":0,\"quotaPerHalf\":2,\"takenFirstHalf\":0,\"quotaFloaters\":0}', u'timestamp': u'2014-04-06 13:38', u'firstPointOline': False, u'theirs': 0, u'opponentName': u'Test1', u'msSinceEpoch': 1396791480000, u'teamId': u'5094953273262080', u'tournamentName': u'Tourney Test', u'time': u'1:38', u'date': u'Sun, 4/06', u'ours': 0, u'wind': {u'degrees': -1, u'leftToRight': True, u'mph': 0}}]\n",
        "[{u'gameId': u'game-600FEFE5-4863-4BFD-945B-CF72C590746F', u'gamePoint': 13, u'timeoutDetailsJson': u'{\"takenSecondHalf\":0,\"quotaPerHalf\":2,\"takenFirstHalf\":0,\"quotaFloaters\":0}', u'timestamp': u'2014-04-06 13:38', u'firstPointOline': False, u'theirs': 0, u'opponentName': u'Test1', u'msSinceEpoch': 1396791480000, u'teamId': u'5094953273262080', u'tournamentName': u'Tourney Test', u'time': u'1:38', u'date': u'Sun, 4/06', u'ours': 0, u'wind': {u'degrees': -1, u'leftToRight': True, u'mph': 0}}]\n",
        "http://www.ultimate-numbers.com/rest/view/team/5471866718257152/games"
       ]
      },
      {
       "output_type": "stream",
       "stream": "stdout",
       "text": [
        "\n",
        "[]"
       ]
      },
      {
       "output_type": "stream",
       "stream": "stdout",
       "text": [
        "\n",
        "[]\n",
        "[]\n",
        "[]\n",
        "[]\n",
        "[]\n",
        "[]\n",
        "[]\n",
        "[]\n",
        "[]\n",
        "[]\n",
        "[]\n",
        "[]\n",
        "[]\n"
       ]
      }
     ],
     "prompt_number": 3
    },
    {
     "cell_type": "code",
     "collapsed": false,
     "input": [
      "for id, team in AUDL.Teams.items():\n",
      "    print id, team.full_name()"
     ],
     "language": "python",
     "metadata": {},
     "outputs": [
      {
       "output_type": "stream",
       "stream": "stdout",
       "text": [
        "5182111044599808 Madison Radicals\n",
        "5638404075159552 Minnesota Wind Chill\n",
        "5684961520648192 Detroit Mechanix\n",
        "5724681378201600 Rochester Dragons\n",
        "5732910535540736 Cincinnati Revolution\n",
        "5716606839685120 Salt Lake Lions\n",
        "6226234774126592 Vancouver Riptide\n",
        "4868028676177920 DC Breeze\n",
        "5075454121738240 Indianapolis AlleyCats\n",
        "5753341694967808 Montreal Royal\n",
        "5648334039547904 Seattle Raptors\n",
        "5131065358286848 Toronto Rush\n",
        "5153656886263808 Philadelphia Phoenix\n",
        "6597766625099776 San Jose Spiders\n",
        "5094953273262080 San Francisco FlameThrowers\n",
        "6220853180104704 New York Empire\n",
        "5471866718257152 Chicago Wildfire\n"
       ]
      }
     ],
     "prompt_number": 4
    },
    {
     "cell_type": "code",
     "collapsed": false,
     "input": [
      "dir(AUDL.Teams[6226234774126592].Games['4/12/14'])"
     ],
     "language": "python",
     "metadata": {},
     "outputs": [
      {
       "output_type": "pyout",
       "prompt_number": 5,
       "text": [
        "['Away_stats',\n",
        " 'Finished',\n",
        " 'Goals',\n",
        " 'Home_stats',\n",
        " 'ID',\n",
        " 'Location',\n",
        " 'Quarter',\n",
        " 'Score',\n",
        " '__doc__',\n",
        " '__init__',\n",
        " '__module__',\n",
        " 'away_score',\n",
        " 'away_team',\n",
        " 'date',\n",
        " 'home_score',\n",
        " 'home_team',\n",
        " 'match_game',\n",
        " 'set_status',\n",
        " 'status',\n",
        " 'time',\n",
        " 'timestamp',\n",
        " 'year']"
       ]
      }
     ],
     "prompt_number": 5
    },
    {
     "cell_type": "code",
     "collapsed": false,
     "input": [
      "AUDL.Teams[6226234774126592].Games['4/12/14'].set_status()"
     ],
     "language": "python",
     "metadata": {},
     "outputs": [
      {
       "output_type": "stream",
       "stream": "stdout",
       "text": [
        "2014-04-12 19:00\n"
       ]
      }
     ],
     "prompt_number": 6
    },
    {
     "cell_type": "code",
     "collapsed": false,
     "input": [
      "dir(AUDL.Teams[6226234774126592].Games['4/12/14'])"
     ],
     "language": "python",
     "metadata": {},
     "outputs": [
      {
       "output_type": "pyout",
       "prompt_number": 7,
       "text": [
        "['Away_stats',\n",
        " 'Finished',\n",
        " 'Goals',\n",
        " 'Home_stats',\n",
        " 'ID',\n",
        " 'Location',\n",
        " 'Quarter',\n",
        " 'Score',\n",
        " '__doc__',\n",
        " '__init__',\n",
        " '__module__',\n",
        " 'away_score',\n",
        " 'away_team',\n",
        " 'date',\n",
        " 'home_score',\n",
        " 'home_team',\n",
        " 'match_game',\n",
        " 'set_status',\n",
        " 'status',\n",
        " 'time',\n",
        " 'timestamp',\n",
        " 'year']"
       ]
      }
     ],
     "prompt_number": 7
    }
   ],
   "metadata": {}
  }
 ]
}