{
 "metadata": {
  "name": "",
  "signature": "sha256:02ff660d4a5e87bc82fd5fb5913695a67e16962120ab72a9a00abda1dacbf460"
 },
 "nbformat": 3,
 "nbformat_minor": 0,
 "worksheets": [
  {
   "cells": [
    {
     "cell_type": "code",
     "collapsed": false,
     "input": [
      "from subprocess import call\n",
      "import csv\n",
      "import urllib2\n",
      "import json\n",
      "from dynamo_conn import get_connection\n",
      "from boto.dynamodb2.table import Table\n",
      "from boto.dynamodb2.items import Item\n",
      "from boto.dynamodb2.fields import RangeKey,HashKey\n",
      "from boto.dynamodb2.types import NUMBER"
     ],
     "language": "python",
     "metadata": {},
     "outputs": [],
     "prompt_number": 5
    },
    {
     "cell_type": "code",
     "collapsed": true,
     "input": [
      "connection = get_connection()"
     ],
     "language": "python",
     "metadata": {},
     "outputs": [],
     "prompt_number": 6
    },
    {
     "cell_type": "code",
     "collapsed": false,
     "input": [
      "#get the tables we'll need for this\n",
      "seasonal_team_table = Table('seasonal_team_info', connection=connection)\n",
      "schedule_table = Table('schedule', connection=connection)"
     ],
     "language": "python",
     "metadata": {},
     "outputs": [],
     "prompt_number": 7
    },
    {
     "cell_type": "code",
     "collapsed": false,
     "input": [
      "#Check to see if our table already exists\n",
      "if 'raw_game_data' not in connection.list_tables()['TableNames']:\n",
      "    print \"Raw game data table not in database. Creating....\"\n",
      "    rgd_table = Table.create('raw_game_data', schema=[HashKey('game_id',data_type=NUMBER),RangeKey('team_id',data_type=NUMBER)],throughput={'read':25,'write':25},connection=connection)\n",
      "    print \"Done\"\n",
      "else:\n",
      "    rgd_table = Table('raw_game_data',connection=connection)\n",
      "    print \"Table exists. Opening...\""
     ],
     "language": "python",
     "metadata": {},
     "outputs": [
      {
       "output_type": "stream",
       "stream": "stdout",
       "text": [
        "Table exists. Opening...\n"
       ]
      }
     ],
     "prompt_number": 8
    },
    {
     "cell_type": "code",
     "collapsed": false,
     "input": [
      "from datetime import datetime\n",
      "from dateutil import parser\n",
      "import pytz\n",
      "\n",
      "def find_ua_game_hash(team_id, date, time, ampm, timezone, home = True):\n",
      "    base_url = \"http://www.ultianalytics.com/rest/view/team/\"\n",
      "    games_path = \"/games\"\n",
      "    req = urllib2.Request(base_url+str(team_id)+games_path)\n",
      "    response = urllib2.urlopen(req,timeout=10)\n",
      "    team_games_data = json.loads(response.read())\n",
      "    game_dt = datetime.strptime(' '.join([date,time,ampm]),\"%m/%d/%Y %I:%M %p\")\n",
      "    #set timezone \n",
      "    tz = get_tz(timezone)\n",
      "    game_dt = game_dt.replace(tzinfo=tz)\n",
      "    assert(game_dt.tzinfo is not None)\n",
      "    game_hash = ''\n",
      "    game_data = ''\n",
      "    candidate_games = []\n",
      "    for game in team_games_data:\n",
      "        #ua_dt = datetime.strptime(game['timestamp'],\"%Y-%m-%d %H:%M\")\n",
      "        if 'timestamp' in game.keys():\n",
      "            ua_dt = parser.parse(game['timestamp'])\n",
      "            ua_dt = ua_dt.replace(tzinfo=pytz.UTC)\n",
      "            if abs((ua_dt-game_dt).total_seconds()) < 86400:\n",
      "                candidate_games.append([game['gameId'],ua_dt])\n",
      " \n",
      "    if len(candidate_games) == 1:\n",
      "        game_hash = candidate_games[0][0]\n",
      "    elif len(candidate_games) > 0:\n",
      "        min_seconds = 1e18\n",
      "        for game in candidate_games:\n",
      "            #find the closes game we can by time\n",
      "            time_diff = abs((ua_dt-game_dt).total_seconds())\n",
      "            if time_diff < min_seconds:\n",
      "                game_hash = game[0]\n",
      "                min_seconds = time_diff\n",
      "    else:\n",
      "        return game_hash, game_data\n",
      "        \n",
      "    if game_hash == '': return game_hash, game_data\n",
      "    #if we're here we need to retrieve some raw data\n",
      "    single_game_path = '/game/'\n",
      "    req = urllib2.Request(base_url+str(team_id)+single_game_path+game_hash)\n",
      "    response = urllib2.urlopen(req,timeout=10)\n",
      "    game_data = json.loads(response.read())\n",
      "    return game_hash,game_data\n"
     ],
     "language": "python",
     "metadata": {},
     "outputs": [],
     "prompt_number": 15
    },
    {
     "cell_type": "code",
     "collapsed": false,
     "input": [
      "import pytz\n",
      "def get_tz(timezone):\n",
      "    if timezone[0] == 'P':\n",
      "        return pytz.timezone('US/Pacific')\n",
      "    elif timezone[0] == 'C':\n",
      "        return pytz.timezone('US/Central')\n",
      "    elif timezone[0] == 'M':\n",
      "        return pytz.timezone('US/Mountain')\n",
      "    elif timezone[0] == 'E':\n",
      "        return pytz.timezone('US/Eastern')\n",
      "    else:\n",
      "        return None\n"
     ],
     "language": "python",
     "metadata": {},
     "outputs": [],
     "prompt_number": 16
    },
    {
     "cell_type": "code",
     "collapsed": true,
     "input": [
      "#find a game hash for every game in the schedule table (if possible)\n",
      "all_game_items = list(schedule_table.scan())\n",
      "for game_item in all_game_items:\n",
      "    #start with the home id\n",
      "    teams = [game_item['home_team_id'],game_item['away_team_id']]\n",
      "    for team_id in teams:\n",
      "        season = game_item['season']\n",
      "        #lookup the ultianalytics team id\n",
      "        teams = list(seasonal_team_table.query(team_id__eq = team_id, season__eq = season))\n",
      "        assert(len(teams) == 1)\n",
      "        ua_team_id = teams[0]['ua_id']\n",
      "        date = game_item['date']\n",
      "        #attempt to find a game on ua with the correct date \n",
      "        game_hash, raw_data = find_ua_game_hash(ua_team_id,game_item['date'],game_item['time'],game_item['am/pm'],game_item['timezone'])\n",
      "\n",
      "        data = {'game_id':game_item['game_id'],'team_id':team_id}\n",
      "        if game_hash is not '':\n",
      "            data['game_hash'] = game_hash\n",
      "            data['raw_data'] = str(raw_data)\n",
      "    \n",
      "        try:\n",
      "            rgd_table.put_item(data)\n",
      "        except:\n",
      "            print data\n",
      "            raise\n",
      "    "
     ],
     "language": "python",
     "metadata": {},
     "outputs": [],
     "prompt_number": 26
    },
    {
     "cell_type": "code",
     "collapsed": false,
     "input": [
      "from datetime import datetime\n",
      "a = datetime.strptime('2014-04-13 12:00:00',\"%Y-%m-%d %H:%M:%S\")\n",
      "b = datetime.strptime('2014-04-13 12:19:00',\"%Y-%m-%d %H:%M:%S\")\n",
      "(a-b).days"
     ],
     "language": "python",
     "metadata": {},
     "outputs": [
      {
       "metadata": {},
       "output_type": "pyout",
       "prompt_number": 1,
       "text": [
        "-1"
       ]
      }
     ],
     "prompt_number": 1
    }
   ],
   "metadata": {}
  }
 ]
}