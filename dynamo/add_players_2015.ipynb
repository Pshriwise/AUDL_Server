{
 "metadata": {
  "name": "",
  "signature": "sha256:37271a1884f4eb4e3d9829e79ee12041282cf27f4406b38c12ec2260e224f0fa"
 },
 "nbformat": 3,
 "nbformat_minor": 0,
 "worksheets": [
  {
   "cells": [
    {
     "cell_type": "code",
     "collapsed": false,
     "input": [
      "from subprocess import call\n",
      "import csv\n",
      "import urllib2\n",
      "import json\n",
      "from dynamo_conn import get_connection\n",
      "from boto.dynamodb2.table import Table\n",
      "from boto.dynamodb2.items import Item\n",
      "from boto.dynamodb2.fields import RangeKey,HashKey\n",
      "from boto.dynamodb2.types import NUMBER"
     ],
     "language": "python",
     "metadata": {},
     "outputs": [],
     "prompt_number": 1
    },
    {
     "cell_type": "code",
     "collapsed": false,
     "input": [
      "base_url = 'https://docs.google.com/spreadsheets/d/'\n",
      "spreadsheet_key = '1Qkup3uHxKgsuLgOJQ-L9S-YoTa5zNp3mu4SPk9abvKY'\n",
      "Rosters_gid = '1948201024'\n",
      "Rosters_filename = '2015_Players.csv'\n",
      "\n",
      "#get the csv of the sheet\n",
      "call([\"wget\" , '-O' , Rosters_filename, base_url+spreadsheet_key+ '/export?format=csv&gid=' + Rosters_gid])\n",
      "    \n",
      "#open the csv file\n",
      "players = csv.reader(open(Rosters_filename, 'rb'))\n",
      "\n",
      "#Establish keys\n",
      "keys = players.next()"
     ],
     "language": "python",
     "metadata": {},
     "outputs": [],
     "prompt_number": 2
    },
    {
     "cell_type": "code",
     "collapsed": false,
     "input": [
      "#Format keys properly\n",
      "new_keys=[]\n",
      "for key in keys: \n",
      "    key = key.lower().strip().replace(' ','_')\n",
      "    #exceptions\n",
      "    if key == 'week_#':\n",
      "        key ='week'\n",
      "    if key[-4:] == 'team':\n",
      "        key+='_id'\n",
      "    new_keys.append(key)\n",
      "\n",
      "keys = new_keys\n",
      "print keys"
     ],
     "language": "python",
     "metadata": {},
     "outputs": [
      {
       "output_type": "stream",
       "stream": "stdout",
       "text": [
        "['team_name', 'player_first_name', 'player_last_name', 'number']\n"
       ]
      }
     ],
     "prompt_number": 3
    },
    {
     "cell_type": "code",
     "collapsed": false,
     "input": [
      "#Construct data for each player\n",
      "players_data = []\n",
      "for player in players:\n",
      "    player_data ={}\n",
      "    for i,key in enumerate(new_keys):\n",
      "        player_data[key] = player[i]\n",
      "    if player_data['player_first_name'] is not '':\n",
      "        players_data.append(player_data)"
     ],
     "language": "python",
     "metadata": {},
     "outputs": [],
     "prompt_number": 4
    },
    {
     "cell_type": "code",
     "collapsed": false,
     "input": [
      "#create dynamodb connection\n",
      "conn = get_connection()"
     ],
     "language": "python",
     "metadata": {},
     "outputs": [],
     "prompt_number": 5
    },
    {
     "cell_type": "code",
     "collapsed": false,
     "input": [
      "#Check to see if our table already exists\n",
      "if 'players' not in conn.list_tables()['TableNames']:\n",
      "    print \"Players table not in database. Creating....\"\n",
      "    player_table = Table.create('players', schema=[HashKey('player_id',data_type=NUMBER)],throughput={'read':25,'write':25},connection=conn)\n",
      "    print \"Done\"\n",
      "else:\n",
      "    player_table = Table('players',connection=conn)"
     ],
     "language": "python",
     "metadata": {},
     "outputs": [
      {
       "output_type": "stream",
       "stream": "stdout",
       "text": [
        "Players table not in database. Creating....\n",
        "Done"
       ]
      },
      {
       "output_type": "stream",
       "stream": "stdout",
       "text": [
        "\n"
       ]
      }
     ],
     "prompt_number": 6
    },
    {
     "cell_type": "code",
     "collapsed": false,
     "input": [
      "#Find out what player id to start at\n",
      "all_players = list(player_table.scan())\n",
      "#if we have no entries, start at 0\n",
      "if len(all_players) == 0 :\n",
      "    start_id = 0\n",
      "else:\n",
      "    seq = [x['player_id'] for x in all_players]\n",
      "    start_id = max(seq)\n",
      "    \n",
      "    \n",
      "players_added = 0\n",
      "#Now add all players in our list\n",
      "for player_data in players_data: \n",
      "    all_players = list(player_table.scan())\n",
      "    #remove some data\n",
      "    del player_data['team_name']\n",
      "    del player_data['number']\n",
      "    #Make sure we don't already have this player\n",
      "    skip = False\n",
      "    candidate_players = [x for x in all_players if x['player_last_name'] == player_data['player_last_name']]\n",
      "    if len(candidate_players) > 0:\n",
      "       for item in candidate_players:\n",
      "            del item['player_id']\n",
      "            if item == player_data:\n",
      "                skip = True\n",
      "    #add player id to player data\n",
      "    player_data['player_id'] = start_id\n",
      "    start_id+=1\n",
      "    \n",
      "    #Add player if appropriate\n",
      "    if not skip:\n",
      "        player_table.put_item(data=player_data)\n",
      "        players_added+=1\n",
      "    \n",
      "        \n",
      "        "
     ],
     "language": "python",
     "metadata": {},
     "outputs": [],
     "prompt_number": 8
    },
    {
     "cell_type": "code",
     "collapsed": false,
     "input": [
      "print players_added"
     ],
     "language": "python",
     "metadata": {},
     "outputs": [
      {
       "output_type": "stream",
       "stream": "stdout",
       "text": [
        "641\n"
       ]
      }
     ],
     "prompt_number": 9
    },
    {
     "cell_type": "code",
     "collapsed": false,
     "input": [],
     "language": "python",
     "metadata": {},
     "outputs": []
    }
   ],
   "metadata": {}
  }
 ]
}