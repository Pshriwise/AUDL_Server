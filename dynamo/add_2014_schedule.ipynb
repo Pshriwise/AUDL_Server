{
 "metadata": {
  "name": "",
  "signature": "sha256:9f54b0476a36b458e98c9aa5c3bd1e6d98def61c651a712a459edbe107416b25"
 },
 "nbformat": 3,
 "nbformat_minor": 0,
 "worksheets": [
  {
   "cells": [
    {
     "cell_type": "code",
     "collapsed": false,
     "input": [
      "import json\n",
      "from dynamo_conn import get_connection\n",
      "from boto.dynamodb2.table import Table"
     ],
     "language": "python",
     "metadata": {},
     "outputs": [],
     "prompt_number": 1
    },
    {
     "cell_type": "code",
     "collapsed": false,
     "input": [
      "sched = json.loads(open('../2014_AUDL_Schedule.json','r').read())"
     ],
     "language": "python",
     "metadata": {},
     "outputs": [],
     "prompt_number": 2
    },
    {
     "cell_type": "code",
     "collapsed": false,
     "input": [
      "#sort games into home and away\n",
      "home_games = []\n",
      "away_games = []\n",
      "for game in sched:\n",
      "    if game['home/away'] == 'Home':\n",
      "        home_games.append(game)\n",
      "    elif game['home/away'] == 'Away':\n",
      "        away_games.append(game)\n",
      "    else:\n",
      "        raise Exception"
     ],
     "language": "python",
     "metadata": {},
     "outputs": [],
     "prompt_number": 3
    },
    {
     "cell_type": "code",
     "collapsed": false,
     "input": [
      "matched_games = []\n",
      "for hgame in home_games:\n",
      "    for agame in away_games: \n",
      "        if (hgame['team'].strip() == agame['opponent'].strip()) and (hgame['date'].strip() == agame['date'].strip()):\n",
      "            assert(hgame['opponent'] == agame['team'])\n",
      "            matched_games.append(hgame)\n",
      "            "
     ],
     "language": "python",
     "metadata": {},
     "outputs": [],
     "prompt_number": 4
    },
    {
     "cell_type": "code",
     "collapsed": false,
     "input": [
      "assert(len(home_games) == len(away_games))\n",
      "assert(len(matched_games) == len(sched)/2)"
     ],
     "language": "python",
     "metadata": {},
     "outputs": [],
     "prompt_number": 5
    },
    {
     "cell_type": "code",
     "collapsed": false,
     "input": [
      "print matched_games[0].keys()"
     ],
     "language": "python",
     "metadata": {},
     "outputs": [
      {
       "output_type": "stream",
       "stream": "stdout",
       "text": [
        "[u'Year', u'time', u'team', u'date', u'home/away', u'opponent']\n"
       ]
      }
     ],
     "prompt_number": 6
    },
    {
     "cell_type": "code",
     "collapsed": false,
     "input": [
      "print matched_games[0]['time']"
     ],
     "language": "python",
     "metadata": {},
     "outputs": [
      {
       "output_type": "stream",
       "stream": "stdout",
       "text": [
        "3:00 PM CST\n"
       ]
      }
     ],
     "prompt_number": 7
    },
    {
     "cell_type": "code",
     "collapsed": false,
     "input": [
      "#setup data items with correct keys\n",
      "data_items = []\n",
      "for game in matched_games: \n",
      "    game_dict = {}\n",
      "    for key in game.keys():\n",
      "        if key == 'Year':\n",
      "            pass\n",
      "        elif key == 'opponent':\n",
      "            game_dict['away_team'] = game['opponent']\n",
      "        elif key == 'home/away':\n",
      "            pass\n",
      "        elif key == 'team':\n",
      "            game_dict['home_team'] = game['team']\n",
      "        elif key == 'time':\n",
      "            t = game['time']\n",
      "            t = t.split()\n",
      "            game_dict['time'] = t[0]\n",
      "            game_dict['am/pm'] = t[1]\n",
      "            game_dict['timezone'] = t[2]\n",
      "        elif key == 'date':\n",
      "            d = game['date']\n",
      "            ds = d.split('/')\n",
      "            ds[-1] = '2014'\n",
      "            d = '/'.join(ds)            \n",
      "            game_dict['date'] = d\n",
      "        else:\n",
      "            pass\n",
      "    data_items.append(game_dict)"
     ],
     "language": "python",
     "metadata": {},
     "outputs": [],
     "prompt_number": 8
    },
    {
     "cell_type": "code",
     "collapsed": false,
     "input": [
      "print data_items[0]"
     ],
     "language": "python",
     "metadata": {},
     "outputs": [
      {
       "output_type": "stream",
       "stream": "stdout",
       "text": [
        "{'home_team': u'Toronto Rush', 'away_team': u'DC Breeze', 'am/pm': u'PM', 'time': u'3:00', 'date': u'4/12/2014', 'timezone': u'CST'}\n"
       ]
      }
     ],
     "prompt_number": 9
    },
    {
     "cell_type": "code",
     "collapsed": false,
     "input": [
      "dbconnection = get_connection()\n",
      "schedule_table = Table('schedule',connection=dbconnection)\n",
      "teams_table = Table('team_metadata',connection=dbconnection)"
     ],
     "language": "python",
     "metadata": {},
     "outputs": [],
     "prompt_number": 10
    },
    {
     "cell_type": "code",
     "collapsed": false,
     "input": [
      "#translaste home and away teams into their respective team ids\n",
      "for item in data_items:\n",
      "    #lookup the correct team id for each team in each game and replace them \n",
      "    team_list = list(teams_table.scan(comb_name__eq = item['home_team'].strip()))\n",
      "    assert(len(team_list) == 1)\n",
      "    hid = team_list[0]['team_id']\n",
      "    del item['home_team']\n",
      "    item['home_team_id'] = hid\n",
      "    team_list = list(teams_table.scan(comb_name__eq = item['away_team'].strip()))\n",
      "    assert(len(team_list) == 1)\n",
      "    aid = team_list[0]['team_id']\n",
      "    del item['away_team']\n",
      "    item['away_team_id'] = aid"
     ],
     "language": "python",
     "metadata": {},
     "outputs": [],
     "prompt_number": 11
    },
    {
     "cell_type": "code",
     "collapsed": false,
     "input": [
      "#setup game ids correctly to add new teams\n",
      "#games_by_id = list(schedule_table.scan())\n",
      "#max_id = max([item['game_id'] for item in games_by_id])\n",
      "#id = max_id+1\n",
      "id = 182   \n",
      "for item in data_items:\n",
      "    item['game_id'] = id\n",
      "    id = id+1\n",
      "    "
     ],
     "language": "python",
     "metadata": {},
     "outputs": [],
     "prompt_number": 12
    },
    {
     "cell_type": "code",
     "collapsed": false,
     "input": [
      "print data_items[0]"
     ],
     "language": "python",
     "metadata": {},
     "outputs": [
      {
       "output_type": "stream",
       "stream": "stdout",
       "text": [
        "{'game_id': 182, 'home_team_id': Decimal('15'), 'am/pm': u'PM', 'away_team_id': Decimal('2'), 'time': u'3:00', 'date': u'4/12/2014', 'timezone': u'CST'}\n"
       ]
      }
     ],
     "prompt_number": 13
    },
    {
     "cell_type": "code",
     "collapsed": false,
     "input": [
      "from datetime import datetime,timedelta\n",
      "min_date = min([datetime.strptime(item['date'],\"%m/%d/%Y\") for item in data_items])\n",
      "min_date = min_date - timedelta(1) #subtract one day to get friday rather than saturday"
     ],
     "language": "python",
     "metadata": {},
     "outputs": [],
     "prompt_number": 14
    },
    {
     "cell_type": "code",
     "collapsed": false,
     "input": [
      "#figure out week of game based on dates\n",
      "for item in data_items: \n",
      "    item_date = datetime.strptime(item['date'],\"%m/%d/%Y\")\n",
      "    #get timedelta\n",
      "    td = item_date - min_date\n",
      "    #calculate the week of this game\n",
      "    week = td.days/7 + 1 \n",
      "    if td.days%7 > 2:\n",
      "        week = week+1\n",
      "    assert(week <= 16)\n",
      "    assert(week >= 1)\n",
      "    item['week'] = week\n",
      "\n",
      "    \n",
      "    "
     ],
     "language": "python",
     "metadata": {},
     "outputs": [],
     "prompt_number": 15
    },
    {
     "cell_type": "code",
     "collapsed": false,
     "input": [
      "#now we're ready to put the items into the table! (uncomment to edit table)\n",
      "#for item in data_items:\n",
      "#    schedule_table.put_item(item,overwrite=True)"
     ],
     "language": "python",
     "metadata": {},
     "outputs": [],
     "prompt_number": 16
    },
    {
     "cell_type": "code",
     "collapsed": false,
     "input": [],
     "language": "python",
     "metadata": {},
     "outputs": []
    }
   ],
   "metadata": {}
  }
 ]
}