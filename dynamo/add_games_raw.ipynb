{
 "metadata": {
  "name": "",
  "signature": "sha256:63276f0f82a0b9b43f578e8d474634eb4cd4cc5bf9dccdcbdaead22a4ac21ae7"
 },
 "nbformat": 3,
 "nbformat_minor": 0,
 "worksheets": [
  {
   "cells": [
    {
     "cell_type": "code",
     "collapsed": false,
     "input": [
      "import urllib2\n",
      "import json\n",
      "from boto.dynamodb2.table import Table\n",
      "from boto.dynamodb2.fields import RangeKey,HashKey\n",
      "from dynamo_conn import get_connection\n",
      "import csv"
     ],
     "language": "python",
     "metadata": {},
     "outputs": [],
     "prompt_number": 1
    },
    {
     "cell_type": "code",
     "collapsed": false,
     "input": [
      "#Establish dynamo db connection\n",
      "conn = get_connection()"
     ],
     "language": "python",
     "metadata": {},
     "outputs": [],
     "prompt_number": 2
    },
    {
     "cell_type": "code",
     "collapsed": false,
     "input": [
      "#Check for a table called raw_game_data\n",
      "if 'raw_game_data' not in conn.list_tables()['TableNames']:\n",
      "    print \"Table not in database. Creating...\"\n",
      "    rgd_table = Table.create('raw_game_data', schema=[HashKey('game_id')],throughput={'read':25,'write':25},connection=conn)\n",
      "    print \"Done\"\n",
      "else:\n",
      "    rgd_table = Table('raw_game_data',connection=conn)"
     ],
     "language": "python",
     "metadata": {},
     "outputs": [],
     "prompt_number": 3
    },
    {
     "cell_type": "code",
     "collapsed": false,
     "input": [
      "#Get a list of UA team ids from local .csv\n",
      "reader = csv.reader(open('2014_Team_Info.csv','rb'))\n",
      "keys = reader.next()\n",
      "team_ids = []\n",
      "for line in reader: \n",
      "    if line[4] is not '':\n",
      "        team_ids.append(line[4])\n",
      "print team_ids"
     ],
     "language": "python",
     "metadata": {},
     "outputs": [
      {
       "output_type": "stream",
       "stream": "stdout",
       "text": [
        "['5471866718257152', '5732910535540736', '4868028676177920', '5684961520648192', '5075454121738240', '5182111044599808', '5638404075159552', '5753341694967808', '6220853180104704', '5663684521099264', '5724681378201600', '5716606839685120', '5094953273262080', '6597766625099776', '5648334039547904', '5131065358286848', '6226234774126592']\n"
       ]
      }
     ],
     "prompt_number": 4
    },
    {
     "cell_type": "code",
     "collapsed": false,
     "input": [
      "#For each game in the list of ids, get the game hashes\n",
      "id_hash_list = []\n",
      "for team in team_ids:\n",
      "    #Get a list of game hashes for a given team id\n",
      "    team_id = team\n",
      "    req = urllib2.Request('http://www.ultianalytics.com/rest/view/team/' + str(team_id) + '/games/')\n",
      "    response = urllib2.urlopen(req,timeout=10)\n",
      "    team_games = json.loads(response.read())\n",
      "    #Now package up the game ids and game hashes\n",
      "    all_game_hashes = []\n",
      "    for game in team_games:\n",
      "        all_game_hashes.append(game['gameId'])\n",
      "    #when we're done, associate the hashes with the UA id\n",
      "    id_hash_list.append((team_id,all_game_hashes))"
     ],
     "language": "python",
     "metadata": {},
     "outputs": [],
     "prompt_number": 5
    },
    {
     "cell_type": "code",
     "collapsed": false,
     "input": [
      "i=0\n",
      "for entry in id_hash_list:\n",
      "    i+=len(entry[1])\n",
      "print i"
     ],
     "language": "python",
     "metadata": {},
     "outputs": [
      {
       "output_type": "stream",
       "stream": "stdout",
       "text": [
        "234\n"
       ]
      }
     ],
     "prompt_number": 6
    },
    {
     "cell_type": "code",
     "collapsed": false,
     "input": [
      "#For every game, add an item to the table\n",
      "i=0\n",
      "for entry in id_hash_list:\n",
      "    team = entry[0]\n",
      "    for game_hash in entry[1]:\n",
      "        #Setup a request for a game's data\n",
      "        req = urllib2.Request('http://www.ultianalytics.com/rest/view/team/' + str(team) + '/game/' + game_hash)\n",
      "        response = urllib2.urlopen(req,timeout=10)\n",
      "        raw_game_data = json.loads(response.read())\n",
      "        rgd_table.put_item(data={'game_id': raw_game_data['gameId'], 'data':str(raw_game_data)})\n",
      "        i+=1\n",
      "print \"Added \" + str(i) + \" games.\""
     ],
     "language": "python",
     "metadata": {},
     "outputs": [
      {
       "output_type": "stream",
       "stream": "stdout",
       "text": [
        "Added 234 games.\n"
       ]
      }
     ],
     "prompt_number": 7
    },
    {
     "cell_type": "code",
     "collapsed": false,
     "input": [
      "print len(list(rgd_table.scan()))"
     ],
     "language": "python",
     "metadata": {},
     "outputs": [
      {
       "output_type": "stream",
       "stream": "stdout",
       "text": [
        "589\n"
       ]
      }
     ],
     "prompt_number": 8
    }
   ],
   "metadata": {}
  }
 ]
}