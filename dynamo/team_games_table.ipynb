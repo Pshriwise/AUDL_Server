{
 "metadata": {
  "name": "",
  "signature": "sha256:257824923f007defac1701598e71e511ebc76f6acd8645e3346a4030965bc93d"
 },
 "nbformat": 3,
 "nbformat_minor": 0,
 "worksheets": [
  {
   "cells": [
    {
     "cell_type": "code",
     "collapsed": false,
     "input": [
      "from subprocess import call\n",
      "import csv\n",
      "import urllib2\n",
      "import json\n",
      "from dynamo_conn import get_connection\n",
      "from boto.dynamodb2.table import Table\n",
      "from boto.dynamodb2.items import Item\n",
      "from boto.dynamodb2.fields import RangeKey,HashKey,GlobalAllIndex\n",
      "from boto.dynamodb2.types import NUMBER"
     ],
     "language": "python",
     "metadata": {},
     "outputs": [],
     "prompt_number": 1
    },
    {
     "cell_type": "code",
     "collapsed": false,
     "input": [
      "dbconnection = get_connection()"
     ],
     "language": "python",
     "metadata": {},
     "outputs": [],
     "prompt_number": 2
    },
    {
     "cell_type": "code",
     "collapsed": false,
     "input": [
      "#create a new table for the player season stats\n",
      "#Check to see if our table already exists\n",
      "if 'team_games' not in dbconnection.list_tables()['TableNames']:\n",
      "    print \"Player team stats table not in database. Creating....\"\n",
      "    team_games_table = Table.create('team_games', schema=[HashKey('team_id',data_type=NUMBER),RangeKey('season',data_type=NUMBER)],throughput={'read':25,'write':25},connection=dbconnection)\n",
      "    print \"Done\"\n",
      "else:\n",
      "    team_games_table = Table('player_team_stats',connection=dbconnection)"
     ],
     "language": "python",
     "metadata": {},
     "outputs": [
      {
       "output_type": "stream",
       "stream": "stdout",
       "text": [
        "Player team stats table not in database. Creating....\n",
        "Done"
       ]
      },
      {
       "output_type": "stream",
       "stream": "stdout",
       "text": [
        "\n"
       ]
      }
     ],
     "prompt_number": 3
    },
    {
     "cell_type": "code",
     "collapsed": false,
     "input": [
      "#grab tables we need\n",
      "schedule_table = Table('schedule',connection=dbconnection)"
     ],
     "language": "python",
     "metadata": {},
     "outputs": [],
     "prompt_number": 4
    },
    {
     "cell_type": "code",
     "collapsed": false,
     "input": [
      "all_games = list(schedule_table.scan())"
     ],
     "language": "python",
     "metadata": {},
     "outputs": [],
     "prompt_number": 5
    },
    {
     "cell_type": "code",
     "collapsed": false,
     "input": [
      "#sort games into seasons\n",
      "games_by_season = {}\n",
      "seasons = []\n",
      "for game in all_games:\n",
      "        season = int(game['date'].split('/')[-1])\n",
      "        if season not in games_by_season.keys():\n",
      "            games_by_season[season] = [game,]\n",
      "            seasons.append(season)\n",
      "        else: \n",
      "            games_by_season[season].append(game)\n",
      "        \n",
      "        \n"
     ],
     "language": "python",
     "metadata": {},
     "outputs": [],
     "prompt_number": 13
    },
    {
     "cell_type": "code",
     "collapsed": false,
     "input": [
      "#sort games by team and add them\n",
      "team_games_by_season = {}\n",
      "for season in seasons: \n",
      "    season_games = games_by_season[season]\n",
      "    team_games_for_season = {}\n",
      "    for game in season_games:\n",
      "        home_id = game['home_team_id']\n",
      "        away_id = game['away_team_id']\n",
      "        if home_id not in team_games_for_season.keys():\n",
      "            team_games_for_season[home_id] = [game,]\n",
      "        else: \n",
      "            team_games_for_season[home_id].append(game)\n",
      "        if away_id not in team_games_for_season.keys():\n",
      "            team_games_for_season[away_id] = [game,]\n",
      "        else: \n",
      "            team_games_for_season[away_id].append(game)\n",
      "    team_games_by_season[season] = team_games_for_season\n",
      "    \n",
      "            "
     ],
     "language": "python",
     "metadata": {},
     "outputs": [],
     "prompt_number": 14
    }
   ],
   "metadata": {}
  }
 ]
}