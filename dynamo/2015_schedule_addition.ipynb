{
 "metadata": {
  "name": "",
  "signature": "sha256:2e6f3d8d47baef047f82f3a757edccad8ece9ffd533b7a8387842efbc403a9e5"
 },
 "nbformat": 3,
 "nbformat_minor": 0,
 "worksheets": [
  {
   "cells": [
    {
     "cell_type": "code",
     "collapsed": false,
     "input": [
      "import csv\n",
      "from dynamo_conn import get_connection\n",
      "from boto.dynamodb2.table import Table\n",
      "from boto.dynamodb2.items import Item\n",
      "from boto.dynamodb2.fields import RangeKey,HashKey\n",
      "import urllib2\n",
      "import json"
     ],
     "language": "python",
     "metadata": {},
     "outputs": [],
     "prompt_number": 1
    },
    {
     "cell_type": "code",
     "collapsed": false,
     "input": [
      "#open 2015 schedule file\n",
      "reader = csv.reader(open(\"../2015_Schedule.csv\",'rb'))"
     ],
     "language": "python",
     "metadata": {},
     "outputs": [],
     "prompt_number": 2
    },
    {
     "cell_type": "code",
     "collapsed": false,
     "input": [
      "#trim out a few of the keys we don't want\n",
      "keys = reader.next()\n",
      "print keys\n",
      "keys = keys[:7]\n",
      "print keys"
     ],
     "language": "python",
     "metadata": {},
     "outputs": [
      {
       "output_type": "stream",
       "stream": "stdout",
       "text": [
        "['Date', 'Time', 'AM/PM', 'TimeZone', 'Week #', 'Home Team', 'Away Team', 'Home Score', 'Away Score', 'Division', '', '']\n",
        "['Date', 'Time', 'AM/PM', 'TimeZone', 'Week #', 'Home Team', 'Away Team']\n"
       ]
      }
     ],
     "prompt_number": 3
    },
    {
     "cell_type": "code",
     "collapsed": false,
     "input": [
      "#correct key formatting\n",
      "new_keys=[]\n",
      "for key in keys: \n",
      "    key = key.lower().strip().replace(' ','_')\n",
      "    #exceptions\n",
      "    if key == 'week_#':\n",
      "        key ='week'\n",
      "    if key[-4:] == 'team':\n",
      "        key+='_id'\n",
      "    new_keys.append(key)\n",
      "\n",
      "keys = new_keys\n",
      "print keys"
     ],
     "language": "python",
     "metadata": {},
     "outputs": [
      {
       "output_type": "stream",
       "stream": "stdout",
       "text": [
        "['date', 'time', 'am/pm', 'timezone', 'week', 'home_team_id', 'away_team_id']\n"
       ]
      }
     ],
     "prompt_number": 4
    },
    {
     "cell_type": "code",
     "collapsed": false,
     "input": [
      "#create dicts for each row in the schedule file w/ the appropriate keys\n",
      "game_dicts=[]\n",
      "for game in reader:\n",
      "    #setup a dictionary of items\n",
      "    game_dict = {}\n",
      "    for i,key in enumerate(keys):\n",
      "        game_dict[key] = game[i].strip()\n",
      "    if game_dict['date'] is not '': \n",
      "        game_dicts.append(game_dict)\n",
      "        \n",
      "        "
     ],
     "language": "python",
     "metadata": {},
     "outputs": [],
     "prompt_number": 5
    },
    {
     "cell_type": "code",
     "collapsed": false,
     "input": [
      "#Sanity check on the number of games (should be 182)\n",
      "print len(game_dicts)"
     ],
     "language": "python",
     "metadata": {},
     "outputs": [
      {
       "output_type": "stream",
       "stream": "stdout",
       "text": [
        "182\n"
       ]
      }
     ],
     "prompt_number": 6
    },
    {
     "cell_type": "code",
     "collapsed": false,
     "input": [
      "#open AWS connection to dynamodb server and get the required table objects\n",
      "conn = get_connection()\n",
      "\n",
      "schedule_table = Table('schedule',connection=conn)\n",
      "meta_table = Table('team_metadata',connection=conn)"
     ],
     "language": "python",
     "metadata": {},
     "outputs": [],
     "prompt_number": 7
    },
    {
     "cell_type": "code",
     "collapsed": false,
     "input": [
      "#now replace the team names with the ids in our database and add to database\n",
      "\n",
      "i=0 #SHOUDL ONLY BE ZERO BECAUSE THIS IS THE FIRST TIME WE'RE ADDING GAMES\n",
      "for game in game_dicts[:]:\n",
      "    # find the names of the home team and the away team in the metadata\n",
      "    home_team = list(meta_table.scan(comb_name__eq=game['home_team_id']))\n",
      "    away_team = list(meta_table.scan(comb_name__eq=game['away_team_id']))\n",
      "    if len(home_team) != 1 or len(away_team) != 1:\n",
      "        bad_list.append(\"Not good\")\n",
      "        print game['home_team_id'],game['away_team_id']\n",
      "    else:\n",
      "        #replace keys here\n",
      "        game['home_team_id'] = home_team[0]['team_id']\n",
      "        game['away_team_id'] = away_team[0]['team_id']\n",
      "        #add the primary index value\n",
      "        game['game_id'] = i\n",
      "        #put item in database\n",
      "        schedule_table.put_item(data=game,overwrite=True)\n",
      "        i+=1\n",
      "#report number of items added\n",
      "print \"Number of games added: \" + str(i)"
     ],
     "language": "python",
     "metadata": {},
     "outputs": [
      {
       "output_type": "stream",
       "stream": "stdout",
       "text": [
        "Number of games added: 182\n"
       ]
      }
     ],
     "prompt_number": 8
    },
    {
     "cell_type": "code",
     "collapsed": false,
     "input": [],
     "language": "python",
     "metadata": {},
     "outputs": []
    }
   ],
   "metadata": {}
  }
 ]
}