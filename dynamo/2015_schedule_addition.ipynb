{
 "metadata": {
  "name": "",
  "signature": "sha256:49c9bc239fa38429e9db74bd37677d21ec7ad0ec07a660f304c38637c41c5fe8"
 },
 "nbformat": 3,
 "nbformat_minor": 0,
 "worksheets": [
  {
   "cells": [
    {
     "cell_type": "code",
     "collapsed": false,
     "input": [
      "import csv\n",
      "from dynamo_conn import get_connection\n",
      "from boto.dynamodb2.table import Table\n",
      "from boto.dynamodb2.items import Item"
     ],
     "language": "python",
     "metadata": {},
     "outputs": [],
     "prompt_number": 1
    },
    {
     "cell_type": "code",
     "collapsed": false,
     "input": [
      "#open 2015 schedule file\n",
      "reader = csv.reader(open(\"../2015_Schedule.csv\",'rb'))"
     ],
     "language": "python",
     "metadata": {},
     "outputs": [],
     "prompt_number": 2
    },
    {
     "cell_type": "code",
     "collapsed": false,
     "input": [
      "#trim out a few of the keys we don't want\n",
      "keys = reader.next()\n",
      "print keys\n",
      "keys = keys[:7]\n",
      "print keys"
     ],
     "language": "python",
     "metadata": {},
     "outputs": [
      {
       "output_type": "stream",
       "stream": "stdout",
       "text": [
        "['Date', 'Time', 'AM/PM', 'TimeZone', 'Week #', 'Home Team', 'Away Team', 'Home Score', 'Away Score', 'Division', '', '']\n",
        "['Date', 'Time', 'AM/PM', 'TimeZone', 'Week #', 'Home Team', 'Away Team']\n"
       ]
      }
     ],
     "prompt_number": 3
    },
    {
     "cell_type": "code",
     "collapsed": false,
     "input": [
      "#create dicts for each row in the schedule file w/ the appropriate keys\n",
      "game_dicts=[]\n",
      "for game in reader:\n",
      "    #setup a dictionary of items\n",
      "    game_dict = {}\n",
      "    for i,key in enumerate(keys):\n",
      "        game_dict[key] = game[i].strip()\n",
      "    if game_dict['Date'] is not '': \n",
      "        game_dicts.append(game_dict)\n",
      "        \n",
      "        "
     ],
     "language": "python",
     "metadata": {},
     "outputs": [],
     "prompt_number": 4
    },
    {
     "cell_type": "code",
     "collapsed": false,
     "input": [
      "#Sanity check on the number of games (should be 182)\n",
      "print len(game_dicts)"
     ],
     "language": "python",
     "metadata": {},
     "outputs": [
      {
       "output_type": "stream",
       "stream": "stdout",
       "text": [
        "182\n"
       ]
      }
     ],
     "prompt_number": 5
    },
    {
     "cell_type": "code",
     "collapsed": false,
     "input": [
      "#open AWS connection to dynamodb server and get the required table objects\n",
      "conn = get_connection()\n",
      "games_table = Table('games',connection=conn)\n",
      "meta_table = Table('team_metadata',connection=conn)"
     ],
     "language": "python",
     "metadata": {},
     "outputs": [],
     "prompt_number": 6
    },
    {
     "cell_type": "code",
     "collapsed": false,
     "input": [
      "#now replace the team names with the ids in our database and add to database\n",
      "\n",
      "i=0 #SHOUDL ONLY BE ZERO BECAUSE THIS IS THE FIRST TIME WE'RE ADDING GAMES\n",
      "for game in game_dicts[:]:\n",
      "    # find the names of the home team and the away team in the metadata\n",
      "    home_team = list(meta_table.scan(comb_name__eq=game['Home Team']))\n",
      "    away_team = list(meta_table.scan(comb_name__eq=game['Away Team']))\n",
      "    if len(home_team) == 0 or len(away_team) == 0:\n",
      "        bad_list.append(\"Not good\")\n",
      "        print game['Home Team'],game['Away Team']\n",
      "    #should find exactly one value for each team\n",
      "    if len(home_team) == 1 and len(away_team) == 1:\n",
      "        #replace keys here\n",
      "        game['Home Team'] = home_team[0]['team_id']\n",
      "        game['Away Team'] = away_team[0]['team_id']\n",
      "        #add the primary index value\n",
      "        game['game_id'] = i\n",
      "        #put item in database\n",
      "        games_table.put_item(data=game,overwrite=True)\n",
      "        i+=1\n",
      "#report number of items added\n",
      "print \"Number of games added: \" + str(i)"
     ],
     "language": "python",
     "metadata": {},
     "outputs": [
      {
       "output_type": "stream",
       "stream": "stdout",
       "text": [
        "Number of games added: 182\n"
       ]
      }
     ],
     "prompt_number": 7
    },
    {
     "cell_type": "code",
     "collapsed": false,
     "input": [],
     "language": "python",
     "metadata": {},
     "outputs": []
    }
   ],
   "metadata": {}
  }
 ]
}