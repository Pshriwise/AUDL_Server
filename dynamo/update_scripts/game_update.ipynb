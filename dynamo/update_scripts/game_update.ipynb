{
 "metadata": {
  "name": "",
  "signature": "sha256:78ef36bfe75bfb50ccbeebf792879936f8bcbcb1facd485f8b7e4c88983b0b9a"
 },
 "nbformat": 3,
 "nbformat_minor": 0,
 "worksheets": [
  {
   "cells": [
    {
     "cell_type": "code",
     "collapsed": false,
     "input": [
      "base_url = \"http://www.ultianalytics.com/rest/view/\"\n",
      "import sys\n",
      "sys.path.insert(0,'..')\n",
      "import urllib2\n",
      "import json\n",
      "from ast import literal_eval\n",
      "from datetime import datetime\n",
      "from dynamo_conn import get_connection\n",
      "from boto.dynamodb2.table import Table"
     ],
     "language": "python",
     "metadata": {},
     "outputs": [],
     "prompt_number": 1
    },
    {
     "cell_type": "code",
     "collapsed": false,
     "input": [
      "def update_game(ua_team_id,game_hash):\n",
      "    \"\"\"Updates the raw game data for a team. If the game doesn't exist in our database it will be created.\"\"\"\n",
      "\n",
      "    timestamp_format = '%Y-%m-%d %H:%M'\n",
      "    conn = get_connection()\n",
      "    game_table = Table('raw_game_data', connection = conn)\n",
      "    query = list(game_table.query(game_id__eq = game_hash))\n",
      "\n",
      "    if len(query) != 1: \n",
      "        print \"Multiple games found for \" + game_hash + \" for team \" + str(ua_team_id) + \". Aborting update for this game.\"\n",
      "        #return\n",
      "\n",
      "    db_game_data = literal_eval(query[0]['data'])\n",
      "    db_timestamp = datetime.strptime(db_game_data['timestamp'],timestamp_format)\n",
      "\n",
      "\n",
      "    req = urllib2.Request('http://www.ultianalytics.com/rest/view/team/' + str(ua_team_id) + '/game/' + game_hash)\n",
      "    response = urllib2.urlopen(req,timeout=10)\n",
      "    game_data = json.loads(response.read())\n",
      "    game_data_timestamp = datetime.strptime(game_data['timestamp'],timestamp_format)    \n",
      "\n",
      "\n",
      "    if (game_data_timestamp - db_timestamp).total_seconds() > 0:\n",
      "        print \"Updating game.\"\n",
      "        game_table.put_item(data = {'game_id':game_hash, 'data':str(game_data)},overwrite = True)\n",
      "    else:\n",
      "        print \"Retrieved game data is older than existing data. Doing nothing.\"\n"
     ],
     "language": "python",
     "metadata": {},
     "outputs": [],
     "prompt_number": 2
    },
    {
     "cell_type": "code",
     "collapsed": false,
     "input": [
      "update_game(5674069752020992,'game-53abaaef-07d2-4e51-a9de-ae1791b2ef0e')"
     ],
     "language": "python",
     "metadata": {},
     "outputs": [
      {
       "output_type": "stream",
       "stream": "stdout",
       "text": [
        "Retrieved game data is older than existing data. Doing nothing.\n"
       ]
      }
     ],
     "prompt_number": 3
    },
    {
     "cell_type": "code",
     "collapsed": false,
     "input": [],
     "language": "python",
     "metadata": {},
     "outputs": []
    }
   ],
   "metadata": {}
  }
 ]
}