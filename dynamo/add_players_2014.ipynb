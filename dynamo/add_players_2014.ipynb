{
 "metadata": {
  "name": "",
  "signature": "sha256:e1ee98b875adcffd44bcbceb8d4238946e975652e8621e1fde32a60822e3705f"
 },
 "nbformat": 3,
 "nbformat_minor": 0,
 "worksheets": [
  {
   "cells": [
    {
     "cell_type": "code",
     "collapsed": false,
     "input": [
      "import json\n",
      "from dynamo_conn import get_connection\n",
      "from boto.dynamodb2.table import Table"
     ],
     "language": "python",
     "metadata": {},
     "outputs": [],
     "prompt_number": 1
    },
    {
     "cell_type": "code",
     "collapsed": false,
     "input": [
      "players = json.loads(open('../2014_players.json','r').read())"
     ],
     "language": "python",
     "metadata": {},
     "outputs": [],
     "prompt_number": 2
    },
    {
     "cell_type": "code",
     "collapsed": false,
     "input": [
      "#correct any keys in the players info\n",
      "data_items = []\n",
      "for player in players: \n",
      "    player_dict = {}\n",
      "    for key in player.keys():\n",
      "        if key == 'Player Last Name':\n",
      "            new_key = '_'.join(key.strip().split()).lower()\n",
      "            player_dict[new_key.strip()] = player[key].strip()\n",
      "        if key == 'Player First Name':\n",
      "            new_key = '_'.join(key.strip().split()).lower()\n",
      "            player_dict[new_key.strip()] = player[key].strip()\n",
      "    data_items.append(player_dict)"
     ],
     "language": "python",
     "metadata": {},
     "outputs": [],
     "prompt_number": 3
    },
    {
     "cell_type": "code",
     "collapsed": false,
     "input": [
      "#get the players table from the database\n",
      "dbconnection = get_connection()\n",
      "players_table = Table('players',connection=dbconnection)"
     ],
     "language": "python",
     "metadata": {},
     "outputs": [],
     "prompt_number": 4
    },
    {
     "cell_type": "code",
     "collapsed": false,
     "input": [
      "#add players to table only if their first and last name don't already exist\n",
      "all_current_players = list(players_table.scan())\n",
      "max_id = max([player['player_id'] for player in all_current_players])\n",
      "id = max_id+1\n",
      "counter = 0\n",
      "for item in data_items:\n",
      "    #if we can't find a player with the same name, add them\n",
      "    if len(list(players_table.scan(player_last_name__eq = item['player_last_name'],player_first_name__eq=item['player_first_name']))) == 0:\n",
      "        item['player_id'] = id\n",
      "        id+=1\n",
      "        counter+=1\n",
      "        players_table.put_item(item)\n",
      "print \"Found \", counter, \"players to add\""
     ],
     "language": "python",
     "metadata": {},
     "outputs": [
      {
       "output_type": "stream",
       "stream": "stdout",
       "text": [
        "Found  265 players to add\n"
       ]
      }
     ],
     "prompt_number": 5
    },
    {
     "cell_type": "code",
     "collapsed": false,
     "input": [],
     "language": "python",
     "metadata": {},
     "outputs": []
    }
   ],
   "metadata": {}
  }
 ]
}