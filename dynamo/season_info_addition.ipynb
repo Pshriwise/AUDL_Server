{
 "metadata": {
  "name": ""
 },
 "nbformat": 3,
 "nbformat_minor": 0,
 "worksheets": [
  {
   "cells": [
    {
     "cell_type": "code",
     "collapsed": false,
     "input": [
      "import dynamo_conn\n",
      "import csv\n",
      "from boto.dynamodb2.table import Table\n",
      "from boto.dynamodb2.types import NUMBER\n",
      "from boto.dynamodb2.fields import HashKey,RangeKey"
     ],
     "language": "python",
     "metadata": {},
     "outputs": [],
     "prompt_number": 1
    },
    {
     "cell_type": "code",
     "collapsed": false,
     "input": [
      "#Create connection to dynamodb\n",
      "conn = dynamo_conn.get_connection()"
     ],
     "language": "python",
     "metadata": {},
     "outputs": [],
     "prompt_number": 2
    },
    {
     "cell_type": "code",
     "collapsed": false,
     "input": [
      "#Create a new table (commented, don't want to do this every time)\n",
      "#table = Table.create('seasonal_team_info',schema=[HashKey('team_id',data_type=NUMBER),RangeKey('season',data_type=NUMBER)],throughput={'read':25,'write':25},connection=conn)\n",
      "#conn.delete_table('seasonal_team_info')"
     ],
     "language": "python",
     "metadata": {},
     "outputs": [],
     "prompt_number": 3
    },
    {
     "cell_type": "code",
     "collapsed": false,
     "input": [
      "#Grab the team_metadata table from db\n",
      "metadata = Table('team_metadata',connection=conn)\n",
      "#Grab the season info table from db (assume we aren't creating it in this instance)\n",
      "seasonal_data = Table('seasonal_team_info',connection=conn)"
     ],
     "language": "python",
     "metadata": {},
     "outputs": [],
     "prompt_number": 4
    },
    {
     "cell_type": "code",
     "collapsed": false,
     "input": [
      "#Get the google doc for the 2015 season\n",
      "season = '2015'\n",
      "reader = csv.reader(open('2015_Team_Info.csv','rb'))\n",
      "keys = reader.next()\n",
      "print keys"
     ],
     "language": "python",
     "metadata": {},
     "outputs": [
      {
       "output_type": "stream",
       "stream": "stdout",
       "text": [
        "['City', 'Team Names', 'Combined Names', 'Divison', 'Team ID', 'Abbreviations']\n"
       ]
      }
     ],
     "prompt_number": 5
    },
    {
     "cell_type": "code",
     "collapsed": false,
     "input": [
      "#For every team in the .csv, find its corresponding team_id using it's name and create an entry for it in the season table\n",
      "for row in reader:\n",
      "    dict = { key:row[i] for i,key in enumerate(keys)}\n",
      "    result = list(metadata.scan(name__eq=dict['Team Names']))\n",
      "    if len(result) == 1:\n",
      "        #Create a new entry for the team using that item's team_id and the row's UA id and Division\n",
      "        if dict['Team ID'] is not '':\n",
      "            data = {'team_id': result[0]['team_id'], 'season':int(season), 'division':dict['Divison'],'ua_id':int(dict['Team ID'])}\n",
      "            print data\n",
      "            #seasonal_data.put_item(data=data,overwrite=True)\n",
      "    else:\n",
      "        print \"Error, could not find team\"\n",
      "        print dict['Combined Names']\n",
      "        break"
     ],
     "language": "python",
     "metadata": {},
     "outputs": [
      {
       "output_type": "stream",
       "stream": "stdout",
       "text": [
        "{'season': 2015, 'team_id': Decimal('17'), 'ua_id': 5708939920408576, 'division': 'South'}\n",
        "{'season': 2015, 'team_id': Decimal('18'), 'ua_id': 5643517367943168, 'division': 'South'}\n",
        "{'season': 2015, 'team_id': Decimal('0'), 'ua_id': 5671536392404992, 'division': 'Midwest'}"
       ]
      },
      {
       "output_type": "stream",
       "stream": "stdout",
       "text": [
        "\n",
        "{'season': 2015, 'team_id': Decimal('1'), 'ua_id': 5674069752020992, 'division': 'Midwest'}\n",
        "{'season': 2015, 'team_id': Decimal('2'), 'ua_id': 5635093192245248, 'division': 'East'}\n",
        "{'season': 2015, 'team_id': Decimal('3'), 'ua_id': 5738275486564352, 'division': 'Midwest'}"
       ]
      },
      {
       "output_type": "stream",
       "stream": "stdout",
       "text": [
        "\n",
        "{'season': 2015, 'team_id': Decimal('4'), 'ua_id': 5724822843686912, 'division': 'Midwest'}\n",
        "{'season': 2015, 'team_id': Decimal('19'), 'ua_id': 5633494390669312, 'division': 'South'}\n",
        "{'season': 2015, 'team_id': Decimal('20'), 'ua_id': 5118639615246336, 'division': 'West'}"
       ]
      },
      {
       "output_type": "stream",
       "stream": "stdout",
       "text": [
        "\n",
        "{'season': 2015, 'team_id': Decimal('5'), 'ua_id': 5070544437248000, 'division': 'Midwest'}\n",
        "{'season': 2015, 'team_id': Decimal('6'), 'ua_id': 5683257223938048, 'division': 'Midwest'}\n",
        "{'season': 2015, 'team_id': Decimal('7'), 'ua_id': 5753050442498048, 'division': 'East'}\n",
        "{'season': 2015, 'team_id': Decimal('21'), 'ua_id': 5705718560718848, 'division': 'South'}"
       ]
      },
      {
       "output_type": "stream",
       "stream": "stdout",
       "text": [
        "\n",
        "{'season': 2015, 'team_id': Decimal('8'), 'ua_id': 5704221898833920, 'division': 'East'}\n",
        "{'season': 2015, 'team_id': Decimal('22'), 'ua_id': 5751646390845440, 'division': 'East'}"
       ]
      },
      {
       "output_type": "stream",
       "stream": "stdout",
       "text": [
        "\n",
        "{'season': 2015, 'team_id': Decimal('9'), 'ua_id': 5641462360309760, 'division': 'East'}\n",
        "{'season': 2015, 'team_id': Decimal('23'), 'ua_id': 5651757665353728, 'division': 'Midwest'}"
       ]
      },
      {
       "output_type": "stream",
       "stream": "stdout",
       "text": [
        "\n",
        "{'season': 2015, 'team_id': Decimal('24'), 'ua_id': 5684793748488192, 'division': 'South'}\n",
        "{'season': 2015, 'team_id': Decimal('10'), 'ua_id': 5670377556541440, 'division': 'East'}\n",
        "{'season': 2015, 'team_id': Decimal('26'), 'ua_id': 5734743547052032, 'division': 'West'}"
       ]
      },
      {
       "output_type": "stream",
       "stream": "stdout",
       "text": [
        "\n",
        "{'season': 2015, 'team_id': Decimal('12'), 'ua_id': 5758048710688768, 'division': 'West'}\n",
        "{'season': 2015, 'team_id': Decimal('13'), 'ua_id': 5722152447770624, 'division': 'West'}\n",
        "{'season': 2015, 'team_id': Decimal('25'), 'ua_id': 5681589568667648, 'division': 'West'}"
       ]
      },
      {
       "output_type": "stream",
       "stream": "stdout",
       "text": [
        "\n",
        "{'season': 2015, 'team_id': Decimal('15'), 'ua_id': 5754980359208960, 'division': 'East'}\n",
        "{'season': 2015, 'team_id': Decimal('16'), 'ua_id': 5701751084679168, 'division': 'West'}\n"
       ]
      }
     ],
     "prompt_number": 6
    },
    {
     "cell_type": "code",
     "collapsed": false,
     "input": [
      "#Now do the same for the 2014 season\n",
      "season = '2014'\n",
      "reader = csv.reader(open('2014_Team_Info.csv','rb'))\n",
      "keys = reader.next()\n",
      "print keys"
     ],
     "language": "python",
     "metadata": {},
     "outputs": [
      {
       "output_type": "stream",
       "stream": "stdout",
       "text": [
        "['City', 'Team Names', 'Combined Names', 'Divison', 'Team ID', 'Abbreviations']\n"
       ]
      }
     ],
     "prompt_number": 7
    },
    {
     "cell_type": "code",
     "collapsed": false,
     "input": [
      "#For every team in the .csv, find its corresponding team_id using it's name and create an entry for it in the season table\n",
      "for row in reader:\n",
      "    dict = { key:row[i] for i,key in enumerate(keys)}\n",
      "    result = list(metadata.scan(name__eq=dict['Team Names']))\n",
      "    if len(result) == 1:\n",
      "        #Create a new entry for the team using that item's team_id and the row's UA id and Division\n",
      "        if dict['Team ID'] is not '':\n",
      "            data = {'team_id': result[0]['team_id'], 'season':int(season), 'division':dict['Divison'],'ua_id':int(dict['Team ID'])}\n",
      "            print data\n",
      "            #seasonal_data.put_item(data=data,overwrite=True)\n",
      "    else:\n",
      "        print \"Error, could not find team\"\n",
      "        print dict['Combined Names']\n",
      "        break"
     ],
     "language": "python",
     "metadata": {},
     "outputs": [
      {
       "output_type": "stream",
       "stream": "stdout",
       "text": [
        "{'season': 2014, 'team_id': Decimal('0'), 'ua_id': 5471866718257152, 'division': 'Midwestern'}\n",
        "{'season': 2014, 'team_id': Decimal('1'), 'ua_id': 5732910535540736, 'division': 'Midwestern'}"
       ]
      },
      {
       "output_type": "stream",
       "stream": "stdout",
       "text": [
        "\n",
        "{'season': 2014, 'team_id': Decimal('2'), 'ua_id': 4868028676177920, 'division': 'Eastern'}"
       ]
      },
      {
       "output_type": "stream",
       "stream": "stdout",
       "text": [
        "\n",
        "{'season': 2014, 'team_id': Decimal('3'), 'ua_id': 5684961520648192, 'division': 'Midwestern'}"
       ]
      },
      {
       "output_type": "stream",
       "stream": "stdout",
       "text": [
        "\n",
        "{'season': 2014, 'team_id': Decimal('4'), 'ua_id': 5075454121738240, 'division': 'Midwestern'}"
       ]
      },
      {
       "output_type": "stream",
       "stream": "stdout",
       "text": [
        "\n",
        "{'season': 2014, 'team_id': Decimal('5'), 'ua_id': 5182111044599808, 'division': 'Midwestern'}\n",
        "{'season': 2014, 'team_id': Decimal('6'), 'ua_id': 5638404075159552, 'division': 'Midwestern'}"
       ]
      },
      {
       "output_type": "stream",
       "stream": "stdout",
       "text": [
        "\n",
        "{'season': 2014, 'team_id': Decimal('7'), 'ua_id': 5753341694967808, 'division': 'Eastern'}\n",
        "{'season': 2014, 'team_id': Decimal('8'), 'ua_id': 6220853180104704, 'division': 'Eastern'}"
       ]
      },
      {
       "output_type": "stream",
       "stream": "stdout",
       "text": [
        "\n",
        "{'season': 2014, 'team_id': Decimal('9'), 'ua_id': 5663684521099264, 'division': 'Eastern'}\n",
        "{'season': 2014, 'team_id': Decimal('10'), 'ua_id': 5724681378201600, 'division': 'Eastern'}"
       ]
      },
      {
       "output_type": "stream",
       "stream": "stdout",
       "text": [
        "\n",
        "{'season': 2014, 'team_id': Decimal('11'), 'ua_id': 5716606839685120, 'division': 'Western'}\n",
        "{'season': 2014, 'team_id': Decimal('12'), 'ua_id': 5094953273262080, 'division': 'Western'}"
       ]
      },
      {
       "output_type": "stream",
       "stream": "stdout",
       "text": [
        "\n",
        "{'season': 2014, 'team_id': Decimal('13'), 'ua_id': 6597766625099776, 'division': 'Western'}\n",
        "{'season': 2014, 'team_id': Decimal('14'), 'ua_id': 5648334039547904, 'division': 'Western'}"
       ]
      },
      {
       "output_type": "stream",
       "stream": "stdout",
       "text": [
        "\n",
        "{'season': 2014, 'team_id': Decimal('15'), 'ua_id': 5131065358286848, 'division': 'Eastern'}\n",
        "{'season': 2014, 'team_id': Decimal('16'), 'ua_id': 6226234774126592, 'division': 'Western'}"
       ]
      },
      {
       "output_type": "stream",
       "stream": "stdout",
       "text": [
        "\n"
       ]
      }
     ],
     "prompt_number": 8
    },
    {
     "cell_type": "code",
     "collapsed": false,
     "input": [],
     "language": "python",
     "metadata": {},
     "outputs": []
    }
   ],
   "metadata": {}
  }
 ]
}