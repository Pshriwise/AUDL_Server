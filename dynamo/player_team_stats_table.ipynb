{
 "metadata": {
  "name": "",
  "signature": "sha256:4f96366c9f8b093520fa11accda6e6638f80c7f41cd9f8418e80344500a65926"
 },
 "nbformat": 3,
 "nbformat_minor": 0,
 "worksheets": [
  {
   "cells": [
    {
     "cell_type": "code",
     "collapsed": false,
     "input": [
      "from subprocess import call\n",
      "import csv\n",
      "import urllib2\n",
      "import json\n",
      "from dynamo_conn import get_connection\n",
      "from boto.dynamodb2.table import Table\n",
      "from boto.dynamodb2.items import Item\n",
      "from boto.dynamodb2.fields import RangeKey,HashKey,GlobalAllIndex\n",
      "from boto.dynamodb2.types import NUMBER"
     ],
     "language": "python",
     "metadata": {},
     "outputs": [],
     "prompt_number": 1
    },
    {
     "cell_type": "code",
     "collapsed": false,
     "input": [
      "dbconnection = get_connection()"
     ],
     "language": "python",
     "metadata": {},
     "outputs": [],
     "prompt_number": 2
    },
    {
     "cell_type": "code",
     "collapsed": false,
     "input": [
      "base_url = 'https://docs.google.com/spreadsheets/d/'\n",
      "spreadsheet_key = '1Qkup3uHxKgsuLgOJQ-L9S-YoTa5zNp3mu4SPk9abvKY'\n",
      "Rosters_gid = '1948201024'\n",
      "Rosters_filename = '2015_Players.csv'\n",
      "\n",
      "#get the csv of the sheet\n",
      "call([\"wget\" , '-O' , Rosters_filename, base_url+spreadsheet_key+ '/export?format=csv&gid=' + Rosters_gid])\n",
      "    \n",
      "#open the csv file\n",
      "players = csv.reader(open(Rosters_filename, 'rb'))\n",
      "\n",
      "#Establish keys\n",
      "keys = players.next()\n",
      "\n",
      "#Format keys properly\n",
      "new_keys=[]\n",
      "for key in keys: \n",
      "    key = key.lower().strip().replace(' ','_')\n",
      "    #exceptions\n",
      "    if key == 'week_#':\n",
      "        key ='week'\n",
      "    if key[-4:] == 'team':\n",
      "        key+='_id'\n",
      "    new_keys.append(key)\n",
      "\n",
      "keys = new_keys\n",
      "\n",
      "#make into a list of dictionaries\n",
      "players_arr = []\n",
      "\n",
      "for player in players:\n",
      "    d = {}\n",
      "    if player[2] is not '':\n",
      "        for item,key in zip(player,new_keys):\n",
      "            d[key] = item\n",
      "        players_arr.append(d)\n",
      "    "
     ],
     "language": "python",
     "metadata": {},
     "outputs": [],
     "prompt_number": 3
    },
    {
     "cell_type": "code",
     "collapsed": false,
     "input": [
      "#grab tables we need\n",
      "players_table = Table('players',connection=dbconnection)\n",
      "teams_table = Table('team_metadata',connection=dbconnection)\n",
      "season_table = Table('seasonal_team_info',connection=dbconnection)"
     ],
     "language": "python",
     "metadata": {},
     "outputs": [],
     "prompt_number": 4
    },
    {
     "cell_type": "code",
     "collapsed": false,
     "input": [
      "season = 2015"
     ],
     "language": "python",
     "metadata": {},
     "outputs": [],
     "prompt_number": 5
    },
    {
     "cell_type": "code",
     "collapsed": false,
     "input": [
      "#create a new table for the player season stats\n",
      "#Check to see if our table already exists\n",
      "if 'player_team_stats' not in dbconnection.list_tables()['TableNames']:\n",
      "    print \"Player team stats table not in database. Creating....\"\n",
      "    player_team_stats = Table.create('player_team_stats', schema=[HashKey('player_id',data_type=NUMBER),RangeKey('team_id',data_type=NUMBER)],global_indexes=[GlobalAllIndex('seasons_index',parts=[HashKey('season',data_type=NUMBER),])],throughput={'read':25,'write':25},connection=dbconnection)\n",
      "    print \"Done\"\n",
      "else:\n",
      "    player_table = Table('player_team_stats',connection=dbconnection)\n"
     ],
     "language": "python",
     "metadata": {},
     "outputs": [],
     "prompt_number": 7
    },
    {
     "cell_type": "code",
     "collapsed": true,
     "input": [
      "base_url = \"http://www.ultianalytics.com/rest/view/team/\"\n",
      "stat_extension = \"/stats/all\"\n",
      "roster_extension = \"/players/\"\n",
      "all_team_player_stats = {}\n",
      "all_team_rosters = {}\n",
      "for team in list(season_table.scan(season__eq = season)):\n",
      "    req = urllib2.Request(base_url+str(team['ua_id'])+stat_extension)\n",
      "    response = urllib2.urlopen(req,timeout=10)\n",
      "    team_player_data = json.loads(response.read())\n",
      "    team_player_stats = team_player_data['playerStats']\n",
      "    all_team_player_stats[team['ua_id']] = team_player_stats\n",
      "\n",
      "    req = urllib2.Request(base_url+str(team['ua_id'])+roster_extension)\n",
      "    response = urllib2.urlopen(req,timeout=10)\n",
      "    roster_data = json.loads(response.read())\n",
      "    all_team_rosters[team['ua_id']] = roster_data\n",
      "    \n",
      "    "
     ],
     "language": "python",
     "metadata": {},
     "outputs": [],
     "prompt_number": 8
    },
    {
     "cell_type": "code",
     "collapsed": true,
     "input": [
      "for player in players_arr: \n",
      "    #lookup team id for this season\n",
      "    team = list(teams_table.scan(comb_name__eq = player['team_name']))\n",
      "    assert(len(team) == 1)\n",
      "    team_id = team[0]['team_id']\n",
      "    #lookup ua team id for this season\n",
      "    ua_id = list(season_table.scan(team_id__eq = team_id, season__eq = season))    \n",
      "    assert(len(ua_id) == 1)\n",
      "    ua_id = ua_id[0]['ua_id']\n",
      "        \n",
      "    #and now for the player id\n",
      "    candidate_players = list(players_table.scan(player_first_name__eq=player['player_first_name'],player_last_name__eq=player['player_last_name']))\n",
      "    if len(candidate_players) is not 1:\n",
      "        print player\n",
      "    assert(len(candidate_players) == 1)\n",
      "    player_id = candidate_players[0]['player_id']\n",
      "    \n",
      "    current_nickname = ''\n",
      "    for person in all_team_rosters[ua_id]:\n",
      "        #print person['number'],int(player['number']), player, person\n",
      "        if person['number'] is not u'' and int(person['number']) == int(player['number']):\n",
      "            current_nickname = person['name']\n",
      "\n",
      "    #grab the stats for that team\n",
      "    stats = all_team_player_stats[ua_id]\n",
      "    this_guys_stats = {}\n",
      "    for stat_set in stats:     \n",
      "        if stat_set['playerName'] == current_nickname:\n",
      "            this_guys_stats = dict(stat_set)\n",
      "    if len(this_guys_stats) is not 0:\n",
      "         try:\n",
      "             del this_guys_stats['playerName']\n",
      "         except:\n",
      "             print player, this_guys_stats\n",
      "             raise KeyError\n",
      "     #setup data to send to database\n",
      "    data = {'player_id':player_id,'team_id':team_id,'last_known_nickname':current_nickname,'season':season,'team_stats':this_guys_stats}\n"
     ],
     "language": "python",
     "metadata": {},
     "outputs": [],
     "prompt_number": 9
    },
    {
     "cell_type": "code",
     "collapsed": false,
     "input": [],
     "language": "python",
     "metadata": {},
     "outputs": []
    }
   ],
   "metadata": {}
  }
 ]
}